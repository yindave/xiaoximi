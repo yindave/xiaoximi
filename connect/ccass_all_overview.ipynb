{
 "cells": [
  {
   "cell_type": "code",
   "execution_count": 46,
   "id": "3a5b2895-db60-4b4e-af56-72ddc26dc4d8",
   "metadata": {},
   "outputs": [
    {
     "data": {
      "text/html": [
       "<style type='text/css'>\n",
       ".datatable table.frame { margin-bottom: 0; }\n",
       ".datatable table.frame thead { border-bottom: none; }\n",
       ".datatable table.frame tr.coltypes td {  color: #FFFFFF;  line-height: 6px;  padding: 0 0.5em;}\n",
       ".datatable .bool    { background: #DDDD99; }\n",
       ".datatable .object  { background: #565656; }\n",
       ".datatable .int     { background: #5D9E5D; }\n",
       ".datatable .float   { background: #4040CC; }\n",
       ".datatable .str     { background: #CC4040; }\n",
       ".datatable .time    { background: #40CC40; }\n",
       ".datatable .row_index {  background: var(--jp-border-color3);  border-right: 1px solid var(--jp-border-color0);  color: var(--jp-ui-font-color3);  font-size: 9px;}\n",
       ".datatable .frame tbody td { text-align: left; }\n",
       ".datatable .frame tr.coltypes .row_index {  background: var(--jp-border-color0);}\n",
       ".datatable th:nth-child(2) { padding-left: 12px; }\n",
       ".datatable .hellipsis {  color: var(--jp-cell-editor-border-color);}\n",
       ".datatable .vellipsis {  background: var(--jp-layout-color0);  color: var(--jp-cell-editor-border-color);}\n",
       ".datatable .na {  color: var(--jp-cell-editor-border-color);  font-size: 80%;}\n",
       ".datatable .sp {  opacity: 0.25;}\n",
       ".datatable .footer { font-size: 9px; }\n",
       ".datatable .frame_dimensions {  background: var(--jp-border-color3);  border-top: 1px solid var(--jp-border-color0);  color: var(--jp-ui-font-color3);  display: inline-block;  opacity: 0.6;  padding: 1px 10px 1px 5px;}\n",
       "</style>\n"
      ],
      "text/plain": [
       "<IPython.core.display.HTML object>"
      ]
     },
     "metadata": {},
     "output_type": "display_data"
    }
   ],
   "source": [
    "import pandas as pd\n",
    "import numpy as np\n",
    "import utilities.misc as um\n",
    "import utilities.constants as uc\n",
    "import pdb\n",
    "from blp.bdx import bdh,bdp,bds\n",
    "from fql.fql import Factset_Query\n",
    "from fql.util import bbg_to_fs, fs_to_bbg,fql_date\n",
    "from blp.util import get_bbg_usual_col, group_marcap,get_ashare_exchange,load_compo\n",
    "import feather\n",
    "import os\n",
    "\n",
    "#plotly related\n",
    "import plotly.graph_objects as go\n",
    "from plotly.subplots import make_subplots\n",
    "import utilities.display as ud\n",
    "\n",
    "from datetime import datetime\n",
    "\n",
    "import utilities.mathematics as umath\n",
    "\n",
    "from joblib import load, dump\n",
    "\n",
    "import matplotlib.pyplot as plt\n",
    "\n",
    "import datatable as dt\n",
    "from datatable import f,by,sort,join,shift,ifelse\n",
    "dt.init_styles()"
   ]
  },
  {
   "cell_type": "code",
   "execution_count": 2,
   "id": "22b2ca48-a62a-479c-b5cf-97ab4bdbe3c5",
   "metadata": {},
   "outputs": [],
   "source": [
    "path=uc.root_path_data+'\\\\connect\\ccass_all\\\\'\n",
    "universe=pd.read_excel(path+'full_eqs_hk_static.xlsx')\n",
    "\n",
    "cols_to_numeric=['marcap_busd','adv_3m_musd','float']\n",
    "for col in cols_to_numeric:\n",
    "    universe[col]=pd.to_numeric(universe[col])\n",
    "    \n",
    "cols_to_na=list(set(universe.columns.tolist())-set(cols_to_numeric))\n",
    "for col in cols_to_na:\n",
    "    universe[col]=universe[col].fillna('na')\n",
    "    "
   ]
  },
  {
   "cell_type": "code",
   "execution_count": 3,
   "id": "cc6ca9bf-9bdb-4df1-be3a-b621394a0821",
   "metadata": {},
   "outputs": [],
   "source": [
    "# # get some bbg data\n",
    "# px_data=bdh(universe['ticker'].tolist(),['PX_LAST'],datetime(2022,1,1),um.today_date(),adjustmentFollowDPDF=False)\n",
    "# feather.write_dataframe(px_data.reset_index(),path+'px_data.feather')"
   ]
  },
  {
   "cell_type": "code",
   "execution_count": 4,
   "id": "bd68f145-5e72-45bd-be37-60a71077bbc7",
   "metadata": {},
   "outputs": [],
   "source": [
    "# # collect and dump\n",
    "# files_all=um.iterate_csv(path+'data_raw\\\\',iterate_others=[True,'.feather'])\n",
    "# collector=[]\n",
    "# for file_i in files_all:\n",
    "#     collector.append(feather.read_dataframe(path+'data_raw//%s.feather' % (file_i)))\n",
    "# data_raw=pd.concat(collector)\n",
    "# feather.write_dataframe(data_raw,path+'data_raw.feather')"
   ]
  },
  {
   "cell_type": "code",
   "execution_count": 5,
   "id": "57ce2df3-f20e-4017-9e76-802b26035178",
   "metadata": {},
   "outputs": [],
   "source": [
    "# some datatable operation\n",
    "data_raw_dt=dt.Frame(feather.read_dataframe(path+'data_raw.feather'))\n",
    "universe_dt=dt.Frame(universe)\n",
    "px_data_dt=dt.Frame(feather.read_dataframe(path+'px_data.feather'))"
   ]
  },
  {
   "cell_type": "code",
   "execution_count": 6,
   "id": "35f12204-d76f-4a4f-99b7-f71db300f6d4",
   "metadata": {},
   "outputs": [],
   "source": [
    "# calculate some stats\n",
    "\n",
    "universe_dt.key=['ticker']\n",
    "data=data_raw_dt[:,:,join(universe_dt)]\n",
    "\n",
    "px_data_dt.key=['date','ticker']\n",
    "data=data[:,:,join(px_data_dt)]\n",
    "\n",
    "data['hld_value_musd']=data[:,f['PX_LAST']*f['shares']/7.85/1000000]\n",
    "data=data[:,:,sort(['ticker','ccass_id','ccass_name','date'])]\n",
    "data=data[:,f[:].extend({'hld_value_musd_chg':(f['shares']-dt.shift(f['shares']))*f['PX_LAST']/7.85/1000000 }), by(['ticker','ccass_id','ccass_name']) ]\n",
    "\n",
    "size_quintile=data[:,dt.last(f['marcap_busd']),by('ticker')][:,f[:].extend({'size_q':dt.qcut(f['marcap_busd'],nquantiles=10)})]\n",
    "del size_quintile[:,'marcap_busd']\n",
    "size_quintile.key=['ticker']\n",
    "data=data[:,:,join(size_quintile)]\n",
    "data['size_q']=data[:,f['size_q']+1]\n",
    "\n",
    "data['hld_value_musd_chg']=ifelse(f['hld_value_musd_chg']==None,0,f['hld_value_musd_chg']) \n",
    "# this can also be used through by, e.g. data[:,ifelse(f['hld_value_musd_chg']==None,0,f['hld_value_musd_chg']),by(['ccass_id','date'])]\n",
    "data['is_hld_chg']=ifelse(f['hld_value_musd_chg']==0,0,1)\n",
    "\n",
    "\n"
   ]
  },
  {
   "cell_type": "markdown",
   "id": "a06d2a65-48a9-48b7-a612-c712b5bb0a87",
   "metadata": {},
   "source": [
    "# Some other quite interesting func\n",
    "- datatable.str.split_into_nhot\n",
    "- the g func https://datatable.readthedocs.io/en/latest/api/dt/join.html\n",
    "- print(data.types)\n",
    "- convert type https://datatable.readthedocs.io/en/latest/api/dt/as_type.html"
   ]
  },
  {
   "cell_type": "code",
   "execution_count": 7,
   "id": "47a0ab16-cfe6-4368-b1ef-7d99172639f6",
   "metadata": {},
   "outputs": [],
   "source": [
    "ccass_freq=data[:,{'freq':dt.sum(f['is_hld_chg'])/dt.count(f['is_hld_chg']),'ccass_id':dt.last(f['ccass_id'])},by(['ccass_name','ticker'])].to_pandas()"
   ]
  },
  {
   "cell_type": "code",
   "execution_count": 30,
   "id": "f43e4051-ab45-4556-ab8c-fb129785ee96",
   "metadata": {},
   "outputs": [
    {
     "data": {
      "text/plain": [
       "(stype.str32,\n",
       " stype.str32,\n",
       " stype.str32,\n",
       " stype.float64,\n",
       " stype.float64,\n",
       " stype.time64,\n",
       " stype.str32,\n",
       " stype.float64,\n",
       " stype.float64,\n",
       " stype.float64,\n",
       " stype.str32,\n",
       " stype.str32,\n",
       " stype.str32,\n",
       " stype.float64,\n",
       " stype.float64,\n",
       " stype.float64,\n",
       " stype.int32,\n",
       " stype.int32)"
      ]
     },
     "execution_count": 30,
     "metadata": {},
     "output_type": "execute_result"
    }
   ],
   "source": [
    "data.stypes"
   ]
  },
  {
   "cell_type": "code",
   "execution_count": 45,
   "id": "c475d095-faf9-4a9f-9cbd-01fad68d9666",
   "metadata": {},
   "outputs": [
    {
     "name": "stdout",
     "output_type": "stream",
     "text": [
      "[Type.str32, Type.str32, Type.str32, Type.float64, Type.float64, Type.time64, Type.str32, Type.float64, Type.float64, Type.float64, Type.str32, Type.str32, Type.str32, Type.float64, Type.float64, Type.float64, Type.int32, Type.int32]\n"
     ]
    }
   ],
   "source": [
    "print(data.types)"
   ]
  },
  {
   "cell_type": "code",
   "execution_count": 47,
   "id": "7e87bc57-04f7-4c84-974c-6823eebc0210",
   "metadata": {},
   "outputs": [
    {
     "data": {
      "text/html": [
       "<div class='datatable'>\n",
       "  <table class='frame'>\n",
       "  <thead>\n",
       "    <tr class='colnames'><td class='row_index'></td><th>ticker</th><th>ccass_id</th><th>ccass_name</th><th>shares</th><th>stake</th><th>date</th><th>name</th><th>marcap_busd</th><th>adv_3m_musd</th><th>float</th><th class='vellipsis'>&hellip;</th><th>PX_LAST</th><th>hld_value_musd</th><th>hld_value_musd_chg</th><th>size_q</th><th>is_hld_chg</th></tr>\n",
       "    <tr class='coltypes'><td class='row_index'></td><td class='str' title='str32'>&#x25AA;&#x25AA;&#x25AA;&#x25AA;</td><td class='str' title='str32'>&#x25AA;&#x25AA;&#x25AA;&#x25AA;</td><td class='str' title='str32'>&#x25AA;&#x25AA;&#x25AA;&#x25AA;</td><td class='float' title='float64'>&#x25AA;&#x25AA;&#x25AA;&#x25AA;&#x25AA;&#x25AA;&#x25AA;&#x25AA;</td><td class='float' title='float64'>&#x25AA;&#x25AA;&#x25AA;&#x25AA;&#x25AA;&#x25AA;&#x25AA;&#x25AA;</td><td class='time' title='time64'>&#x25AA;&#x25AA;&#x25AA;&#x25AA;&#x25AA;&#x25AA;&#x25AA;&#x25AA;</td><td class='str' title='str32'>&#x25AA;&#x25AA;&#x25AA;&#x25AA;</td><td class='float' title='float64'>&#x25AA;&#x25AA;&#x25AA;&#x25AA;&#x25AA;&#x25AA;&#x25AA;&#x25AA;</td><td class='float' title='float64'>&#x25AA;&#x25AA;&#x25AA;&#x25AA;&#x25AA;&#x25AA;&#x25AA;&#x25AA;</td><td class='float' title='float64'>&#x25AA;&#x25AA;&#x25AA;&#x25AA;&#x25AA;&#x25AA;&#x25AA;&#x25AA;</td><td></td><td class='float' title='float64'>&#x25AA;&#x25AA;&#x25AA;&#x25AA;&#x25AA;&#x25AA;&#x25AA;&#x25AA;</td><td class='float' title='float64'>&#x25AA;&#x25AA;&#x25AA;&#x25AA;&#x25AA;&#x25AA;&#x25AA;&#x25AA;</td><td class='float' title='float64'>&#x25AA;&#x25AA;&#x25AA;&#x25AA;&#x25AA;&#x25AA;&#x25AA;&#x25AA;</td><td class='int' title='int32'>&#x25AA;&#x25AA;&#x25AA;&#x25AA;</td><td class='int' title='int32'>&#x25AA;&#x25AA;&#x25AA;&#x25AA;</td></tr>\n",
       "  </thead>\n",
       "  <tbody>\n",
       "    <tr><td class='row_index'>0</td><td>1 HK Equity</td><td></td><td>CHAN YIM TAO MARGARET *</td><td>10000</td><td>0</td><td>2022-11-25<span class=sp>T</span>00:00:00</td><td>CK HUTCHISON HOLDINGS LTD</td><td>19.9282</td><td>21.519</td><td>69.3397</td><td class=vellipsis>&hellip;</td><td>43.55</td><td>0.0554777</td><td>0</td><td>10</td><td>0</td></tr>\n",
       "    <tr><td class='row_index'>1</td><td>1 HK Equity</td><td></td><td>CHAN YIM TAO MARGARET *</td><td>10000</td><td>0</td><td>2022-12-02<span class=sp>T</span>00:00:00</td><td>CK HUTCHISON HOLDINGS LTD</td><td>19.9282</td><td>21.519</td><td>69.3397</td><td class=vellipsis>&hellip;</td><td>44</td><td>0.056051</td><td>0</td><td>10</td><td>0</td></tr>\n",
       "    <tr><td class='row_index'>2</td><td>1 HK Equity</td><td></td><td>CHAN YIM TAO MARGARET *</td><td>10000</td><td>0</td><td>2022-12-09<span class=sp>T</span>00:00:00</td><td>CK HUTCHISON HOLDINGS LTD</td><td>19.9282</td><td>21.519</td><td>69.3397</td><td class=vellipsis>&hellip;</td><td>45.45</td><td>0.0578981</td><td>0</td><td>10</td><td>0</td></tr>\n",
       "    <tr><td class='row_index'>3</td><td>1 HK Equity</td><td></td><td>CHAN YIM TAO MARGARET *</td><td>10000</td><td>0</td><td>2022-12-16<span class=sp>T</span>00:00:00</td><td>CK HUTCHISON HOLDINGS LTD</td><td>19.9282</td><td>21.519</td><td>69.3397</td><td class=vellipsis>&hellip;</td><td>45.45</td><td>0.0578981</td><td>0</td><td>10</td><td>0</td></tr>\n",
       "    <tr><td class='row_index'>4</td><td>1 HK Equity</td><td></td><td>CHAN YIM TAO MARGARET *</td><td>10000</td><td>0</td><td>2022-12-23<span class=sp>T</span>00:00:00</td><td>CK HUTCHISON HOLDINGS LTD</td><td>19.9282</td><td>21.519</td><td>69.3397</td><td class=vellipsis>&hellip;</td><td>46.2</td><td>0.0588535</td><td>0</td><td>10</td><td>0</td></tr>\n",
       "    <tr><td class='row_index'>5</td><td>1 HK Equity</td><td></td><td>CHAN YIM TAO MARGARET *</td><td>10000</td><td>0</td><td>2022-12-30<span class=sp>T</span>00:00:00</td><td>CK HUTCHISON HOLDINGS LTD</td><td>19.9282</td><td>21.519</td><td>69.3397</td><td class=vellipsis>&hellip;</td><td>46.85</td><td>0.0596815</td><td>0</td><td>10</td><td>0</td></tr>\n",
       "    <tr><td class='row_index'>6</td><td>1 HK Equity</td><td></td><td>CHAN YIM TAO MARGARET *</td><td>10000</td><td>0</td><td>2023-01-06<span class=sp>T</span>00:00:00</td><td>CK HUTCHISON HOLDINGS LTD</td><td>19.9282</td><td>21.519</td><td>69.3397</td><td class=vellipsis>&hellip;</td><td>48.55</td><td>0.0618471</td><td>0</td><td>10</td><td>0</td></tr>\n",
       "    <tr><td class='row_index'>7</td><td>1 HK Equity</td><td></td><td>CHAN YIM TAO MARGARET *</td><td>10000</td><td>0</td><td>2023-01-13<span class=sp>T</span>00:00:00</td><td>CK HUTCHISON HOLDINGS LTD</td><td>19.9282</td><td>21.519</td><td>69.3397</td><td class=vellipsis>&hellip;</td><td>48.85</td><td>0.0622293</td><td>0</td><td>10</td><td>0</td></tr>\n",
       "    <tr><td class='row_index'>8</td><td>1 HK Equity</td><td></td><td>CHAN YIM TAO MARGARET *</td><td>10000</td><td>0</td><td>2023-01-20<span class=sp>T</span>00:00:00</td><td>CK HUTCHISON HOLDINGS LTD</td><td>19.9282</td><td>21.519</td><td>69.3397</td><td class=vellipsis>&hellip;</td><td>49.7</td><td>0.0633121</td><td>0</td><td>10</td><td>0</td></tr>\n",
       "    <tr><td class='row_index'>9</td><td>1 HK Equity</td><td></td><td>CHAN YIM TAO MARGARET *</td><td>10000</td><td>0</td><td>2023-01-27<span class=sp>T</span>00:00:00</td><td>CK HUTCHISON HOLDINGS LTD</td><td>19.9282</td><td>21.519</td><td>69.3397</td><td class=vellipsis>&hellip;</td><td>50</td><td>0.0636943</td><td>0</td><td>10</td><td>0</td></tr>\n",
       "    <tr><td class='row_index'>10</td><td>1 HK Equity</td><td></td><td>CHAN YIM TAO MARGARET *</td><td>10000</td><td>0</td><td>2023-02-03<span class=sp>T</span>00:00:00</td><td>CK HUTCHISON HOLDINGS LTD</td><td>19.9282</td><td>21.519</td><td>69.3397</td><td class=vellipsis>&hellip;</td><td>49.3</td><td>0.0628025</td><td>0</td><td>10</td><td>0</td></tr>\n",
       "    <tr><td class='row_index'>11</td><td>1 HK Equity</td><td></td><td>CHAN YIM TAO MARGARET *</td><td>10000</td><td>0</td><td>2023-02-10<span class=sp>T</span>00:00:00</td><td>CK HUTCHISON HOLDINGS LTD</td><td>19.9282</td><td>21.519</td><td>69.3397</td><td class=vellipsis>&hellip;</td><td>49.45</td><td>0.0629936</td><td>0</td><td>10</td><td>0</td></tr>\n",
       "    <tr><td class='row_index'>12</td><td>1 HK Equity</td><td></td><td>CHAN YIM TAO MARGARET *</td><td>10000</td><td>0</td><td>2023-02-17<span class=sp>T</span>00:00:00</td><td>CK HUTCHISON HOLDINGS LTD</td><td>19.9282</td><td>21.519</td><td>69.3397</td><td class=vellipsis>&hellip;</td><td>47.8</td><td>0.0608917</td><td>0</td><td>10</td><td>0</td></tr>\n",
       "    <tr><td class='row_index'>13</td><td>1 HK Equity</td><td></td><td>CHAN YIM TAO MARGARET *</td><td>10000</td><td>0</td><td>2023-02-24<span class=sp>T</span>00:00:00</td><td>CK HUTCHISON HOLDINGS LTD</td><td>19.9282</td><td>21.519</td><td>69.3397</td><td class=vellipsis>&hellip;</td><td>47.55</td><td>0.0605732</td><td>0</td><td>10</td><td>0</td></tr>\n",
       "    <tr><td class='row_index'>14</td><td>1 HK Equity</td><td></td><td>CHAN YIM TAO MARGARET *</td><td>10000</td><td>0</td><td>2023-03-03<span class=sp>T</span>00:00:00</td><td>CK HUTCHISON HOLDINGS LTD</td><td>19.9282</td><td>21.519</td><td>69.3397</td><td class=vellipsis>&hellip;</td><td>48.05</td><td>0.0612102</td><td>0</td><td>10</td><td>0</td></tr>\n",
       "    <tr><td class='row_index'>&#x22EE;</td><td class='hellipsis'>&#x22EE;</td><td class='hellipsis'>&#x22EE;</td><td class='hellipsis'>&#x22EE;</td><td class='hellipsis'>&#x22EE;</td><td class='hellipsis'>&#x22EE;</td><td class='hellipsis'>&#x22EE;</td><td class='hellipsis'>&#x22EE;</td><td class='hellipsis'>&#x22EE;</td><td class='hellipsis'>&#x22EE;</td><td class='hellipsis'>&#x22EE;</td><td class='hellipsis'>&#x22F1;</td><td class='hellipsis'>&#x22EE;</td><td class='hellipsis'>&#x22EE;</td><td class='hellipsis'>&#x22EE;</td><td class='hellipsis'>&#x22EE;</td><td class='hellipsis'>&#x22EE;</td></tr>\n",
       "    <tr><td class='row_index'>21,386,933</td><td>9998 HK Equity</td><td>C00100</td><td>JPMORGAN CHASE BANK, NATIONAL</td><td>35000</td><td>0</td><td>2023-10-20<span class=sp>T</span>00:00:00</td><td>KWAN YONG HOLDINGS LTD</td><td>0.0169374</td><td>0.00730191</td><td>18.3807</td><td class=vellipsis>&hellip;</td><td>0.18</td><td>0.000802548</td><td>0</td><td>3</td><td>0</td></tr>\n",
       "    <tr><td class='row_index'>21,386,934</td><td>9998 HK Equity</td><td>C00100</td><td>JPMORGAN CHASE BANK, NATIONAL</td><td>35000</td><td>0</td><td>2023-10-27<span class=sp>T</span>00:00:00</td><td>KWAN YONG HOLDINGS LTD</td><td>0.0169374</td><td>0.00730191</td><td>18.3807</td><td class=vellipsis>&hellip;</td><td>0.173</td><td>0.000771338</td><td>0</td><td>3</td><td>0</td></tr>\n",
       "    <tr><td class='row_index'>21,386,935</td><td>9998 HK Equity</td><td>C00100</td><td>JPMORGAN CHASE BANK, NATIONAL</td><td>35000</td><td>0</td><td>2023-11-03<span class=sp>T</span>00:00:00</td><td>KWAN YONG HOLDINGS LTD</td><td>0.0169374</td><td>0.00730191</td><td>18.3807</td><td class=vellipsis>&hellip;</td><td>0.172</td><td>0.000766879</td><td>0</td><td>3</td><td>0</td></tr>\n",
       "    <tr><td class='row_index'>21,386,936</td><td>9998 HK Equity</td><td>C00100</td><td>JPMORGAN CHASE BANK, NATIONAL</td><td>35000</td><td>0</td><td>2023-11-10<span class=sp>T</span>00:00:00</td><td>KWAN YONG HOLDINGS LTD</td><td>0.0169374</td><td>0.00730191</td><td>18.3807</td><td class=vellipsis>&hellip;</td><td>0.15</td><td>0.00066879</td><td>0</td><td>3</td><td>0</td></tr>\n",
       "    <tr><td class='row_index'>21,386,937</td><td>9998 HK Equity</td><td>C00100</td><td>JPMORGAN CHASE BANK, NATIONAL</td><td>35000</td><td>0</td><td>2023-11-17<span class=sp>T</span>00:00:00</td><td>KWAN YONG HOLDINGS LTD</td><td>0.0169374</td><td>0.00730191</td><td>18.3807</td><td class=vellipsis>&hellip;</td><td>0.159</td><td>0.000708917</td><td>0</td><td>3</td><td>0</td></tr>\n",
       "  </tbody>\n",
       "  </table>\n",
       "  <div class='footer'>\n",
       "    <div class='frame_dimensions'>21,386,938 rows &times; 18 columns</div>\n",
       "  </div>\n",
       "</div>\n"
      ],
      "text/plain": [
       "<Frame#276c4aeebc0 21386938x18>"
      ]
     },
     "execution_count": 47,
     "metadata": {},
     "output_type": "execute_result"
    }
   ],
   "source": [
    "data"
   ]
  },
  {
   "cell_type": "code",
   "execution_count": null,
   "id": "cd84117a-0788-4a7f-a73f-24ce22391bb7",
   "metadata": {},
   "outputs": [],
   "source": []
  },
  {
   "cell_type": "code",
   "execution_count": null,
   "id": "1311a671-9d9c-477e-a5ea-610511c65f2a",
   "metadata": {},
   "outputs": [],
   "source": []
  },
  {
   "cell_type": "code",
   "execution_count": null,
   "id": "eb4f339a-50cd-4468-99df-84a133301c4f",
   "metadata": {},
   "outputs": [],
   "source": []
  },
  {
   "cell_type": "code",
   "execution_count": null,
   "id": "266cd3c8-cc64-4aa4-9d4b-8befe609a06f",
   "metadata": {},
   "outputs": [],
   "source": []
  },
  {
   "cell_type": "code",
   "execution_count": null,
   "id": "4806491e-e82e-48cd-bed0-fa8dede852d9",
   "metadata": {},
   "outputs": [],
   "source": []
  }
 ],
 "metadata": {
  "kernelspec": {
   "display_name": "Python 3 (ipykernel)",
   "language": "python",
   "name": "python3"
  },
  "language_info": {
   "codemirror_mode": {
    "name": "ipython",
    "version": 3
   },
   "file_extension": ".py",
   "mimetype": "text/x-python",
   "name": "python",
   "nbconvert_exporter": "python",
   "pygments_lexer": "ipython3",
   "version": "3.7.0"
  }
 },
 "nbformat": 4,
 "nbformat_minor": 5
}
