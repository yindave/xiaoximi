{
 "cells": [
  {
   "cell_type": "code",
   "execution_count": 1,
   "id": "48df5027-c50a-4273-abe7-cde5907a7038",
   "metadata": {},
   "outputs": [],
   "source": [
    "import pandas as pd\n",
    "import numpy as np\n",
    "import utilities.misc as um\n",
    "import utilities.constants as uc\n",
    "import pdb\n",
    "from blp.bdx import bdh,bdp,bds\n",
    "from fql.fql import Factset_Query\n",
    "from fql.util import bbg_to_fs, fs_to_bbg,fql_date\n",
    "from blp.util import get_bbg_usual_col, group_marcap,get_ashare_exchange,load_compo\n",
    "import feather\n",
    "import os\n",
    "\n",
    "#plotly related\n",
    "import plotly.graph_objects as go\n",
    "from plotly.subplots import make_subplots\n",
    "import utilities.display as ud\n",
    "\n",
    "from datetime import datetime\n",
    "\n",
    "import utilities.mathematics as umath\n",
    "\n",
    "from joblib import load, dump\n",
    "\n",
    "import matplotlib.pyplot as plt\n"
   ]
  },
  {
   "cell_type": "code",
   "execution_count": 2,
   "id": "37131d92-5584-437f-95bc-a5bbc3a184ee",
   "metadata": {},
   "outputs": [],
   "source": [
    "path=uc.root_path_data+'connect\\\\ccass\\\\'\n",
    "\n",
    "universe=pd.read_excel(path+'universe.xlsx',sheet_name='quick_tagging_load').set_index('ticker')\n",
    "cut_off_adv=5\n",
    "\n",
    "impact_cutoff=0.5"
   ]
  },
  {
   "cell_type": "code",
   "execution_count": 3,
   "id": "d1771a15-5f99-4454-93ae-5e90ff1032a8",
   "metadata": {},
   "outputs": [
    {
     "name": "stdout",
     "output_type": "stream",
     "text": [
      "data loss after dropna 0.05083067308816025\n"
     ]
    }
   ],
   "source": [
    "# run the machine learning with consistency weighted flow\n",
    "to_fit_tidyup=feather.read_dataframe(path+'to_fit_tidyup.feather') # just dropna for quick dirty results\n",
    "data_loss=len(to_fit_tidyup.dropna())/len(to_fit_tidyup)\n",
    "print ('data loss after dropna %s' % (1-data_loss))\n",
    "to_fit_tidyup=to_fit_tidyup.dropna()\n",
    "\n",
    "\n",
    "\n",
    "windows=[5,10,15,20,25,30,35,40,45,50,55,60]\n",
    "to_keep=(['date', 'ticker', 'stake_marcap']\n",
    "        +['ret_%s_rank' % (x) for x in windows]\n",
    "        +['consistency_%s' % (x) for x in windows]\n",
    "        +['consistency_%s_rank' % (x) for x in windows]\n",
    "        +['flow_%s_rank' % (x) for x in windows]\n",
    "         +['impact_turnover_%s_rank' % (x) for x in windows]\n",
    "         +['flow_x_consistency_%s_rank' % (x) for x in windows]\n",
    "        )\n",
    "to_fit_tidyup=to_fit_tidyup[to_keep].copy()\n"
   ]
  },
  {
   "cell_type": "code",
   "execution_count": 4,
   "id": "cda6030f-5047-4d33-8ce7-2141eade0b61",
   "metadata": {},
   "outputs": [],
   "source": [
    "for window in windows:\n",
    "    to_fit_tidyup['flow_x_consistency_%s' % (window)]=to_fit_tidyup['flow_%s_rank' % (window)]*to_fit_tidyup['consistency_%s_rank' % (window)]\n",
    "    to_fit_tidyup['flow_x_consistency_rank_%s' % (window)]=to_fit_tidyup['flow_%s_rank' % (window)]*to_fit_tidyup['consistency_%s' % (window)]"
   ]
  },
  {
   "cell_type": "code",
   "execution_count": 5,
   "id": "b692c65e-05cd-4450-8d78-f3d4353219db",
   "metadata": {},
   "outputs": [],
   "source": [
    "# cannot just use stake_marcap, otherwise we will have imbalanced data\n",
    "to_fit_tidyup['stake_marcap_rank']=to_fit_tidyup.groupby(['date'])['stake_marcap'].rank(pct=True,ascending=True,method='min')"
   ]
  },
  {
   "cell_type": "code",
   "execution_count": 6,
   "id": "f4a143aa-10ab-4641-bcd1-ced3b477fb35",
   "metadata": {},
   "outputs": [],
   "source": [
    "# run the fitting\n",
    "windows=[5,10,15,20,25,30,35,40,45,50,55,60]\n",
    "\n",
    "\n",
    "for window_y in windows:\n",
    "    y='ret_%s_rank' % (window_y)\n",
    "    # xs=(\n",
    "    #     ['stake_marcap_rank']  \n",
    "    #     +['consistency_%s' % (x) for x in windows]\n",
    "    #     +['consistency_%s_rank' % (x) for x in windows] \n",
    "    #     +['flow_%s_rank' % (x) for x in windows] \n",
    "    #     +['impact_turnover_%s_rank' % (x) for x in windows] \n",
    "    #     +['flow_x_consistency_%s_rank' % (x) for x in windows]\n",
    "    # )  \n",
    "    \n",
    "\n",
    "    xs=(\n",
    "        ['stake_marcap_rank']  \n",
    "        +['consistency_%s' % (window_y)]\n",
    "        +['consistency_%s_rank' % (window_y)] \n",
    "        +['flow_%s_rank' % (window_y)] \n",
    "        +['impact_turnover_%s_rank' % (window_y)] \n",
    "        +['flow_x_consistency_%s_rank' % (window_y)]\n",
    "    ) \n",
    "\n",
    "    to_fit_i=to_fit_tidyup[[y]+xs]\n",
    "\n",
    "\n",
    "    ebm=umath.get_ebm_initialized()\n",
    "    model_i=ebm.fit(to_fit_i[xs],to_fit_i[y])\n",
    "\n",
    "\n",
    "    dump(model_i,path+'models_full_data_1\\\\%s.joblib' % (window_y))\n",
    "    \n",
    "    print ('model_1 %s dumped' % (window_y))"
   ]
  },
  {
   "cell_type": "code",
   "execution_count": 7,
   "id": "e65d1460-89de-4377-abb2-081e57dc9dd9",
   "metadata": {
    "tags": []
   },
   "outputs": [],
   "source": [
    "# windows=[5,10,15,20,25,30,35,40,45,50,55,60]\n",
    "\n",
    "# for window in windows:\n",
    "#     model_i=load(path+'models_full_data_1\\\\%s.joblib' % (window))\n",
    "    \n",
    "#     coefs, shapes=umath.get_ebm_coef_rank_and_shape(model_i)\n",
    "    \n",
    "#     coefs_nice=coefs['importance'].sort_values(ascending=False)\n",
    "#     fig,axes=plt.subplots(len(coefs_nice.index),1,figsize=(5,2*len(coefs_nice.index)),sharex=True)\n",
    "    \n",
    "#     for i,predictor_i in enumerate(coefs_nice.index):\n",
    "#         shapes[shapes['predictor']==predictor_i]['shape'].plot(ax=axes[i],title=predictor_i)\n",
    "    \n",
    "#     fig.savefig(path+'models_full_data_1\\\\%s.png' % (window),bbox_inches='tight',dpi=200)\n",
    "#     print ('finished dumping %s' % (window))"
   ]
  },
  {
   "cell_type": "code",
   "execution_count": 10,
   "id": "c5d7a554-f484-46b7-9722-d2b33c6f7a33",
   "metadata": {
    "tags": []
   },
   "outputs": [
    {
     "ename": "NameError",
     "evalue": "name 'window_y' is not defined",
     "output_type": "error",
     "traceback": [
      "\u001b[1;31m---------------------------------------------------------------------------\u001b[0m",
      "\u001b[1;31mNameError\u001b[0m                                 Traceback (most recent call last)",
      "\u001b[1;32mC:\\Users\\DAVEHA~1\\AppData\\Local\\Temp/ipykernel_20208/2704782587.py\u001b[0m in \u001b[0;36m<module>\u001b[1;34m\u001b[0m\n\u001b[0;32m      8\u001b[0m     \u001b[1;33m+\u001b[0m\u001b[1;33m[\u001b[0m\u001b[1;34m'flow_%s_rank'\u001b[0m \u001b[1;33m%\u001b[0m \u001b[1;33m(\u001b[0m\u001b[0mwindow_y\u001b[0m\u001b[1;33m)\u001b[0m\u001b[1;33m]\u001b[0m\u001b[1;33m\u001b[0m\u001b[0m\n\u001b[0;32m      9\u001b[0m     \u001b[1;33m+\u001b[0m\u001b[1;33m[\u001b[0m\u001b[1;34m'impact_turnover_%s_rank'\u001b[0m \u001b[1;33m%\u001b[0m \u001b[1;33m(\u001b[0m\u001b[0mwindow_y\u001b[0m\u001b[1;33m)\u001b[0m\u001b[1;33m]\u001b[0m\u001b[1;33m\u001b[0m\u001b[0m\n\u001b[1;32m---> 10\u001b[1;33m     \u001b[1;33m+\u001b[0m\u001b[1;33m[\u001b[0m\u001b[1;34m'flow_x_consistency_%s_rank'\u001b[0m \u001b[1;33m%\u001b[0m \u001b[1;33m(\u001b[0m\u001b[0mwindow_y\u001b[0m\u001b[1;33m)\u001b[0m\u001b[1;33m]\u001b[0m\u001b[1;33m\u001b[0m\u001b[0m\n\u001b[0m\u001b[0;32m     11\u001b[0m ) \n\u001b[0;32m     12\u001b[0m \u001b[1;33m\u001b[0m\u001b[0m\n",
      "\u001b[1;31mNameError\u001b[0m: name 'window_y' is not defined"
     ]
    }
   ],
   "source": [
    "# one big plot\n",
    "windows=[5,10,15,20,25,30,35,40,45,50,55,60]\n",
    "\n",
    "fig_importance, axes_importance=plt.subplots(1,len(windows),figsize=(5*len(windows),5),sharey=False,sharex=True)\n",
    "fig,axes=plt.subplots(len(xs),len(windows),figsize=(5*len(windows),2*len(xs)),sharex=True,sharey=False)\n",
    "\n",
    "\n",
    "\n",
    "for j,window in enumerate(windows):\n",
    "    \n",
    "    model_i=load(path+'models_full_data_1\\\\%s.joblib' % (window))\n",
    "    coefs, shapes=umath.get_ebm_coef_rank_and_shape(model_i)\n",
    "    coefs_nice=coefs['importance']\n",
    "    \n",
    "    coefs_nice.plot(ax=axes_importance[j],title=window,kind='barh')\n",
    "    \n",
    "    for i,predictor_i in enumerate(coefs_nice.index):\n",
    "        shapes[shapes['predictor']==predictor_i]['shape'].plot(ax=axes[i][j],title=predictor_i)\n",
    "    "
   ]
  },
  {
   "cell_type": "markdown",
   "id": "ef7d1919-85f1-4470-b6c3-beaa74ea5688",
   "metadata": {},
   "source": [
    "# drop consistency & consistency rank, re-run in rolling style and check results"
   ]
  },
  {
   "cell_type": "code",
   "execution_count": null,
   "id": "d589d203-eb2e-42b4-a2a9-62717f701e4a",
   "metadata": {},
   "outputs": [],
   "source": [
    "from interpret import show\n",
    "\n",
    "window=60\n",
    "model_i=load(path+'models_full_data_1\\\\%s.joblib' % (window))\n",
    "\n",
    "show(model_i.explain_global())"
   ]
  },
  {
   "cell_type": "code",
   "execution_count": null,
   "id": "6f77371d-34b9-44a2-b24d-695bc20d56ee",
   "metadata": {},
   "outputs": [],
   "source": []
  },
  {
   "cell_type": "code",
   "execution_count": null,
   "id": "60536d67-cf78-424a-9262-808f6f2b7dbe",
   "metadata": {},
   "outputs": [],
   "source": []
  },
  {
   "cell_type": "code",
   "execution_count": null,
   "id": "292f51cc-13a7-4be7-9bb4-5d8db35aea1f",
   "metadata": {},
   "outputs": [],
   "source": []
  },
  {
   "cell_type": "code",
   "execution_count": null,
   "id": "94cd0666-3c72-410a-b6e6-3e07a0c89eed",
   "metadata": {},
   "outputs": [],
   "source": []
  },
  {
   "cell_type": "code",
   "execution_count": null,
   "id": "935190b3-5a93-4546-8760-a1c0f0b96077",
   "metadata": {},
   "outputs": [],
   "source": []
  },
  {
   "cell_type": "code",
   "execution_count": null,
   "id": "f6d2c482-a963-498b-bc38-6512b0ba7d0f",
   "metadata": {},
   "outputs": [],
   "source": []
  },
  {
   "cell_type": "code",
   "execution_count": null,
   "id": "d75fb255-4f17-4822-949b-30147d71e920",
   "metadata": {},
   "outputs": [],
   "source": []
  }
 ],
 "metadata": {
  "kernelspec": {
   "display_name": "Python 3 (ipykernel)",
   "language": "python",
   "name": "python3"
  },
  "language_info": {
   "codemirror_mode": {
    "name": "ipython",
    "version": 3
   },
   "file_extension": ".py",
   "mimetype": "text/x-python",
   "name": "python",
   "nbconvert_exporter": "python",
   "pygments_lexer": "ipython3",
   "version": "3.7.0"
  }
 },
 "nbformat": 4,
 "nbformat_minor": 5
}
