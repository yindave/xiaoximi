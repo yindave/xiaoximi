{
 "cells": [
  {
   "cell_type": "code",
   "execution_count": 1,
   "id": "978c31a5-a900-4808-802d-0558571fdd24",
   "metadata": {},
   "outputs": [],
   "source": [
    "import pandas as pd\n",
    "import numpy as np\n",
    "import utilities.misc as um\n",
    "import utilities.constants as uc\n",
    "import pdb\n",
    "from blp.bdx import bdh,bdp,bds\n",
    "from fql.fql import Factset_Query\n",
    "from fql.util import bbg_to_fs, fs_to_bbg,fql_date\n",
    "from blp.util import get_bbg_usual_col, group_marcap,get_ashare_exchange,load_compo\n",
    "import feather\n",
    "import os\n",
    "\n",
    "#plotly related\n",
    "import plotly.graph_objects as go\n",
    "from plotly.subplots import make_subplots\n",
    "import utilities.display as ud\n",
    "\n",
    "from datetime import datetime\n",
    "\n",
    "import utilities.mathematics as umath\n",
    "\n",
    "from joblib import load, dump\n",
    "\n",
    "import matplotlib.pyplot as plt\n",
    "\n",
    "\n",
    "\n",
    "from interpret import show\n",
    "from interpret.glassbox import ExplainableBoostingRegressor"
   ]
  },
  {
   "cell_type": "code",
   "execution_count": 80,
   "id": "62f32791-4ec5-4dbe-ae52-855aea95fc61",
   "metadata": {},
   "outputs": [
    {
     "name": "stdout",
     "output_type": "stream",
     "text": [
      "data loss after dropna 0.05083067308816025\n"
     ]
    }
   ],
   "source": [
    "path=uc.root_path_data+'connect\\\\ccass\\\\'\n",
    "\n",
    "data=feather.read_dataframe(path+'to_fit_all.feather') # just dropna for quick dirty results\n",
    "data_loss=len(data.dropna())/len(data)\n",
    "print ('data loss after dropna %s' % (1-data_loss))\n",
    "data=data.dropna()\n",
    "\n",
    "windows=[20]\n",
    "\n",
    "to_keep=(\n",
    "        ['stake_marcap']\n",
    "        +['ret_%s' % (x) for x in windows]\n",
    "        +['consistency_%s' % (x) for x in windows]\n",
    "        +['flow_%s' % (x) for x in windows]\n",
    "        +['impact_turnover_%s' % (x) for x in windows]\n",
    "        \n",
    "        )\n",
    "\n",
    "data=data[['date', 'ticker',]+to_keep].copy()\n",
    "\n",
    "for keep_i in to_keep:\n",
    "    data[keep_i+'_rank']=data.groupby('date')[keep_i].rank(pct=True,method='min')\n",
    "    data[keep_i+'_z']=data.groupby('date')[keep_i].apply(lambda x: (x-x.mean())/x.std())\n",
    "    data[keep_i+'_z']=data[keep_i+'_z'].map(lambda x: x/abs(x)*2.5 if abs(x)>=2.5 else x)\n",
    "    \n",
    "data['flow_rank_x_consistency_rank_%s' % (windows[0])]=data['flow_%s_rank' % (windows[0])]*data['flow_%s_rank' % (windows[0])]"
   ]
  },
  {
   "cell_type": "code",
   "execution_count": 81,
   "id": "df9d7fe4-4f5a-4ce5-bc2d-86e2a1a95aa8",
   "metadata": {},
   "outputs": [],
   "source": [
    "def get_ebm_res(ebm):\n",
    "\n",
    "    exp_global=ebm.explain_global()\n",
    "    exp_data=exp_global.data\n",
    "    features=exp_global.feature_names\n",
    "    feature_types=ebm.feature_types\n",
    "\n",
    "\n",
    "    importance=pd.Series(index=exp_data()['names'],data=exp_data()['scores']).rename('importance').to_frame()\n",
    "\n",
    "    collector_shape=[]\n",
    "    collector_density=[]\n",
    "    for i,feature_i in enumerate(features):\n",
    "        # note that names will always have one more data point than score as it's the bins\n",
    "        shape_i=pd.DataFrame(index=exp_data(i)['names'][1:],columns=['shape_lower','shape','shape_upper'])\n",
    "        shape_i['shape_lower']=exp_data(i)['lower_bounds']\n",
    "        shape_i['shape']=exp_data(i)['scores']\n",
    "        shape_i['shape_upper']=exp_data(i)['upper_bounds']\n",
    "        shape_i.index.name='range_actual'\n",
    "        shape_i=shape_i.reset_index()\n",
    "        shape_i.index.name='range'\n",
    "\n",
    "        density_i=pd.Series(index=exp_data(i)['density']['names'][1:],data=exp_data(i)['density']['scores'])\n",
    "        density_i=density_i/density_i.sum()\n",
    "        density_i=density_i.rename('freq_pct').to_frame()\n",
    "        density_i['freq_pct_cumu']=density_i.cumsum()\n",
    "        density_i.index.name='range_actual'\n",
    "\n",
    "        shape_i['feature']=feature_i\n",
    "        density_i['feature']=feature_i\n",
    "        shape_i['binning']=feature_types[i]\n",
    "\n",
    "        collector_shape.append(shape_i)\n",
    "        collector_density.append(density_i)\n",
    "\n",
    "    shapes=pd.concat(collector_shape).reset_index()\n",
    "    densities=pd.concat(collector_density).reset_index()\n",
    "    \n",
    "    return importance, shapes, densities\n",
    "    "
   ]
  },
  {
   "cell_type": "code",
   "execution_count": 167,
   "id": "e5b19dea-a5f4-4c96-b806-acbc1f28edd7",
   "metadata": {
    "tags": []
   },
   "outputs": [
    {
     "name": "stdout",
     "output_type": "stream",
     "text": [
      "0.0011311959549266115\n"
     ]
    }
   ],
   "source": [
    "ys=['ret_20_z']\n",
    "binnings=['uniform']#,'quantile']\n",
    "\n",
    "# x='flow_rank_x_consistency_rank_20'\n",
    "# x='flow_20_rank'\n",
    "# x='consistency_10'\n",
    "# x='flow_20_z'\n",
    "x='impact_turnover_20_z'\n",
    "\n",
    "collector=[]\n",
    "collector_density=[]\n",
    "for binning in binnings:\n",
    "    for y in ys:\n",
    "\n",
    "        xs=[x]\n",
    "        # xs=['flow_rank_x_consistency_rank_20','flow_20_rank','stake_marcap']\n",
    "        feature_types=[binning]\n",
    "        ebm=ExplainableBoostingRegressor(\n",
    "            feature_types=feature_types,\n",
    "            interactions=0,\n",
    "            n_jobs=-1,\n",
    "            max_bins=256\n",
    "            )\n",
    "        ebm.fit(data[xs],data[y])\n",
    "        \n",
    "        r2=ebm.score(data[xs],data[y])\n",
    "        print (r2)\n",
    "        importance, shapes, densities=get_ebm_res(ebm)\n",
    "\n",
    "        \n",
    "        shapes['binning']=binning\n",
    "        shapes['y']=y\n",
    "        collector.append(shapes)\n",
    "        \n",
    "        densities['binning']=binning\n",
    "        densities['y']=y\n",
    "        collector_density.append(densities)\n",
    "        \n",
    "shapes_comp=pd.concat(collector)\n",
    "densities_comp=pd.concat(collector_density)"
   ]
  },
  {
   "cell_type": "code",
   "execution_count": null,
   "id": "d856a80c-60a9-4387-8e63-e3c84c6930e8",
   "metadata": {},
   "outputs": [],
   "source": []
  },
  {
   "cell_type": "code",
   "execution_count": null,
   "id": "6a87dbd5-177d-41a1-b5f3-068240fc3178",
   "metadata": {},
   "outputs": [],
   "source": []
  },
  {
   "cell_type": "code",
   "execution_count": 157,
   "id": "e18f2f4b-a9a5-4b53-ab67-e1e2d5c665ba",
   "metadata": {},
   "outputs": [
    {
     "data": {
      "text/plain": [
       "<matplotlib.axes._subplots.AxesSubplot at 0x1c8b1995358>"
      ]
     },
     "execution_count": 157,
     "metadata": {},
     "output_type": "execute_result"
    },
    {
     "data": {
      "image/png": "[encoded data removed]",
      "text/plain": [
       "<Figure size 432x288 with 1 Axes>"
      ]
     },
     "metadata": {
      "needs_background": "light"
     },
     "output_type": "display_data"
    }
   ],
   "source": [
    "(shapes_comp.set_index(['range_actual','binning','y'])['shape'].unstack().unstack().fillna(method='ffill')\n",
    "    .plot(color=[uc.alt_colors_quick_pd_plot[i] for i in [0,1,2,3]],title=x)\n",
    ")"
   ]
  },
  {
   "cell_type": "code",
   "execution_count": 146,
   "id": "6f9831a6-6515-4d19-83c1-949df6424a63",
   "metadata": {},
   "outputs": [
    {
     "data": {
      "text/plain": [
       "range_actual\n",
       "0.000032   -0.002606\n",
       "0.000098   -0.002429\n",
       "0.000201   -0.002429\n",
       "0.000324   -0.002429\n",
       "0.000482   -0.002429\n",
       "              ...   \n",
       "0.971865    0.008567\n",
       "0.980264    0.008567\n",
       "0.988636    0.008567\n",
       "0.996820    0.008716\n",
       "1.000000    0.008716\n",
       "Name: quantile, Length: 254, dtype: float64"
      ]
     },
     "execution_count": 146,
     "metadata": {},
     "output_type": "execute_result"
    }
   ],
   "source": [
    "shapes_comp.set_index(['range_actual','binning','y'])['shape'].unstack().unstack()['ret_20_rank']['quantile'].dropna()"
   ]
  },
  {
   "cell_type": "code",
   "execution_count": 147,
   "id": "044608a5-f0d9-4d90-88c3-d78b7ad373cb",
   "metadata": {},
   "outputs": [
    {
     "data": {
      "text/plain": [
       "<matplotlib.axes._subplots.AxesSubplot at 0x1c8b1917dd8>"
      ]
     },
     "execution_count": 147,
     "metadata": {},
     "output_type": "execute_result"
    },
    {
     "data": {
      "image/png": "[encoded data removed]",
      "text/plain": [
       "<Figure size 432x288 with 1 Axes>"
      ]
     },
     "metadata": {
      "needs_background": "light"
     },
     "output_type": "display_data"
    }
   ],
   "source": [
    "densities_comp.set_index(['range_actual','binning','y'])[['freq_pct','freq_pct_cumu']].unstack().unstack().plot()"
   ]
  },
  {
   "cell_type": "code",
   "execution_count": null,
   "id": "469e5d4f-a7c5-4ae4-b62b-109991a83e04",
   "metadata": {},
   "outputs": [],
   "source": []
  },
  {
   "cell_type": "markdown",
   "id": "3d3386d7-cae8-4117-afac-1426b8eb058e",
   "metadata": {},
   "source": [
    "# Binings strategy, max_bin, input distribution\n",
    "- All you need to know: https://blog.oakbits.com/ebm-algorithm.html\n",
    "- Binning: discretize the continuous feature input into n bins (default 256), and for each bin one single score is assigned (actual fitting determined by boosting tree)\n",
    "- Relationship curve: should use actual range instead of relative range\n",
    "- Worth examine the distribution of the input features. If uniform binning on skewed distribution, the model will be fitted on fewer data for the less frequent region. This may create some instability. In such cases we can use quantile binning. Of course we can also still use uniform binning if the absolute amount of data is sufficient\n",
    "- For certain tasks, interaction effect can make significant improvement\n",
    "- For transformation on y, we may use z-score, for xs transformation, better use uniform. The prediction score unit will be either in z-score or rank\n",
    "- Pay attention to the prediction unit. For many real life scenarios it may not be that significant"
   ]
  },
  {
   "cell_type": "markdown",
   "id": "afff1425-a52f-4142-9700-2d82c385b2e9",
   "metadata": {},
   "source": [
    "# Binning and fitting\n",
    "- For a given feature, after binning, the original x values are transformed to the bin value (same bin will have the same bin value), but the y value will remain unchanged\n",
    "- So if originally within a bin there are 1000 x and 1000 corresponding y (and all different), then after the binning we will have 1 x value (the bin value) corresponding to 1000 different y value\n",
    "- The gradient boosting tree works on all the bins (the entire dataset after binning/discretization)\n",
    "- The higher the binning number, the higher risk of overfitting"
   ]
  },
  {
   "cell_type": "markdown",
   "id": "3751ba56-f3ec-4476-8f99-c543e684d067",
   "metadata": {},
   "source": [
    "# Binning strategy\n",
    "- If the feature distribution is uniform, then it does not make much difference which binning strategy you choose, as long as the number of bins is the same. Both uniform and quantile binning will produce bins with similar widths and counts. However, if the feature distribution is not uniform, then the choice of binning strategy can have a significant impact on the resulting bins and the model performance. Uniform binning can result in bins with very uneven counts, which can lead to poor accuracy and interpretability. Quantile binning can result in bins with very uneven widths, which can lead to loss of information and sensitivity. Therefore, it is important to consider the characteristics of the feature distribution and the objectives of the model when choosing a binning strategy. \n",
    "- we can try different binning strategy simply use uniformed input"
   ]
  },
  {
   "cell_type": "markdown",
   "id": "8f22dbbd-f85d-4cda-84cc-7cf9691c1bf6",
   "metadata": {},
   "source": [
    "# Marginal plot of frequency to show distribution"
   ]
  },
  {
   "cell_type": "code",
   "execution_count": null,
   "id": "bf18e425-373b-4cf2-9347-39a64049e2b2",
   "metadata": {},
   "outputs": [],
   "source": []
  },
  {
   "cell_type": "code",
   "execution_count": null,
   "id": "e2a3d083-3ff0-4a53-8c9c-f8d1cad005cb",
   "metadata": {},
   "outputs": [],
   "source": []
  },
  {
   "cell_type": "code",
   "execution_count": null,
   "id": "454cb2f1-32e9-49ea-b1ae-9cd04da26fa3",
   "metadata": {},
   "outputs": [],
   "source": []
  },
  {
   "cell_type": "code",
   "execution_count": null,
   "id": "0b5f892a-6647-40bd-93d0-f3fa846b1d40",
   "metadata": {},
   "outputs": [],
   "source": []
  },
  {
   "cell_type": "code",
   "execution_count": null,
   "id": "f42fb389-f82f-4635-8a33-6b947eddc00f",
   "metadata": {},
   "outputs": [],
   "source": []
  },
  {
   "cell_type": "code",
   "execution_count": null,
   "id": "9b2d63e1-6bf8-4ffb-81f5-fcbdbafaef21",
   "metadata": {},
   "outputs": [],
   "source": []
  },
  {
   "cell_type": "code",
   "execution_count": null,
   "id": "871e4a05-2cda-48a3-909b-8bc2eb6197a6",
   "metadata": {},
   "outputs": [],
   "source": []
  },
  {
   "cell_type": "code",
   "execution_count": 1,
   "id": "427e0544-ca01-4472-8efd-7b5ea596479e",
   "metadata": {},
   "outputs": [],
   "source": [
    "# y='ret_20_rank'\n",
    "# xs=['flow_20']\n",
    "\n",
    "# ebm=ExplainableBoostingRegressor(\n",
    "#     feature_types=['quantile'],\n",
    "#     interactions=0,\n",
    "#     n_jobs=-1,\n",
    "#     )\n",
    "\n",
    "# ebm.fit(data[xs],data[y])\n",
    "# print ('done')\n",
    "\n",
    "# show(ebm.explain_global())"
   ]
  },
  {
   "cell_type": "code",
   "execution_count": 2,
   "id": "c25c9204-f65a-4c26-8979-cfe161054441",
   "metadata": {},
   "outputs": [],
   "source": [
    "# y='ret_20_rank'\n",
    "# xs=['flow_20_z']\n",
    "\n",
    "# ebm=ExplainableBoostingRegressor(\n",
    "#     feature_types=['uniform'],\n",
    "#     interactions=0,\n",
    "#     n_jobs=-1,\n",
    "#     )\n",
    "\n",
    "# ebm.fit(data[xs],data[y])\n",
    "# print ('done')\n",
    "\n",
    "# show(ebm.explain_global())"
   ]
  },
  {
   "cell_type": "code",
   "execution_count": null,
   "id": "b562dc9d-45e4-48f4-b699-84e9d2edec3d",
   "metadata": {},
   "outputs": [],
   "source": []
  },
  {
   "cell_type": "code",
   "execution_count": null,
   "id": "8ff04ad4-9e18-4f5e-b4ad-6bf2b8b94581",
   "metadata": {},
   "outputs": [],
   "source": []
  }
 ],
 "metadata": {
  "kernelspec": {
   "display_name": "Python 3 (ipykernel)",
   "language": "python",
   "name": "python3"
  },
  "language_info": {
   "codemirror_mode": {
    "name": "ipython",
    "version": 3
   },
   "file_extension": ".py",
   "mimetype": "text/x-python",
   "name": "python",
   "nbconvert_exporter": "python",
   "pygments_lexer": "ipython3",
   "version": "3.7.0"
  }
 },
 "nbformat": 4,
 "nbformat_minor": 5
}
