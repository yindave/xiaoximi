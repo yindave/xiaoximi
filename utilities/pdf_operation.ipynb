{
 "cells": [
  {
   "cell_type": "code",
   "execution_count": 2,
   "id": "bbf6ca36-5ec8-4687-bf0c-606945b87a50",
   "metadata": {},
   "outputs": [],
   "source": [
    "from PIL import Image\n",
    "import utilities.misc as um\n"
   ]
  },
  {
   "cell_type": "code",
   "execution_count": 5,
   "id": "7d4965f9-2658-43bc-b23b-bef965cad033",
   "metadata": {},
   "outputs": [],
   "source": [
    "# open the image file\n",
    "path='C:\\\\Users\\\\davehanzhang\\\\Dropbox\\\\work\\\\AAA_personals\\\\'\n",
    "\n",
    "image = Image.open(path+'照片 5-1-24 上午9 22 38.jpg')\n",
    "\n",
    "# convert the image to RGB mode\n",
    "image = image.convert(\"RGB\")\n",
    "\n",
    "# save the image as a pdf file\n",
    "image.save(path+'bank_card.pdf')"
   ]
  },
  {
   "cell_type": "code",
   "execution_count": null,
   "id": "a316ab1c-6b57-4b96-8252-63aec2c3cd19",
   "metadata": {},
   "outputs": [],
   "source": [
    "# load and convert all\n"
   ]
  },
  {
   "cell_type": "code",
   "execution_count": null,
   "id": "a9faf78b-6690-4c8a-928a-333709a45390",
   "metadata": {},
   "outputs": [],
   "source": []
  },
  {
   "cell_type": "code",
   "execution_count": null,
   "id": "a403b8a6-ea65-4e31-a014-0252ab719fd3",
   "metadata": {},
   "outputs": [],
   "source": []
  },
  {
   "cell_type": "code",
   "execution_count": null,
   "id": "988c74b9-f653-4182-a716-ea17a063e250",
   "metadata": {},
   "outputs": [],
   "source": []
  },
  {
   "cell_type": "code",
   "execution_count": null,
   "id": "3fe9ba1b-f1d3-4c56-a697-9e2978dff442",
   "metadata": {},
   "outputs": [],
   "source": []
  },
  {
   "cell_type": "code",
   "execution_count": null,
   "id": "b4b8fa54-6ef3-4d08-a001-130722aaad5b",
   "metadata": {},
   "outputs": [],
   "source": []
  },
  {
   "cell_type": "code",
   "execution_count": null,
   "id": "47502f44-ef63-4c0c-b855-e30673a30b6b",
   "metadata": {},
   "outputs": [],
   "source": []
  }
 ],
 "metadata": {
  "kernelspec": {
   "display_name": "Python 3 (ipykernel)",
   "language": "python",
   "name": "python3"
  },
  "language_info": {
   "codemirror_mode": {
    "name": "ipython",
    "version": 3
   },
   "file_extension": ".py",
   "mimetype": "text/x-python",
   "name": "python",
   "nbconvert_exporter": "python",
   "pygments_lexer": "ipython3",
   "version": "3.7.0"
  }
 },
 "nbformat": 4,
 "nbformat_minor": 5
}
