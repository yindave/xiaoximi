{
 "cells": [
  {
   "cell_type": "code",
   "execution_count": 1,
   "id": "6c2fe83f-b756-4167-867a-733ddbedbc13",
   "metadata": {},
   "outputs": [],
   "source": [
    "import pandas as pd\n",
    "import numpy as np\n",
    "import utilities.misc as um\n",
    "import utilities.constants as uc\n",
    "import pdb\n",
    "from blp.bdx import bdh,bdp,bds\n",
    "from fql.fql import Factset_Query\n",
    "from fql.util import bbg_to_fs, fs_to_bbg,fql_date\n",
    "from blp.util import get_bbg_usual_col, group_marcap,get_ashare_exchange,load_compo\n",
    "import feather\n",
    "import os\n",
    "\n",
    "#plotly related\n",
    "import plotly.graph_objects as go\n",
    "from plotly.subplots import make_subplots\n",
    "import utilities.display as ud\n",
    "\n",
    "from datetime import datetime\n",
    "\n",
    "import utilities.mathematics as umath\n",
    "\n",
    "from joblib import load, dump\n",
    "\n",
    "import matplotlib.pyplot as plt\n",
    "\n",
    "\n",
    "\n",
    "from interpret import show\n",
    "from interpret.glassbox import ExplainableBoostingRegressor\n",
    "\n",
    "\n",
    "\n",
    "from backtester.backtester import BACKTESTER"
   ]
  },
  {
   "cell_type": "code",
   "execution_count": null,
   "id": "6dbac883-5188-4f2f-aa24-f39f4cced349",
   "metadata": {},
   "outputs": [],
   "source": []
  },
  {
   "cell_type": "markdown",
   "id": "3952b803-bd7a-4fa5-a5f5-889ed709b920",
   "metadata": {},
   "source": [
    "# Coding of backtester\n",
    "- think of weight as notional, then short is just negative notional on some return stream\n",
    "- assume no leverage is easier for LS\n",
    "- to reconcile no-leverage vs. 1x leverage (the existing backtester), do diff (not pct_chg), x2, cumsum (not cumprod)\n",
    "    - this is because at stock level return is compounded but at port level the compounded ret are summed\n",
    "- the above reconciliation will not work once you rebalance (because the difference is compounded over time)"
   ]
  },
  {
   "cell_type": "code",
   "execution_count": 2,
   "id": "cb0dad57-1f27-4bc5-81b2-cbe75b5b6f6d",
   "metadata": {},
   "outputs": [],
   "source": [
    "# load some data\n",
    "path=\"C:\\\\Users\\\\davehanzhang\\\\python_data\\\\connect\\\\ccass_all\\\\\"\n",
    "px=feather.read_dataframe(path+'px_data.feather').set_index(['date','ticker'])['PX_LAST'].unstack()\n",
    "ret=px.pct_change().fillna(0)\n",
    "\n",
    "bt=BACKTESTER(path,bps=0)\n"
   ]
  },
  {
   "cell_type": "code",
   "execution_count": 3,
   "id": "090118f9-cedf-4c06-9459-2954414d91e5",
   "metadata": {},
   "outputs": [],
   "source": [
    "shorts=['700 HK Equity','1299 HK Equity','3690 HK Equity','1810 HK Equity']\n",
    "longs=['883 HK Equity','2357 HK Equity','3333 HK Equity','728 HK Equity']\n",
    "\n",
    "\n",
    "\n",
    "signals=pd.concat([px[longs].applymap(lambda x: 1/len(longs)),\n",
    "                   px[shorts].applymap(lambda x: -1/len(shorts)),\n",
    "                  ],axis=1).resample('BM').last().iloc[:-1]\n",
    "                   \n",
    "feather.write_dataframe(signals.reset_index(),path+'signals.feather')\n",
    "feather.write_dataframe(px.reset_index(),path+'mkt.feather')\n",
    "feather.write_dataframe(px.reset_index(),path+'vwap.feather')"
   ]
  },
  {
   "cell_type": "code",
   "execution_count": 4,
   "id": "ba7cf49d-c1da-4fbd-a64b-78edba493653",
   "metadata": {},
   "outputs": [],
   "source": [
    "bt.load_data(signal_name='signals')\n",
    "bt.mkt['cash']=1\n",
    "bt.vwap['cash']=1\n"
   ]
  },
  {
   "cell_type": "code",
   "execution_count": 5,
   "id": "a50521bb-5d6c-45e9-bf16-6f98f4292ffc",
   "metadata": {},
   "outputs": [],
   "source": [
    "perf_pct,perf_abs,shares_overtime,to,hlds=bt.run_with_weight(signals.index[0],len(signals.columns),'cash',signals,normalize_wgt=False)"
   ]
  },
  {
   "cell_type": "code",
   "execution_count": 6,
   "id": "c09b2aea-1258-4ec5-bb50-161a3b715e2a",
   "metadata": {},
   "outputs": [
    {
     "data": {
      "text/plain": [
       "<matplotlib.axes._subplots.AxesSubplot at 0x2082fdbcbe0>"
      ]
     },
     "execution_count": 6,
     "metadata": {},
     "output_type": "execute_result"
    },
    {
     "data": {
      "image/png": "[encoded data removed]",
      "text/plain": [
       "<Figure size 432x288 with 1 Axes>"
      ]
     },
     "metadata": {
      "needs_background": "light"
     },
     "output_type": "display_data"
    }
   ],
   "source": [
    "perf_pct['l-mkt_net'].plot()"
   ]
  },
  {
   "cell_type": "code",
   "execution_count": null,
   "id": "96e3dab8-197a-4607-8e08-1fe56382e736",
   "metadata": {},
   "outputs": [],
   "source": []
  },
  {
   "cell_type": "code",
   "execution_count": 7,
   "id": "f7b5b8bb-15b4-4fcb-868a-44df67cbf688",
   "metadata": {},
   "outputs": [],
   "source": [
    "# a quick backtester coding\n",
    "\n",
    "signals_no_leverage=signals/2\n",
    "last_value=signals_no_leverage.abs().sum(1)[0]\n",
    "\n",
    "collector=[]\n",
    "rebal_value=pd.Series(index=signals_no_leverage.index,data=np.nan)\n",
    "for i,dt_i in enumerate(signals_no_leverage.index):\n",
    "    try:\n",
    "        dt_next_i=signals_no_leverage.index[i+1]\n",
    "    except:\n",
    "        dt_next_i=bt.mkt.index[-1]\n",
    "    \n",
    "    wgt_i=signals_no_leverage.loc[dt_i]\n",
    "    port_i=(px.loc[dt_i:dt_next_i][signals_no_leverage.columns].pct_change().fillna(0)+1).cumprod().multiply(wgt_i,axis='columns')\n",
    "    \n",
    "    ret_cumu_i=last_value*(port_i.sum(1)+1)\n",
    "    last_value=ret_cumu_i.iloc[-1]\n",
    "    # if i==1:\n",
    "    #     check_1=port_i\n",
    "    #     asdf\n",
    "    try:\n",
    "        rebal_value.at[dt_next_i]=(signals.loc[dt_next_i]*last_value-port_i.iloc[-1]).abs().sum()\n",
    "    except:\n",
    "        pass\n",
    "    collector.append(ret_cumu_i)"
   ]
  },
  {
   "cell_type": "code",
   "execution_count": 8,
   "id": "a6e34108-15e8-43fc-b219-2fe220ffbe07",
   "metadata": {},
   "outputs": [],
   "source": [
    "# # a quick backtester coding\n",
    "\n",
    "# signals_no_leverage=signals\n",
    "# last_value=1#signals_no_leverage.abs().sum(1)[0]\n",
    "\n",
    "# collector=[]\n",
    "# rebal_value=pd.Series(index=signals_no_leverage.index,data=np.nan)\n",
    "# for i,dt_i in enumerate(signals_no_leverage.index):\n",
    "#     try:\n",
    "#         dt_next_i=signals_no_leverage.index[i+1]\n",
    "#     except:\n",
    "#         dt_next_i=bt.mkt.index[-1]\n",
    "    \n",
    "#     wgt_i=signals_no_leverage.loc[dt_i]\n",
    "#     port_i=(px.loc[dt_i:dt_next_i][signals_no_leverage.columns].pct_change().fillna(0)+1).cumprod().multiply(wgt_i,axis='columns')\n",
    "    \n",
    "#     ret_cumu_i=last_value*(port_i.sum(1)+1) # the issue is about +1 here, it's a bit confusing here.\n",
    "#     last_value=ret_cumu_i.iloc[-1]\n",
    "#     # if i==1:\n",
    "#     #     check_2=port_i\n",
    "#     #     asdf\n",
    "#     try:\n",
    "#         rebal_value.at[dt_next_i]=(signals.loc[dt_next_i]*last_value-port_i.iloc[-1]).abs().sum()\n",
    "#     except:\n",
    "#         pass\n",
    "#     collector.append(ret_cumu_i)"
   ]
  },
  {
   "cell_type": "code",
   "execution_count": 9,
   "id": "109a5bc1-db63-41ff-82b0-7d4e0fd37244",
   "metadata": {},
   "outputs": [],
   "source": [
    "# (check_1.sum(1)+1).pct_change()/(check_2.sum(1)+1).pct_change()"
   ]
  },
  {
   "cell_type": "code",
   "execution_count": 10,
   "id": "ef2cde9e-f24a-4161-a3ef-d05874e55713",
   "metadata": {},
   "outputs": [],
   "source": [
    "# check_1.sum(1).diff()/check_2.sum(1).diff()"
   ]
  },
  {
   "cell_type": "code",
   "execution_count": 11,
   "id": "d064fbd1-c219-48d8-b8e3-b83d2b5f406f",
   "metadata": {},
   "outputs": [
    {
     "data": {
      "text/plain": [
       "<matplotlib.axes._subplots.AxesSubplot at 0x2082f1c9908>"
      ]
     },
     "execution_count": 11,
     "metadata": {},
     "output_type": "execute_result"
    },
    {
     "data": {
      "image/png": "[encoded data removed]",
      "text/plain": [
       "<Figure size 432x288 with 1 Axes>"
      ]
     },
     "metadata": {
      "needs_background": "light"
     },
     "output_type": "display_data"
    }
   ],
   "source": [
    "pd.concat(collector).reset_index().groupby('date').last()[0].plot()"
   ]
  },
  {
   "cell_type": "code",
   "execution_count": 12,
   "id": "80a47ed5-e894-4483-966b-fe19dbcb7f1e",
   "metadata": {},
   "outputs": [
    {
     "data": {
      "text/plain": [
       "<matplotlib.axes._subplots.AxesSubplot at 0x2082fbc5f98>"
      ]
     },
     "execution_count": 12,
     "metadata": {},
     "output_type": "execute_result"
    },
    {
     "data": {
      "image/png": "[encoded data removed]",
      "text/plain": [
       "<Figure size 432x288 with 1 Axes>"
      ]
     },
     "metadata": {
      "needs_background": "light"
     },
     "output_type": "display_data"
    }
   ],
   "source": [
    "comp=pd.concat([perf_pct['l-mkt_net'].rename('old'),\n",
    "               pd.concat(collector).reset_index().groupby('date').last()[0].rename('new')\n",
    "               ],axis=1)\n",
    "comp.dropna().diff().plot(kind='scatter',x='new',y='old')"
   ]
  },
  {
   "cell_type": "code",
   "execution_count": 13,
   "id": "5a1e0cdb-5da8-414a-b092-82c40691d5e6",
   "metadata": {
    "collapsed": true,
    "jupyter": {
     "outputs_hidden": true
    },
    "tags": []
   },
   "outputs": [
    {
     "data": {
      "text/html": [
       "<style  type=\"text/css\" >\n",
       "</style><table id=\"T_d905511e_98ae_11ee_a1b5_3c9c0f35adb2\" ><thead>    <tr>        <th class=\"blank level0\" ></th>        <th class=\"col_heading level0 col0\" >new</th>    </tr>    <tr>        <th class=\"index_name level0\" >date</th>        <th class=\"blank\" ></th>    </tr></thead><tbody>\n",
       "                <tr>\n",
       "                        <th id=\"T_d905511e_98ae_11ee_a1b5_3c9c0f35adb2level0_row0\" class=\"row_heading level0 row0\" >2022-01-31 00:00:00</th>\n",
       "                        <td id=\"T_d905511e_98ae_11ee_a1b5_3c9c0f35adb2row0_col0\" class=\"data row0 col0\" >nan</td>\n",
       "            </tr>\n",
       "            <tr>\n",
       "                        <th id=\"T_d905511e_98ae_11ee_a1b5_3c9c0f35adb2level0_row1\" class=\"row_heading level0 row1\" >2022-02-04 00:00:00</th>\n",
       "                        <td id=\"T_d905511e_98ae_11ee_a1b5_3c9c0f35adb2row1_col0\" class=\"data row1 col0\" >-0.500000</td>\n",
       "            </tr>\n",
       "            <tr>\n",
       "                        <th id=\"T_d905511e_98ae_11ee_a1b5_3c9c0f35adb2level0_row2\" class=\"row_heading level0 row2\" >2022-02-07 00:00:00</th>\n",
       "                        <td id=\"T_d905511e_98ae_11ee_a1b5_3c9c0f35adb2row2_col0\" class=\"data row2 col0\" >-0.500000</td>\n",
       "            </tr>\n",
       "            <tr>\n",
       "                        <th id=\"T_d905511e_98ae_11ee_a1b5_3c9c0f35adb2level0_row3\" class=\"row_heading level0 row3\" >2022-02-08 00:00:00</th>\n",
       "                        <td id=\"T_d905511e_98ae_11ee_a1b5_3c9c0f35adb2row3_col0\" class=\"data row3 col0\" >-0.500000</td>\n",
       "            </tr>\n",
       "            <tr>\n",
       "                        <th id=\"T_d905511e_98ae_11ee_a1b5_3c9c0f35adb2level0_row4\" class=\"row_heading level0 row4\" >2022-02-09 00:00:00</th>\n",
       "                        <td id=\"T_d905511e_98ae_11ee_a1b5_3c9c0f35adb2row4_col0\" class=\"data row4 col0\" >-0.500000</td>\n",
       "            </tr>\n",
       "            <tr>\n",
       "                        <th id=\"T_d905511e_98ae_11ee_a1b5_3c9c0f35adb2level0_row5\" class=\"row_heading level0 row5\" >2022-02-10 00:00:00</th>\n",
       "                        <td id=\"T_d905511e_98ae_11ee_a1b5_3c9c0f35adb2row5_col0\" class=\"data row5 col0\" >-0.500000</td>\n",
       "            </tr>\n",
       "            <tr>\n",
       "                        <th id=\"T_d905511e_98ae_11ee_a1b5_3c9c0f35adb2level0_row6\" class=\"row_heading level0 row6\" >2022-02-11 00:00:00</th>\n",
       "                        <td id=\"T_d905511e_98ae_11ee_a1b5_3c9c0f35adb2row6_col0\" class=\"data row6 col0\" >-0.500000</td>\n",
       "            </tr>\n",
       "            <tr>\n",
       "                        <th id=\"T_d905511e_98ae_11ee_a1b5_3c9c0f35adb2level0_row7\" class=\"row_heading level0 row7\" >2022-02-14 00:00:00</th>\n",
       "                        <td id=\"T_d905511e_98ae_11ee_a1b5_3c9c0f35adb2row7_col0\" class=\"data row7 col0\" >-0.500000</td>\n",
       "            </tr>\n",
       "            <tr>\n",
       "                        <th id=\"T_d905511e_98ae_11ee_a1b5_3c9c0f35adb2level0_row8\" class=\"row_heading level0 row8\" >2022-02-15 00:00:00</th>\n",
       "                        <td id=\"T_d905511e_98ae_11ee_a1b5_3c9c0f35adb2row8_col0\" class=\"data row8 col0\" >-0.500000</td>\n",
       "            </tr>\n",
       "            <tr>\n",
       "                        <th id=\"T_d905511e_98ae_11ee_a1b5_3c9c0f35adb2level0_row9\" class=\"row_heading level0 row9\" >2022-02-16 00:00:00</th>\n",
       "                        <td id=\"T_d905511e_98ae_11ee_a1b5_3c9c0f35adb2row9_col0\" class=\"data row9 col0\" >-0.500000</td>\n",
       "            </tr>\n",
       "            <tr>\n",
       "                        <th id=\"T_d905511e_98ae_11ee_a1b5_3c9c0f35adb2level0_row10\" class=\"row_heading level0 row10\" >2022-02-17 00:00:00</th>\n",
       "                        <td id=\"T_d905511e_98ae_11ee_a1b5_3c9c0f35adb2row10_col0\" class=\"data row10 col0\" >-0.500000</td>\n",
       "            </tr>\n",
       "            <tr>\n",
       "                        <th id=\"T_d905511e_98ae_11ee_a1b5_3c9c0f35adb2level0_row11\" class=\"row_heading level0 row11\" >2022-02-18 00:00:00</th>\n",
       "                        <td id=\"T_d905511e_98ae_11ee_a1b5_3c9c0f35adb2row11_col0\" class=\"data row11 col0\" >-0.500000</td>\n",
       "            </tr>\n",
       "            <tr>\n",
       "                        <th id=\"T_d905511e_98ae_11ee_a1b5_3c9c0f35adb2level0_row12\" class=\"row_heading level0 row12\" >2022-02-21 00:00:00</th>\n",
       "                        <td id=\"T_d905511e_98ae_11ee_a1b5_3c9c0f35adb2row12_col0\" class=\"data row12 col0\" >-0.500000</td>\n",
       "            </tr>\n",
       "            <tr>\n",
       "                        <th id=\"T_d905511e_98ae_11ee_a1b5_3c9c0f35adb2level0_row13\" class=\"row_heading level0 row13\" >2022-02-22 00:00:00</th>\n",
       "                        <td id=\"T_d905511e_98ae_11ee_a1b5_3c9c0f35adb2row13_col0\" class=\"data row13 col0\" >-0.500000</td>\n",
       "            </tr>\n",
       "            <tr>\n",
       "                        <th id=\"T_d905511e_98ae_11ee_a1b5_3c9c0f35adb2level0_row14\" class=\"row_heading level0 row14\" >2022-02-23 00:00:00</th>\n",
       "                        <td id=\"T_d905511e_98ae_11ee_a1b5_3c9c0f35adb2row14_col0\" class=\"data row14 col0\" >-0.500000</td>\n",
       "            </tr>\n",
       "            <tr>\n",
       "                        <th id=\"T_d905511e_98ae_11ee_a1b5_3c9c0f35adb2level0_row15\" class=\"row_heading level0 row15\" >2022-02-24 00:00:00</th>\n",
       "                        <td id=\"T_d905511e_98ae_11ee_a1b5_3c9c0f35adb2row15_col0\" class=\"data row15 col0\" >-0.500000</td>\n",
       "            </tr>\n",
       "            <tr>\n",
       "                        <th id=\"T_d905511e_98ae_11ee_a1b5_3c9c0f35adb2level0_row16\" class=\"row_heading level0 row16\" >2022-02-25 00:00:00</th>\n",
       "                        <td id=\"T_d905511e_98ae_11ee_a1b5_3c9c0f35adb2row16_col0\" class=\"data row16 col0\" >-0.500000</td>\n",
       "            </tr>\n",
       "            <tr>\n",
       "                        <th id=\"T_d905511e_98ae_11ee_a1b5_3c9c0f35adb2level0_row17\" class=\"row_heading level0 row17\" >2022-02-28 00:00:00</th>\n",
       "                        <td id=\"T_d905511e_98ae_11ee_a1b5_3c9c0f35adb2row17_col0\" class=\"data row17 col0\" >-0.500000</td>\n",
       "            </tr>\n",
       "            <tr>\n",
       "                        <th id=\"T_d905511e_98ae_11ee_a1b5_3c9c0f35adb2level0_row18\" class=\"row_heading level0 row18\" >2022-03-01 00:00:00</th>\n",
       "                        <td id=\"T_d905511e_98ae_11ee_a1b5_3c9c0f35adb2row18_col0\" class=\"data row18 col0\" >-0.531497</td>\n",
       "            </tr>\n",
       "            <tr>\n",
       "                        <th id=\"T_d905511e_98ae_11ee_a1b5_3c9c0f35adb2level0_row19\" class=\"row_heading level0 row19\" >2022-03-02 00:00:00</th>\n",
       "                        <td id=\"T_d905511e_98ae_11ee_a1b5_3c9c0f35adb2row19_col0\" class=\"data row19 col0\" >-0.531497</td>\n",
       "            </tr>\n",
       "            <tr>\n",
       "                        <th id=\"T_d905511e_98ae_11ee_a1b5_3c9c0f35adb2level0_row20\" class=\"row_heading level0 row20\" >2022-03-03 00:00:00</th>\n",
       "                        <td id=\"T_d905511e_98ae_11ee_a1b5_3c9c0f35adb2row20_col0\" class=\"data row20 col0\" >-0.531497</td>\n",
       "            </tr>\n",
       "            <tr>\n",
       "                        <th id=\"T_d905511e_98ae_11ee_a1b5_3c9c0f35adb2level0_row21\" class=\"row_heading level0 row21\" >2022-03-04 00:00:00</th>\n",
       "                        <td id=\"T_d905511e_98ae_11ee_a1b5_3c9c0f35adb2row21_col0\" class=\"data row21 col0\" >-0.531497</td>\n",
       "            </tr>\n",
       "            <tr>\n",
       "                        <th id=\"T_d905511e_98ae_11ee_a1b5_3c9c0f35adb2level0_row22\" class=\"row_heading level0 row22\" >2022-03-07 00:00:00</th>\n",
       "                        <td id=\"T_d905511e_98ae_11ee_a1b5_3c9c0f35adb2row22_col0\" class=\"data row22 col0\" >-0.531497</td>\n",
       "            </tr>\n",
       "            <tr>\n",
       "                        <th id=\"T_d905511e_98ae_11ee_a1b5_3c9c0f35adb2level0_row23\" class=\"row_heading level0 row23\" >2022-03-08 00:00:00</th>\n",
       "                        <td id=\"T_d905511e_98ae_11ee_a1b5_3c9c0f35adb2row23_col0\" class=\"data row23 col0\" >-0.531497</td>\n",
       "            </tr>\n",
       "            <tr>\n",
       "                        <th id=\"T_d905511e_98ae_11ee_a1b5_3c9c0f35adb2level0_row24\" class=\"row_heading level0 row24\" >2022-03-09 00:00:00</th>\n",
       "                        <td id=\"T_d905511e_98ae_11ee_a1b5_3c9c0f35adb2row24_col0\" class=\"data row24 col0\" >-0.531497</td>\n",
       "            </tr>\n",
       "            <tr>\n",
       "                        <th id=\"T_d905511e_98ae_11ee_a1b5_3c9c0f35adb2level0_row25\" class=\"row_heading level0 row25\" >2022-03-10 00:00:00</th>\n",
       "                        <td id=\"T_d905511e_98ae_11ee_a1b5_3c9c0f35adb2row25_col0\" class=\"data row25 col0\" >-0.531497</td>\n",
       "            </tr>\n",
       "            <tr>\n",
       "                        <th id=\"T_d905511e_98ae_11ee_a1b5_3c9c0f35adb2level0_row26\" class=\"row_heading level0 row26\" >2022-03-11 00:00:00</th>\n",
       "                        <td id=\"T_d905511e_98ae_11ee_a1b5_3c9c0f35adb2row26_col0\" class=\"data row26 col0\" >-0.531497</td>\n",
       "            </tr>\n",
       "            <tr>\n",
       "                        <th id=\"T_d905511e_98ae_11ee_a1b5_3c9c0f35adb2level0_row27\" class=\"row_heading level0 row27\" >2022-03-14 00:00:00</th>\n",
       "                        <td id=\"T_d905511e_98ae_11ee_a1b5_3c9c0f35adb2row27_col0\" class=\"data row27 col0\" >-0.531497</td>\n",
       "            </tr>\n",
       "            <tr>\n",
       "                        <th id=\"T_d905511e_98ae_11ee_a1b5_3c9c0f35adb2level0_row28\" class=\"row_heading level0 row28\" >2022-03-15 00:00:00</th>\n",
       "                        <td id=\"T_d905511e_98ae_11ee_a1b5_3c9c0f35adb2row28_col0\" class=\"data row28 col0\" >-0.531497</td>\n",
       "            </tr>\n",
       "            <tr>\n",
       "                        <th id=\"T_d905511e_98ae_11ee_a1b5_3c9c0f35adb2level0_row29\" class=\"row_heading level0 row29\" >2022-03-16 00:00:00</th>\n",
       "                        <td id=\"T_d905511e_98ae_11ee_a1b5_3c9c0f35adb2row29_col0\" class=\"data row29 col0\" >-0.531497</td>\n",
       "            </tr>\n",
       "            <tr>\n",
       "                        <th id=\"T_d905511e_98ae_11ee_a1b5_3c9c0f35adb2level0_row30\" class=\"row_heading level0 row30\" >2022-03-17 00:00:00</th>\n",
       "                        <td id=\"T_d905511e_98ae_11ee_a1b5_3c9c0f35adb2row30_col0\" class=\"data row30 col0\" >-0.531497</td>\n",
       "            </tr>\n",
       "            <tr>\n",
       "                        <th id=\"T_d905511e_98ae_11ee_a1b5_3c9c0f35adb2level0_row31\" class=\"row_heading level0 row31\" >2022-03-18 00:00:00</th>\n",
       "                        <td id=\"T_d905511e_98ae_11ee_a1b5_3c9c0f35adb2row31_col0\" class=\"data row31 col0\" >-0.531497</td>\n",
       "            </tr>\n",
       "            <tr>\n",
       "                        <th id=\"T_d905511e_98ae_11ee_a1b5_3c9c0f35adb2level0_row32\" class=\"row_heading level0 row32\" >2022-03-21 00:00:00</th>\n",
       "                        <td id=\"T_d905511e_98ae_11ee_a1b5_3c9c0f35adb2row32_col0\" class=\"data row32 col0\" >-0.531497</td>\n",
       "            </tr>\n",
       "            <tr>\n",
       "                        <th id=\"T_d905511e_98ae_11ee_a1b5_3c9c0f35adb2level0_row33\" class=\"row_heading level0 row33\" >2022-03-22 00:00:00</th>\n",
       "                        <td id=\"T_d905511e_98ae_11ee_a1b5_3c9c0f35adb2row33_col0\" class=\"data row33 col0\" >-0.531497</td>\n",
       "            </tr>\n",
       "            <tr>\n",
       "                        <th id=\"T_d905511e_98ae_11ee_a1b5_3c9c0f35adb2level0_row34\" class=\"row_heading level0 row34\" >2022-03-23 00:00:00</th>\n",
       "                        <td id=\"T_d905511e_98ae_11ee_a1b5_3c9c0f35adb2row34_col0\" class=\"data row34 col0\" >-0.531497</td>\n",
       "            </tr>\n",
       "            <tr>\n",
       "                        <th id=\"T_d905511e_98ae_11ee_a1b5_3c9c0f35adb2level0_row35\" class=\"row_heading level0 row35\" >2022-03-24 00:00:00</th>\n",
       "                        <td id=\"T_d905511e_98ae_11ee_a1b5_3c9c0f35adb2row35_col0\" class=\"data row35 col0\" >-0.531497</td>\n",
       "            </tr>\n",
       "            <tr>\n",
       "                        <th id=\"T_d905511e_98ae_11ee_a1b5_3c9c0f35adb2level0_row36\" class=\"row_heading level0 row36\" >2022-03-25 00:00:00</th>\n",
       "                        <td id=\"T_d905511e_98ae_11ee_a1b5_3c9c0f35adb2row36_col0\" class=\"data row36 col0\" >-0.531497</td>\n",
       "            </tr>\n",
       "            <tr>\n",
       "                        <th id=\"T_d905511e_98ae_11ee_a1b5_3c9c0f35adb2level0_row37\" class=\"row_heading level0 row37\" >2022-03-28 00:00:00</th>\n",
       "                        <td id=\"T_d905511e_98ae_11ee_a1b5_3c9c0f35adb2row37_col0\" class=\"data row37 col0\" >-0.531497</td>\n",
       "            </tr>\n",
       "            <tr>\n",
       "                        <th id=\"T_d905511e_98ae_11ee_a1b5_3c9c0f35adb2level0_row38\" class=\"row_heading level0 row38\" >2022-03-29 00:00:00</th>\n",
       "                        <td id=\"T_d905511e_98ae_11ee_a1b5_3c9c0f35adb2row38_col0\" class=\"data row38 col0\" >-0.531497</td>\n",
       "            </tr>\n",
       "            <tr>\n",
       "                        <th id=\"T_d905511e_98ae_11ee_a1b5_3c9c0f35adb2level0_row39\" class=\"row_heading level0 row39\" >2022-03-30 00:00:00</th>\n",
       "                        <td id=\"T_d905511e_98ae_11ee_a1b5_3c9c0f35adb2row39_col0\" class=\"data row39 col0\" >-0.531497</td>\n",
       "            </tr>\n",
       "            <tr>\n",
       "                        <th id=\"T_d905511e_98ae_11ee_a1b5_3c9c0f35adb2level0_row40\" class=\"row_heading level0 row40\" >2022-03-31 00:00:00</th>\n",
       "                        <td id=\"T_d905511e_98ae_11ee_a1b5_3c9c0f35adb2row40_col0\" class=\"data row40 col0\" >-0.531497</td>\n",
       "            </tr>\n",
       "            <tr>\n",
       "                        <th id=\"T_d905511e_98ae_11ee_a1b5_3c9c0f35adb2level0_row41\" class=\"row_heading level0 row41\" >2022-04-01 00:00:00</th>\n",
       "                        <td id=\"T_d905511e_98ae_11ee_a1b5_3c9c0f35adb2row41_col0\" class=\"data row41 col0\" >-0.546970</td>\n",
       "            </tr>\n",
       "            <tr>\n",
       "                        <th id=\"T_d905511e_98ae_11ee_a1b5_3c9c0f35adb2level0_row42\" class=\"row_heading level0 row42\" >2022-04-04 00:00:00</th>\n",
       "                        <td id=\"T_d905511e_98ae_11ee_a1b5_3c9c0f35adb2row42_col0\" class=\"data row42 col0\" >-0.546970</td>\n",
       "            </tr>\n",
       "            <tr>\n",
       "                        <th id=\"T_d905511e_98ae_11ee_a1b5_3c9c0f35adb2level0_row43\" class=\"row_heading level0 row43\" >2022-04-06 00:00:00</th>\n",
       "                        <td id=\"T_d905511e_98ae_11ee_a1b5_3c9c0f35adb2row43_col0\" class=\"data row43 col0\" >-0.546970</td>\n",
       "            </tr>\n",
       "            <tr>\n",
       "                        <th id=\"T_d905511e_98ae_11ee_a1b5_3c9c0f35adb2level0_row44\" class=\"row_heading level0 row44\" >2022-04-07 00:00:00</th>\n",
       "                        <td id=\"T_d905511e_98ae_11ee_a1b5_3c9c0f35adb2row44_col0\" class=\"data row44 col0\" >-0.546970</td>\n",
       "            </tr>\n",
       "            <tr>\n",
       "                        <th id=\"T_d905511e_98ae_11ee_a1b5_3c9c0f35adb2level0_row45\" class=\"row_heading level0 row45\" >2022-04-08 00:00:00</th>\n",
       "                        <td id=\"T_d905511e_98ae_11ee_a1b5_3c9c0f35adb2row45_col0\" class=\"data row45 col0\" >-0.546970</td>\n",
       "            </tr>\n",
       "            <tr>\n",
       "                        <th id=\"T_d905511e_98ae_11ee_a1b5_3c9c0f35adb2level0_row46\" class=\"row_heading level0 row46\" >2022-04-11 00:00:00</th>\n",
       "                        <td id=\"T_d905511e_98ae_11ee_a1b5_3c9c0f35adb2row46_col0\" class=\"data row46 col0\" >-0.546970</td>\n",
       "            </tr>\n",
       "            <tr>\n",
       "                        <th id=\"T_d905511e_98ae_11ee_a1b5_3c9c0f35adb2level0_row47\" class=\"row_heading level0 row47\" >2022-04-12 00:00:00</th>\n",
       "                        <td id=\"T_d905511e_98ae_11ee_a1b5_3c9c0f35adb2row47_col0\" class=\"data row47 col0\" >-0.546970</td>\n",
       "            </tr>\n",
       "            <tr>\n",
       "                        <th id=\"T_d905511e_98ae_11ee_a1b5_3c9c0f35adb2level0_row48\" class=\"row_heading level0 row48\" >2022-04-13 00:00:00</th>\n",
       "                        <td id=\"T_d905511e_98ae_11ee_a1b5_3c9c0f35adb2row48_col0\" class=\"data row48 col0\" >-0.546970</td>\n",
       "            </tr>\n",
       "            <tr>\n",
       "                        <th id=\"T_d905511e_98ae_11ee_a1b5_3c9c0f35adb2level0_row49\" class=\"row_heading level0 row49\" >2022-04-14 00:00:00</th>\n",
       "                        <td id=\"T_d905511e_98ae_11ee_a1b5_3c9c0f35adb2row49_col0\" class=\"data row49 col0\" >-0.546970</td>\n",
       "            </tr>\n",
       "            <tr>\n",
       "                        <th id=\"T_d905511e_98ae_11ee_a1b5_3c9c0f35adb2level0_row50\" class=\"row_heading level0 row50\" >2022-04-19 00:00:00</th>\n",
       "                        <td id=\"T_d905511e_98ae_11ee_a1b5_3c9c0f35adb2row50_col0\" class=\"data row50 col0\" >-0.546970</td>\n",
       "            </tr>\n",
       "            <tr>\n",
       "                        <th id=\"T_d905511e_98ae_11ee_a1b5_3c9c0f35adb2level0_row51\" class=\"row_heading level0 row51\" >2022-04-20 00:00:00</th>\n",
       "                        <td id=\"T_d905511e_98ae_11ee_a1b5_3c9c0f35adb2row51_col0\" class=\"data row51 col0\" >-0.546970</td>\n",
       "            </tr>\n",
       "            <tr>\n",
       "                        <th id=\"T_d905511e_98ae_11ee_a1b5_3c9c0f35adb2level0_row52\" class=\"row_heading level0 row52\" >2022-04-21 00:00:00</th>\n",
       "                        <td id=\"T_d905511e_98ae_11ee_a1b5_3c9c0f35adb2row52_col0\" class=\"data row52 col0\" >-0.546970</td>\n",
       "            </tr>\n",
       "            <tr>\n",
       "                        <th id=\"T_d905511e_98ae_11ee_a1b5_3c9c0f35adb2level0_row53\" class=\"row_heading level0 row53\" >2022-04-22 00:00:00</th>\n",
       "                        <td id=\"T_d905511e_98ae_11ee_a1b5_3c9c0f35adb2row53_col0\" class=\"data row53 col0\" >-0.546970</td>\n",
       "            </tr>\n",
       "            <tr>\n",
       "                        <th id=\"T_d905511e_98ae_11ee_a1b5_3c9c0f35adb2level0_row54\" class=\"row_heading level0 row54\" >2022-04-25 00:00:00</th>\n",
       "                        <td id=\"T_d905511e_98ae_11ee_a1b5_3c9c0f35adb2row54_col0\" class=\"data row54 col0\" >-0.546970</td>\n",
       "            </tr>\n",
       "            <tr>\n",
       "                        <th id=\"T_d905511e_98ae_11ee_a1b5_3c9c0f35adb2level0_row55\" class=\"row_heading level0 row55\" >2022-04-26 00:00:00</th>\n",
       "                        <td id=\"T_d905511e_98ae_11ee_a1b5_3c9c0f35adb2row55_col0\" class=\"data row55 col0\" >-0.546970</td>\n",
       "            </tr>\n",
       "            <tr>\n",
       "                        <th id=\"T_d905511e_98ae_11ee_a1b5_3c9c0f35adb2level0_row56\" class=\"row_heading level0 row56\" >2022-04-27 00:00:00</th>\n",
       "                        <td id=\"T_d905511e_98ae_11ee_a1b5_3c9c0f35adb2row56_col0\" class=\"data row56 col0\" >-0.546970</td>\n",
       "            </tr>\n",
       "            <tr>\n",
       "                        <th id=\"T_d905511e_98ae_11ee_a1b5_3c9c0f35adb2level0_row57\" class=\"row_heading level0 row57\" >2022-04-28 00:00:00</th>\n",
       "                        <td id=\"T_d905511e_98ae_11ee_a1b5_3c9c0f35adb2row57_col0\" class=\"data row57 col0\" >-0.546970</td>\n",
       "            </tr>\n",
       "            <tr>\n",
       "                        <th id=\"T_d905511e_98ae_11ee_a1b5_3c9c0f35adb2level0_row58\" class=\"row_heading level0 row58\" >2022-04-29 00:00:00</th>\n",
       "                        <td id=\"T_d905511e_98ae_11ee_a1b5_3c9c0f35adb2row58_col0\" class=\"data row58 col0\" >-0.546970</td>\n",
       "            </tr>\n",
       "            <tr>\n",
       "                        <th id=\"T_d905511e_98ae_11ee_a1b5_3c9c0f35adb2level0_row59\" class=\"row_heading level0 row59\" >2022-05-03 00:00:00</th>\n",
       "                        <td id=\"T_d905511e_98ae_11ee_a1b5_3c9c0f35adb2row59_col0\" class=\"data row59 col0\" >-0.549915</td>\n",
       "            </tr>\n",
       "            <tr>\n",
       "                        <th id=\"T_d905511e_98ae_11ee_a1b5_3c9c0f35adb2level0_row60\" class=\"row_heading level0 row60\" >2022-05-04 00:00:00</th>\n",
       "                        <td id=\"T_d905511e_98ae_11ee_a1b5_3c9c0f35adb2row60_col0\" class=\"data row60 col0\" >-0.549915</td>\n",
       "            </tr>\n",
       "            <tr>\n",
       "                        <th id=\"T_d905511e_98ae_11ee_a1b5_3c9c0f35adb2level0_row61\" class=\"row_heading level0 row61\" >2022-05-05 00:00:00</th>\n",
       "                        <td id=\"T_d905511e_98ae_11ee_a1b5_3c9c0f35adb2row61_col0\" class=\"data row61 col0\" >-0.549915</td>\n",
       "            </tr>\n",
       "            <tr>\n",
       "                        <th id=\"T_d905511e_98ae_11ee_a1b5_3c9c0f35adb2level0_row62\" class=\"row_heading level0 row62\" >2022-05-06 00:00:00</th>\n",
       "                        <td id=\"T_d905511e_98ae_11ee_a1b5_3c9c0f35adb2row62_col0\" class=\"data row62 col0\" >-0.549915</td>\n",
       "            </tr>\n",
       "            <tr>\n",
       "                        <th id=\"T_d905511e_98ae_11ee_a1b5_3c9c0f35adb2level0_row63\" class=\"row_heading level0 row63\" >2022-05-10 00:00:00</th>\n",
       "                        <td id=\"T_d905511e_98ae_11ee_a1b5_3c9c0f35adb2row63_col0\" class=\"data row63 col0\" >-0.549915</td>\n",
       "            </tr>\n",
       "            <tr>\n",
       "                        <th id=\"T_d905511e_98ae_11ee_a1b5_3c9c0f35adb2level0_row64\" class=\"row_heading level0 row64\" >2022-05-11 00:00:00</th>\n",
       "                        <td id=\"T_d905511e_98ae_11ee_a1b5_3c9c0f35adb2row64_col0\" class=\"data row64 col0\" >-0.549915</td>\n",
       "            </tr>\n",
       "            <tr>\n",
       "                        <th id=\"T_d905511e_98ae_11ee_a1b5_3c9c0f35adb2level0_row65\" class=\"row_heading level0 row65\" >2022-05-12 00:00:00</th>\n",
       "                        <td id=\"T_d905511e_98ae_11ee_a1b5_3c9c0f35adb2row65_col0\" class=\"data row65 col0\" >-0.549915</td>\n",
       "            </tr>\n",
       "            <tr>\n",
       "                        <th id=\"T_d905511e_98ae_11ee_a1b5_3c9c0f35adb2level0_row66\" class=\"row_heading level0 row66\" >2022-05-13 00:00:00</th>\n",
       "                        <td id=\"T_d905511e_98ae_11ee_a1b5_3c9c0f35adb2row66_col0\" class=\"data row66 col0\" >-0.549915</td>\n",
       "            </tr>\n",
       "            <tr>\n",
       "                        <th id=\"T_d905511e_98ae_11ee_a1b5_3c9c0f35adb2level0_row67\" class=\"row_heading level0 row67\" >2022-05-16 00:00:00</th>\n",
       "                        <td id=\"T_d905511e_98ae_11ee_a1b5_3c9c0f35adb2row67_col0\" class=\"data row67 col0\" >-0.549915</td>\n",
       "            </tr>\n",
       "            <tr>\n",
       "                        <th id=\"T_d905511e_98ae_11ee_a1b5_3c9c0f35adb2level0_row68\" class=\"row_heading level0 row68\" >2022-05-17 00:00:00</th>\n",
       "                        <td id=\"T_d905511e_98ae_11ee_a1b5_3c9c0f35adb2row68_col0\" class=\"data row68 col0\" >-0.549915</td>\n",
       "            </tr>\n",
       "            <tr>\n",
       "                        <th id=\"T_d905511e_98ae_11ee_a1b5_3c9c0f35adb2level0_row69\" class=\"row_heading level0 row69\" >2022-05-18 00:00:00</th>\n",
       "                        <td id=\"T_d905511e_98ae_11ee_a1b5_3c9c0f35adb2row69_col0\" class=\"data row69 col0\" >-0.549915</td>\n",
       "            </tr>\n",
       "            <tr>\n",
       "                        <th id=\"T_d905511e_98ae_11ee_a1b5_3c9c0f35adb2level0_row70\" class=\"row_heading level0 row70\" >2022-05-19 00:00:00</th>\n",
       "                        <td id=\"T_d905511e_98ae_11ee_a1b5_3c9c0f35adb2row70_col0\" class=\"data row70 col0\" >-0.549915</td>\n",
       "            </tr>\n",
       "            <tr>\n",
       "                        <th id=\"T_d905511e_98ae_11ee_a1b5_3c9c0f35adb2level0_row71\" class=\"row_heading level0 row71\" >2022-05-20 00:00:00</th>\n",
       "                        <td id=\"T_d905511e_98ae_11ee_a1b5_3c9c0f35adb2row71_col0\" class=\"data row71 col0\" >-0.549915</td>\n",
       "            </tr>\n",
       "            <tr>\n",
       "                        <th id=\"T_d905511e_98ae_11ee_a1b5_3c9c0f35adb2level0_row72\" class=\"row_heading level0 row72\" >2022-05-23 00:00:00</th>\n",
       "                        <td id=\"T_d905511e_98ae_11ee_a1b5_3c9c0f35adb2row72_col0\" class=\"data row72 col0\" >-0.549915</td>\n",
       "            </tr>\n",
       "            <tr>\n",
       "                        <th id=\"T_d905511e_98ae_11ee_a1b5_3c9c0f35adb2level0_row73\" class=\"row_heading level0 row73\" >2022-05-24 00:00:00</th>\n",
       "                        <td id=\"T_d905511e_98ae_11ee_a1b5_3c9c0f35adb2row73_col0\" class=\"data row73 col0\" >-0.549915</td>\n",
       "            </tr>\n",
       "            <tr>\n",
       "                        <th id=\"T_d905511e_98ae_11ee_a1b5_3c9c0f35adb2level0_row74\" class=\"row_heading level0 row74\" >2022-05-25 00:00:00</th>\n",
       "                        <td id=\"T_d905511e_98ae_11ee_a1b5_3c9c0f35adb2row74_col0\" class=\"data row74 col0\" >-0.549915</td>\n",
       "            </tr>\n",
       "            <tr>\n",
       "                        <th id=\"T_d905511e_98ae_11ee_a1b5_3c9c0f35adb2level0_row75\" class=\"row_heading level0 row75\" >2022-05-26 00:00:00</th>\n",
       "                        <td id=\"T_d905511e_98ae_11ee_a1b5_3c9c0f35adb2row75_col0\" class=\"data row75 col0\" >-0.549915</td>\n",
       "            </tr>\n",
       "            <tr>\n",
       "                        <th id=\"T_d905511e_98ae_11ee_a1b5_3c9c0f35adb2level0_row76\" class=\"row_heading level0 row76\" >2022-05-27 00:00:00</th>\n",
       "                        <td id=\"T_d905511e_98ae_11ee_a1b5_3c9c0f35adb2row76_col0\" class=\"data row76 col0\" >-0.549915</td>\n",
       "            </tr>\n",
       "            <tr>\n",
       "                        <th id=\"T_d905511e_98ae_11ee_a1b5_3c9c0f35adb2level0_row77\" class=\"row_heading level0 row77\" >2022-05-30 00:00:00</th>\n",
       "                        <td id=\"T_d905511e_98ae_11ee_a1b5_3c9c0f35adb2row77_col0\" class=\"data row77 col0\" >-0.549915</td>\n",
       "            </tr>\n",
       "            <tr>\n",
       "                        <th id=\"T_d905511e_98ae_11ee_a1b5_3c9c0f35adb2level0_row78\" class=\"row_heading level0 row78\" >2022-05-31 00:00:00</th>\n",
       "                        <td id=\"T_d905511e_98ae_11ee_a1b5_3c9c0f35adb2row78_col0\" class=\"data row78 col0\" >-0.549915</td>\n",
       "            </tr>\n",
       "            <tr>\n",
       "                        <th id=\"T_d905511e_98ae_11ee_a1b5_3c9c0f35adb2level0_row79\" class=\"row_heading level0 row79\" >2022-06-01 00:00:00</th>\n",
       "                        <td id=\"T_d905511e_98ae_11ee_a1b5_3c9c0f35adb2row79_col0\" class=\"data row79 col0\" >-0.551080</td>\n",
       "            </tr>\n",
       "            <tr>\n",
       "                        <th id=\"T_d905511e_98ae_11ee_a1b5_3c9c0f35adb2level0_row80\" class=\"row_heading level0 row80\" >2022-06-02 00:00:00</th>\n",
       "                        <td id=\"T_d905511e_98ae_11ee_a1b5_3c9c0f35adb2row80_col0\" class=\"data row80 col0\" >-0.551080</td>\n",
       "            </tr>\n",
       "            <tr>\n",
       "                        <th id=\"T_d905511e_98ae_11ee_a1b5_3c9c0f35adb2level0_row81\" class=\"row_heading level0 row81\" >2022-06-06 00:00:00</th>\n",
       "                        <td id=\"T_d905511e_98ae_11ee_a1b5_3c9c0f35adb2row81_col0\" class=\"data row81 col0\" >-0.551080</td>\n",
       "            </tr>\n",
       "            <tr>\n",
       "                        <th id=\"T_d905511e_98ae_11ee_a1b5_3c9c0f35adb2level0_row82\" class=\"row_heading level0 row82\" >2022-06-07 00:00:00</th>\n",
       "                        <td id=\"T_d905511e_98ae_11ee_a1b5_3c9c0f35adb2row82_col0\" class=\"data row82 col0\" >-0.551080</td>\n",
       "            </tr>\n",
       "            <tr>\n",
       "                        <th id=\"T_d905511e_98ae_11ee_a1b5_3c9c0f35adb2level0_row83\" class=\"row_heading level0 row83\" >2022-06-08 00:00:00</th>\n",
       "                        <td id=\"T_d905511e_98ae_11ee_a1b5_3c9c0f35adb2row83_col0\" class=\"data row83 col0\" >-0.551080</td>\n",
       "            </tr>\n",
       "            <tr>\n",
       "                        <th id=\"T_d905511e_98ae_11ee_a1b5_3c9c0f35adb2level0_row84\" class=\"row_heading level0 row84\" >2022-06-09 00:00:00</th>\n",
       "                        <td id=\"T_d905511e_98ae_11ee_a1b5_3c9c0f35adb2row84_col0\" class=\"data row84 col0\" >-0.551080</td>\n",
       "            </tr>\n",
       "            <tr>\n",
       "                        <th id=\"T_d905511e_98ae_11ee_a1b5_3c9c0f35adb2level0_row85\" class=\"row_heading level0 row85\" >2022-06-10 00:00:00</th>\n",
       "                        <td id=\"T_d905511e_98ae_11ee_a1b5_3c9c0f35adb2row85_col0\" class=\"data row85 col0\" >-0.551080</td>\n",
       "            </tr>\n",
       "            <tr>\n",
       "                        <th id=\"T_d905511e_98ae_11ee_a1b5_3c9c0f35adb2level0_row86\" class=\"row_heading level0 row86\" >2022-06-13 00:00:00</th>\n",
       "                        <td id=\"T_d905511e_98ae_11ee_a1b5_3c9c0f35adb2row86_col0\" class=\"data row86 col0\" >-0.551080</td>\n",
       "            </tr>\n",
       "            <tr>\n",
       "                        <th id=\"T_d905511e_98ae_11ee_a1b5_3c9c0f35adb2level0_row87\" class=\"row_heading level0 row87\" >2022-06-14 00:00:00</th>\n",
       "                        <td id=\"T_d905511e_98ae_11ee_a1b5_3c9c0f35adb2row87_col0\" class=\"data row87 col0\" >-0.551080</td>\n",
       "            </tr>\n",
       "            <tr>\n",
       "                        <th id=\"T_d905511e_98ae_11ee_a1b5_3c9c0f35adb2level0_row88\" class=\"row_heading level0 row88\" >2022-06-15 00:00:00</th>\n",
       "                        <td id=\"T_d905511e_98ae_11ee_a1b5_3c9c0f35adb2row88_col0\" class=\"data row88 col0\" >-0.551080</td>\n",
       "            </tr>\n",
       "            <tr>\n",
       "                        <th id=\"T_d905511e_98ae_11ee_a1b5_3c9c0f35adb2level0_row89\" class=\"row_heading level0 row89\" >2022-06-16 00:00:00</th>\n",
       "                        <td id=\"T_d905511e_98ae_11ee_a1b5_3c9c0f35adb2row89_col0\" class=\"data row89 col0\" >-0.551080</td>\n",
       "            </tr>\n",
       "            <tr>\n",
       "                        <th id=\"T_d905511e_98ae_11ee_a1b5_3c9c0f35adb2level0_row90\" class=\"row_heading level0 row90\" >2022-06-17 00:00:00</th>\n",
       "                        <td id=\"T_d905511e_98ae_11ee_a1b5_3c9c0f35adb2row90_col0\" class=\"data row90 col0\" >-0.551080</td>\n",
       "            </tr>\n",
       "            <tr>\n",
       "                        <th id=\"T_d905511e_98ae_11ee_a1b5_3c9c0f35adb2level0_row91\" class=\"row_heading level0 row91\" >2022-06-20 00:00:00</th>\n",
       "                        <td id=\"T_d905511e_98ae_11ee_a1b5_3c9c0f35adb2row91_col0\" class=\"data row91 col0\" >-0.551080</td>\n",
       "            </tr>\n",
       "            <tr>\n",
       "                        <th id=\"T_d905511e_98ae_11ee_a1b5_3c9c0f35adb2level0_row92\" class=\"row_heading level0 row92\" >2022-06-21 00:00:00</th>\n",
       "                        <td id=\"T_d905511e_98ae_11ee_a1b5_3c9c0f35adb2row92_col0\" class=\"data row92 col0\" >-0.551080</td>\n",
       "            </tr>\n",
       "            <tr>\n",
       "                        <th id=\"T_d905511e_98ae_11ee_a1b5_3c9c0f35adb2level0_row93\" class=\"row_heading level0 row93\" >2022-06-22 00:00:00</th>\n",
       "                        <td id=\"T_d905511e_98ae_11ee_a1b5_3c9c0f35adb2row93_col0\" class=\"data row93 col0\" >-0.551080</td>\n",
       "            </tr>\n",
       "            <tr>\n",
       "                        <th id=\"T_d905511e_98ae_11ee_a1b5_3c9c0f35adb2level0_row94\" class=\"row_heading level0 row94\" >2022-06-23 00:00:00</th>\n",
       "                        <td id=\"T_d905511e_98ae_11ee_a1b5_3c9c0f35adb2row94_col0\" class=\"data row94 col0\" >-0.551080</td>\n",
       "            </tr>\n",
       "            <tr>\n",
       "                        <th id=\"T_d905511e_98ae_11ee_a1b5_3c9c0f35adb2level0_row95\" class=\"row_heading level0 row95\" >2022-06-24 00:00:00</th>\n",
       "                        <td id=\"T_d905511e_98ae_11ee_a1b5_3c9c0f35adb2row95_col0\" class=\"data row95 col0\" >-0.551080</td>\n",
       "            </tr>\n",
       "            <tr>\n",
       "                        <th id=\"T_d905511e_98ae_11ee_a1b5_3c9c0f35adb2level0_row96\" class=\"row_heading level0 row96\" >2022-06-27 00:00:00</th>\n",
       "                        <td id=\"T_d905511e_98ae_11ee_a1b5_3c9c0f35adb2row96_col0\" class=\"data row96 col0\" >-0.551080</td>\n",
       "            </tr>\n",
       "            <tr>\n",
       "                        <th id=\"T_d905511e_98ae_11ee_a1b5_3c9c0f35adb2level0_row97\" class=\"row_heading level0 row97\" >2022-06-28 00:00:00</th>\n",
       "                        <td id=\"T_d905511e_98ae_11ee_a1b5_3c9c0f35adb2row97_col0\" class=\"data row97 col0\" >-0.551080</td>\n",
       "            </tr>\n",
       "            <tr>\n",
       "                        <th id=\"T_d905511e_98ae_11ee_a1b5_3c9c0f35adb2level0_row98\" class=\"row_heading level0 row98\" >2022-06-29 00:00:00</th>\n",
       "                        <td id=\"T_d905511e_98ae_11ee_a1b5_3c9c0f35adb2row98_col0\" class=\"data row98 col0\" >-0.551080</td>\n",
       "            </tr>\n",
       "            <tr>\n",
       "                        <th id=\"T_d905511e_98ae_11ee_a1b5_3c9c0f35adb2level0_row99\" class=\"row_heading level0 row99\" >2022-06-30 00:00:00</th>\n",
       "                        <td id=\"T_d905511e_98ae_11ee_a1b5_3c9c0f35adb2row99_col0\" class=\"data row99 col0\" >-0.551080</td>\n",
       "            </tr>\n",
       "            <tr>\n",
       "                        <th id=\"T_d905511e_98ae_11ee_a1b5_3c9c0f35adb2level0_row100\" class=\"row_heading level0 row100\" >2022-07-04 00:00:00</th>\n",
       "                        <td id=\"T_d905511e_98ae_11ee_a1b5_3c9c0f35adb2row100_col0\" class=\"data row100 col0\" >-0.525668</td>\n",
       "            </tr>\n",
       "            <tr>\n",
       "                        <th id=\"T_d905511e_98ae_11ee_a1b5_3c9c0f35adb2level0_row101\" class=\"row_heading level0 row101\" >2022-07-05 00:00:00</th>\n",
       "                        <td id=\"T_d905511e_98ae_11ee_a1b5_3c9c0f35adb2row101_col0\" class=\"data row101 col0\" >-0.525668</td>\n",
       "            </tr>\n",
       "            <tr>\n",
       "                        <th id=\"T_d905511e_98ae_11ee_a1b5_3c9c0f35adb2level0_row102\" class=\"row_heading level0 row102\" >2022-07-06 00:00:00</th>\n",
       "                        <td id=\"T_d905511e_98ae_11ee_a1b5_3c9c0f35adb2row102_col0\" class=\"data row102 col0\" >-0.525668</td>\n",
       "            </tr>\n",
       "            <tr>\n",
       "                        <th id=\"T_d905511e_98ae_11ee_a1b5_3c9c0f35adb2level0_row103\" class=\"row_heading level0 row103\" >2022-07-07 00:00:00</th>\n",
       "                        <td id=\"T_d905511e_98ae_11ee_a1b5_3c9c0f35adb2row103_col0\" class=\"data row103 col0\" >-0.525668</td>\n",
       "            </tr>\n",
       "            <tr>\n",
       "                        <th id=\"T_d905511e_98ae_11ee_a1b5_3c9c0f35adb2level0_row104\" class=\"row_heading level0 row104\" >2022-07-08 00:00:00</th>\n",
       "                        <td id=\"T_d905511e_98ae_11ee_a1b5_3c9c0f35adb2row104_col0\" class=\"data row104 col0\" >-0.525668</td>\n",
       "            </tr>\n",
       "            <tr>\n",
       "                        <th id=\"T_d905511e_98ae_11ee_a1b5_3c9c0f35adb2level0_row105\" class=\"row_heading level0 row105\" >2022-07-11 00:00:00</th>\n",
       "                        <td id=\"T_d905511e_98ae_11ee_a1b5_3c9c0f35adb2row105_col0\" class=\"data row105 col0\" >-0.525668</td>\n",
       "            </tr>\n",
       "            <tr>\n",
       "                        <th id=\"T_d905511e_98ae_11ee_a1b5_3c9c0f35adb2level0_row106\" class=\"row_heading level0 row106\" >2022-07-12 00:00:00</th>\n",
       "                        <td id=\"T_d905511e_98ae_11ee_a1b5_3c9c0f35adb2row106_col0\" class=\"data row106 col0\" >-0.525668</td>\n",
       "            </tr>\n",
       "            <tr>\n",
       "                        <th id=\"T_d905511e_98ae_11ee_a1b5_3c9c0f35adb2level0_row107\" class=\"row_heading level0 row107\" >2022-07-13 00:00:00</th>\n",
       "                        <td id=\"T_d905511e_98ae_11ee_a1b5_3c9c0f35adb2row107_col0\" class=\"data row107 col0\" >-0.525668</td>\n",
       "            </tr>\n",
       "            <tr>\n",
       "                        <th id=\"T_d905511e_98ae_11ee_a1b5_3c9c0f35adb2level0_row108\" class=\"row_heading level0 row108\" >2022-07-14 00:00:00</th>\n",
       "                        <td id=\"T_d905511e_98ae_11ee_a1b5_3c9c0f35adb2row108_col0\" class=\"data row108 col0\" >-0.525668</td>\n",
       "            </tr>\n",
       "            <tr>\n",
       "                        <th id=\"T_d905511e_98ae_11ee_a1b5_3c9c0f35adb2level0_row109\" class=\"row_heading level0 row109\" >2022-07-15 00:00:00</th>\n",
       "                        <td id=\"T_d905511e_98ae_11ee_a1b5_3c9c0f35adb2row109_col0\" class=\"data row109 col0\" >-0.525668</td>\n",
       "            </tr>\n",
       "            <tr>\n",
       "                        <th id=\"T_d905511e_98ae_11ee_a1b5_3c9c0f35adb2level0_row110\" class=\"row_heading level0 row110\" >2022-07-18 00:00:00</th>\n",
       "                        <td id=\"T_d905511e_98ae_11ee_a1b5_3c9c0f35adb2row110_col0\" class=\"data row110 col0\" >-0.525668</td>\n",
       "            </tr>\n",
       "            <tr>\n",
       "                        <th id=\"T_d905511e_98ae_11ee_a1b5_3c9c0f35adb2level0_row111\" class=\"row_heading level0 row111\" >2022-07-19 00:00:00</th>\n",
       "                        <td id=\"T_d905511e_98ae_11ee_a1b5_3c9c0f35adb2row111_col0\" class=\"data row111 col0\" >-0.525668</td>\n",
       "            </tr>\n",
       "            <tr>\n",
       "                        <th id=\"T_d905511e_98ae_11ee_a1b5_3c9c0f35adb2level0_row112\" class=\"row_heading level0 row112\" >2022-07-20 00:00:00</th>\n",
       "                        <td id=\"T_d905511e_98ae_11ee_a1b5_3c9c0f35adb2row112_col0\" class=\"data row112 col0\" >-0.525668</td>\n",
       "            </tr>\n",
       "            <tr>\n",
       "                        <th id=\"T_d905511e_98ae_11ee_a1b5_3c9c0f35adb2level0_row113\" class=\"row_heading level0 row113\" >2022-07-21 00:00:00</th>\n",
       "                        <td id=\"T_d905511e_98ae_11ee_a1b5_3c9c0f35adb2row113_col0\" class=\"data row113 col0\" >-0.525668</td>\n",
       "            </tr>\n",
       "            <tr>\n",
       "                        <th id=\"T_d905511e_98ae_11ee_a1b5_3c9c0f35adb2level0_row114\" class=\"row_heading level0 row114\" >2022-07-22 00:00:00</th>\n",
       "                        <td id=\"T_d905511e_98ae_11ee_a1b5_3c9c0f35adb2row114_col0\" class=\"data row114 col0\" >-0.525668</td>\n",
       "            </tr>\n",
       "            <tr>\n",
       "                        <th id=\"T_d905511e_98ae_11ee_a1b5_3c9c0f35adb2level0_row115\" class=\"row_heading level0 row115\" >2022-07-25 00:00:00</th>\n",
       "                        <td id=\"T_d905511e_98ae_11ee_a1b5_3c9c0f35adb2row115_col0\" class=\"data row115 col0\" >-0.525668</td>\n",
       "            </tr>\n",
       "            <tr>\n",
       "                        <th id=\"T_d905511e_98ae_11ee_a1b5_3c9c0f35adb2level0_row116\" class=\"row_heading level0 row116\" >2022-07-26 00:00:00</th>\n",
       "                        <td id=\"T_d905511e_98ae_11ee_a1b5_3c9c0f35adb2row116_col0\" class=\"data row116 col0\" >-0.525668</td>\n",
       "            </tr>\n",
       "            <tr>\n",
       "                        <th id=\"T_d905511e_98ae_11ee_a1b5_3c9c0f35adb2level0_row117\" class=\"row_heading level0 row117\" >2022-07-27 00:00:00</th>\n",
       "                        <td id=\"T_d905511e_98ae_11ee_a1b5_3c9c0f35adb2row117_col0\" class=\"data row117 col0\" >-0.525668</td>\n",
       "            </tr>\n",
       "            <tr>\n",
       "                        <th id=\"T_d905511e_98ae_11ee_a1b5_3c9c0f35adb2level0_row118\" class=\"row_heading level0 row118\" >2022-07-28 00:00:00</th>\n",
       "                        <td id=\"T_d905511e_98ae_11ee_a1b5_3c9c0f35adb2row118_col0\" class=\"data row118 col0\" >-0.525668</td>\n",
       "            </tr>\n",
       "            <tr>\n",
       "                        <th id=\"T_d905511e_98ae_11ee_a1b5_3c9c0f35adb2level0_row119\" class=\"row_heading level0 row119\" >2022-07-29 00:00:00</th>\n",
       "                        <td id=\"T_d905511e_98ae_11ee_a1b5_3c9c0f35adb2row119_col0\" class=\"data row119 col0\" >-0.525668</td>\n",
       "            </tr>\n",
       "            <tr>\n",
       "                        <th id=\"T_d905511e_98ae_11ee_a1b5_3c9c0f35adb2level0_row120\" class=\"row_heading level0 row120\" >2022-08-01 00:00:00</th>\n",
       "                        <td id=\"T_d905511e_98ae_11ee_a1b5_3c9c0f35adb2row120_col0\" class=\"data row120 col0\" >-0.542348</td>\n",
       "            </tr>\n",
       "            <tr>\n",
       "                        <th id=\"T_d905511e_98ae_11ee_a1b5_3c9c0f35adb2level0_row121\" class=\"row_heading level0 row121\" >2022-08-02 00:00:00</th>\n",
       "                        <td id=\"T_d905511e_98ae_11ee_a1b5_3c9c0f35adb2row121_col0\" class=\"data row121 col0\" >-0.542348</td>\n",
       "            </tr>\n",
       "            <tr>\n",
       "                        <th id=\"T_d905511e_98ae_11ee_a1b5_3c9c0f35adb2level0_row122\" class=\"row_heading level0 row122\" >2022-08-03 00:00:00</th>\n",
       "                        <td id=\"T_d905511e_98ae_11ee_a1b5_3c9c0f35adb2row122_col0\" class=\"data row122 col0\" >-0.542348</td>\n",
       "            </tr>\n",
       "            <tr>\n",
       "                        <th id=\"T_d905511e_98ae_11ee_a1b5_3c9c0f35adb2level0_row123\" class=\"row_heading level0 row123\" >2022-08-04 00:00:00</th>\n",
       "                        <td id=\"T_d905511e_98ae_11ee_a1b5_3c9c0f35adb2row123_col0\" class=\"data row123 col0\" >-0.542348</td>\n",
       "            </tr>\n",
       "            <tr>\n",
       "                        <th id=\"T_d905511e_98ae_11ee_a1b5_3c9c0f35adb2level0_row124\" class=\"row_heading level0 row124\" >2022-08-05 00:00:00</th>\n",
       "                        <td id=\"T_d905511e_98ae_11ee_a1b5_3c9c0f35adb2row124_col0\" class=\"data row124 col0\" >-0.542348</td>\n",
       "            </tr>\n",
       "            <tr>\n",
       "                        <th id=\"T_d905511e_98ae_11ee_a1b5_3c9c0f35adb2level0_row125\" class=\"row_heading level0 row125\" >2022-08-08 00:00:00</th>\n",
       "                        <td id=\"T_d905511e_98ae_11ee_a1b5_3c9c0f35adb2row125_col0\" class=\"data row125 col0\" >-0.542348</td>\n",
       "            </tr>\n",
       "            <tr>\n",
       "                        <th id=\"T_d905511e_98ae_11ee_a1b5_3c9c0f35adb2level0_row126\" class=\"row_heading level0 row126\" >2022-08-09 00:00:00</th>\n",
       "                        <td id=\"T_d905511e_98ae_11ee_a1b5_3c9c0f35adb2row126_col0\" class=\"data row126 col0\" >-0.542348</td>\n",
       "            </tr>\n",
       "            <tr>\n",
       "                        <th id=\"T_d905511e_98ae_11ee_a1b5_3c9c0f35adb2level0_row127\" class=\"row_heading level0 row127\" >2022-08-10 00:00:00</th>\n",
       "                        <td id=\"T_d905511e_98ae_11ee_a1b5_3c9c0f35adb2row127_col0\" class=\"data row127 col0\" >-0.542348</td>\n",
       "            </tr>\n",
       "            <tr>\n",
       "                        <th id=\"T_d905511e_98ae_11ee_a1b5_3c9c0f35adb2level0_row128\" class=\"row_heading level0 row128\" >2022-08-11 00:00:00</th>\n",
       "                        <td id=\"T_d905511e_98ae_11ee_a1b5_3c9c0f35adb2row128_col0\" class=\"data row128 col0\" >-0.542348</td>\n",
       "            </tr>\n",
       "            <tr>\n",
       "                        <th id=\"T_d905511e_98ae_11ee_a1b5_3c9c0f35adb2level0_row129\" class=\"row_heading level0 row129\" >2022-08-12 00:00:00</th>\n",
       "                        <td id=\"T_d905511e_98ae_11ee_a1b5_3c9c0f35adb2row129_col0\" class=\"data row129 col0\" >-0.542348</td>\n",
       "            </tr>\n",
       "            <tr>\n",
       "                        <th id=\"T_d905511e_98ae_11ee_a1b5_3c9c0f35adb2level0_row130\" class=\"row_heading level0 row130\" >2022-08-15 00:00:00</th>\n",
       "                        <td id=\"T_d905511e_98ae_11ee_a1b5_3c9c0f35adb2row130_col0\" class=\"data row130 col0\" >-0.542348</td>\n",
       "            </tr>\n",
       "            <tr>\n",
       "                        <th id=\"T_d905511e_98ae_11ee_a1b5_3c9c0f35adb2level0_row131\" class=\"row_heading level0 row131\" >2022-08-16 00:00:00</th>\n",
       "                        <td id=\"T_d905511e_98ae_11ee_a1b5_3c9c0f35adb2row131_col0\" class=\"data row131 col0\" >-0.542348</td>\n",
       "            </tr>\n",
       "            <tr>\n",
       "                        <th id=\"T_d905511e_98ae_11ee_a1b5_3c9c0f35adb2level0_row132\" class=\"row_heading level0 row132\" >2022-08-17 00:00:00</th>\n",
       "                        <td id=\"T_d905511e_98ae_11ee_a1b5_3c9c0f35adb2row132_col0\" class=\"data row132 col0\" >-0.542348</td>\n",
       "            </tr>\n",
       "            <tr>\n",
       "                        <th id=\"T_d905511e_98ae_11ee_a1b5_3c9c0f35adb2level0_row133\" class=\"row_heading level0 row133\" >2022-08-18 00:00:00</th>\n",
       "                        <td id=\"T_d905511e_98ae_11ee_a1b5_3c9c0f35adb2row133_col0\" class=\"data row133 col0\" >-0.542348</td>\n",
       "            </tr>\n",
       "            <tr>\n",
       "                        <th id=\"T_d905511e_98ae_11ee_a1b5_3c9c0f35adb2level0_row134\" class=\"row_heading level0 row134\" >2022-08-19 00:00:00</th>\n",
       "                        <td id=\"T_d905511e_98ae_11ee_a1b5_3c9c0f35adb2row134_col0\" class=\"data row134 col0\" >-0.542348</td>\n",
       "            </tr>\n",
       "            <tr>\n",
       "                        <th id=\"T_d905511e_98ae_11ee_a1b5_3c9c0f35adb2level0_row135\" class=\"row_heading level0 row135\" >2022-08-22 00:00:00</th>\n",
       "                        <td id=\"T_d905511e_98ae_11ee_a1b5_3c9c0f35adb2row135_col0\" class=\"data row135 col0\" >-0.542348</td>\n",
       "            </tr>\n",
       "            <tr>\n",
       "                        <th id=\"T_d905511e_98ae_11ee_a1b5_3c9c0f35adb2level0_row136\" class=\"row_heading level0 row136\" >2022-08-23 00:00:00</th>\n",
       "                        <td id=\"T_d905511e_98ae_11ee_a1b5_3c9c0f35adb2row136_col0\" class=\"data row136 col0\" >-0.542348</td>\n",
       "            </tr>\n",
       "            <tr>\n",
       "                        <th id=\"T_d905511e_98ae_11ee_a1b5_3c9c0f35adb2level0_row137\" class=\"row_heading level0 row137\" >2022-08-24 00:00:00</th>\n",
       "                        <td id=\"T_d905511e_98ae_11ee_a1b5_3c9c0f35adb2row137_col0\" class=\"data row137 col0\" >-0.542348</td>\n",
       "            </tr>\n",
       "            <tr>\n",
       "                        <th id=\"T_d905511e_98ae_11ee_a1b5_3c9c0f35adb2level0_row138\" class=\"row_heading level0 row138\" >2022-08-25 00:00:00</th>\n",
       "                        <td id=\"T_d905511e_98ae_11ee_a1b5_3c9c0f35adb2row138_col0\" class=\"data row138 col0\" >-0.542348</td>\n",
       "            </tr>\n",
       "            <tr>\n",
       "                        <th id=\"T_d905511e_98ae_11ee_a1b5_3c9c0f35adb2level0_row139\" class=\"row_heading level0 row139\" >2022-08-26 00:00:00</th>\n",
       "                        <td id=\"T_d905511e_98ae_11ee_a1b5_3c9c0f35adb2row139_col0\" class=\"data row139 col0\" >-0.542348</td>\n",
       "            </tr>\n",
       "            <tr>\n",
       "                        <th id=\"T_d905511e_98ae_11ee_a1b5_3c9c0f35adb2level0_row140\" class=\"row_heading level0 row140\" >2022-08-29 00:00:00</th>\n",
       "                        <td id=\"T_d905511e_98ae_11ee_a1b5_3c9c0f35adb2row140_col0\" class=\"data row140 col0\" >-0.542348</td>\n",
       "            </tr>\n",
       "            <tr>\n",
       "                        <th id=\"T_d905511e_98ae_11ee_a1b5_3c9c0f35adb2level0_row141\" class=\"row_heading level0 row141\" >2022-08-30 00:00:00</th>\n",
       "                        <td id=\"T_d905511e_98ae_11ee_a1b5_3c9c0f35adb2row141_col0\" class=\"data row141 col0\" >-0.542348</td>\n",
       "            </tr>\n",
       "            <tr>\n",
       "                        <th id=\"T_d905511e_98ae_11ee_a1b5_3c9c0f35adb2level0_row142\" class=\"row_heading level0 row142\" >2022-08-31 00:00:00</th>\n",
       "                        <td id=\"T_d905511e_98ae_11ee_a1b5_3c9c0f35adb2row142_col0\" class=\"data row142 col0\" >-0.542348</td>\n",
       "            </tr>\n",
       "            <tr>\n",
       "                        <th id=\"T_d905511e_98ae_11ee_a1b5_3c9c0f35adb2level0_row143\" class=\"row_heading level0 row143\" >2022-09-01 00:00:00</th>\n",
       "                        <td id=\"T_d905511e_98ae_11ee_a1b5_3c9c0f35adb2row143_col0\" class=\"data row143 col0\" >-0.538238</td>\n",
       "            </tr>\n",
       "            <tr>\n",
       "                        <th id=\"T_d905511e_98ae_11ee_a1b5_3c9c0f35adb2level0_row144\" class=\"row_heading level0 row144\" >2022-09-02 00:00:00</th>\n",
       "                        <td id=\"T_d905511e_98ae_11ee_a1b5_3c9c0f35adb2row144_col0\" class=\"data row144 col0\" >-0.538238</td>\n",
       "            </tr>\n",
       "            <tr>\n",
       "                        <th id=\"T_d905511e_98ae_11ee_a1b5_3c9c0f35adb2level0_row145\" class=\"row_heading level0 row145\" >2022-09-05 00:00:00</th>\n",
       "                        <td id=\"T_d905511e_98ae_11ee_a1b5_3c9c0f35adb2row145_col0\" class=\"data row145 col0\" >-0.538238</td>\n",
       "            </tr>\n",
       "            <tr>\n",
       "                        <th id=\"T_d905511e_98ae_11ee_a1b5_3c9c0f35adb2level0_row146\" class=\"row_heading level0 row146\" >2022-09-06 00:00:00</th>\n",
       "                        <td id=\"T_d905511e_98ae_11ee_a1b5_3c9c0f35adb2row146_col0\" class=\"data row146 col0\" >-0.538238</td>\n",
       "            </tr>\n",
       "            <tr>\n",
       "                        <th id=\"T_d905511e_98ae_11ee_a1b5_3c9c0f35adb2level0_row147\" class=\"row_heading level0 row147\" >2022-09-07 00:00:00</th>\n",
       "                        <td id=\"T_d905511e_98ae_11ee_a1b5_3c9c0f35adb2row147_col0\" class=\"data row147 col0\" >-0.538238</td>\n",
       "            </tr>\n",
       "            <tr>\n",
       "                        <th id=\"T_d905511e_98ae_11ee_a1b5_3c9c0f35adb2level0_row148\" class=\"row_heading level0 row148\" >2022-09-08 00:00:00</th>\n",
       "                        <td id=\"T_d905511e_98ae_11ee_a1b5_3c9c0f35adb2row148_col0\" class=\"data row148 col0\" >-0.538238</td>\n",
       "            </tr>\n",
       "            <tr>\n",
       "                        <th id=\"T_d905511e_98ae_11ee_a1b5_3c9c0f35adb2level0_row149\" class=\"row_heading level0 row149\" >2022-09-09 00:00:00</th>\n",
       "                        <td id=\"T_d905511e_98ae_11ee_a1b5_3c9c0f35adb2row149_col0\" class=\"data row149 col0\" >-0.538238</td>\n",
       "            </tr>\n",
       "            <tr>\n",
       "                        <th id=\"T_d905511e_98ae_11ee_a1b5_3c9c0f35adb2level0_row150\" class=\"row_heading level0 row150\" >2022-09-13 00:00:00</th>\n",
       "                        <td id=\"T_d905511e_98ae_11ee_a1b5_3c9c0f35adb2row150_col0\" class=\"data row150 col0\" >-0.538238</td>\n",
       "            </tr>\n",
       "            <tr>\n",
       "                        <th id=\"T_d905511e_98ae_11ee_a1b5_3c9c0f35adb2level0_row151\" class=\"row_heading level0 row151\" >2022-09-14 00:00:00</th>\n",
       "                        <td id=\"T_d905511e_98ae_11ee_a1b5_3c9c0f35adb2row151_col0\" class=\"data row151 col0\" >-0.538238</td>\n",
       "            </tr>\n",
       "            <tr>\n",
       "                        <th id=\"T_d905511e_98ae_11ee_a1b5_3c9c0f35adb2level0_row152\" class=\"row_heading level0 row152\" >2022-09-15 00:00:00</th>\n",
       "                        <td id=\"T_d905511e_98ae_11ee_a1b5_3c9c0f35adb2row152_col0\" class=\"data row152 col0\" >-0.538238</td>\n",
       "            </tr>\n",
       "            <tr>\n",
       "                        <th id=\"T_d905511e_98ae_11ee_a1b5_3c9c0f35adb2level0_row153\" class=\"row_heading level0 row153\" >2022-09-16 00:00:00</th>\n",
       "                        <td id=\"T_d905511e_98ae_11ee_a1b5_3c9c0f35adb2row153_col0\" class=\"data row153 col0\" >-0.538238</td>\n",
       "            </tr>\n",
       "            <tr>\n",
       "                        <th id=\"T_d905511e_98ae_11ee_a1b5_3c9c0f35adb2level0_row154\" class=\"row_heading level0 row154\" >2022-09-19 00:00:00</th>\n",
       "                        <td id=\"T_d905511e_98ae_11ee_a1b5_3c9c0f35adb2row154_col0\" class=\"data row154 col0\" >-0.538238</td>\n",
       "            </tr>\n",
       "            <tr>\n",
       "                        <th id=\"T_d905511e_98ae_11ee_a1b5_3c9c0f35adb2level0_row155\" class=\"row_heading level0 row155\" >2022-09-20 00:00:00</th>\n",
       "                        <td id=\"T_d905511e_98ae_11ee_a1b5_3c9c0f35adb2row155_col0\" class=\"data row155 col0\" >-0.538238</td>\n",
       "            </tr>\n",
       "            <tr>\n",
       "                        <th id=\"T_d905511e_98ae_11ee_a1b5_3c9c0f35adb2level0_row156\" class=\"row_heading level0 row156\" >2022-09-21 00:00:00</th>\n",
       "                        <td id=\"T_d905511e_98ae_11ee_a1b5_3c9c0f35adb2row156_col0\" class=\"data row156 col0\" >-0.538238</td>\n",
       "            </tr>\n",
       "            <tr>\n",
       "                        <th id=\"T_d905511e_98ae_11ee_a1b5_3c9c0f35adb2level0_row157\" class=\"row_heading level0 row157\" >2022-09-22 00:00:00</th>\n",
       "                        <td id=\"T_d905511e_98ae_11ee_a1b5_3c9c0f35adb2row157_col0\" class=\"data row157 col0\" >-0.538238</td>\n",
       "            </tr>\n",
       "            <tr>\n",
       "                        <th id=\"T_d905511e_98ae_11ee_a1b5_3c9c0f35adb2level0_row158\" class=\"row_heading level0 row158\" >2022-09-23 00:00:00</th>\n",
       "                        <td id=\"T_d905511e_98ae_11ee_a1b5_3c9c0f35adb2row158_col0\" class=\"data row158 col0\" >-0.538238</td>\n",
       "            </tr>\n",
       "            <tr>\n",
       "                        <th id=\"T_d905511e_98ae_11ee_a1b5_3c9c0f35adb2level0_row159\" class=\"row_heading level0 row159\" >2022-09-26 00:00:00</th>\n",
       "                        <td id=\"T_d905511e_98ae_11ee_a1b5_3c9c0f35adb2row159_col0\" class=\"data row159 col0\" >-0.538238</td>\n",
       "            </tr>\n",
       "            <tr>\n",
       "                        <th id=\"T_d905511e_98ae_11ee_a1b5_3c9c0f35adb2level0_row160\" class=\"row_heading level0 row160\" >2022-09-27 00:00:00</th>\n",
       "                        <td id=\"T_d905511e_98ae_11ee_a1b5_3c9c0f35adb2row160_col0\" class=\"data row160 col0\" >-0.538238</td>\n",
       "            </tr>\n",
       "            <tr>\n",
       "                        <th id=\"T_d905511e_98ae_11ee_a1b5_3c9c0f35adb2level0_row161\" class=\"row_heading level0 row161\" >2022-09-28 00:00:00</th>\n",
       "                        <td id=\"T_d905511e_98ae_11ee_a1b5_3c9c0f35adb2row161_col0\" class=\"data row161 col0\" >-0.538238</td>\n",
       "            </tr>\n",
       "            <tr>\n",
       "                        <th id=\"T_d905511e_98ae_11ee_a1b5_3c9c0f35adb2level0_row162\" class=\"row_heading level0 row162\" >2022-09-29 00:00:00</th>\n",
       "                        <td id=\"T_d905511e_98ae_11ee_a1b5_3c9c0f35adb2row162_col0\" class=\"data row162 col0\" >-0.538238</td>\n",
       "            </tr>\n",
       "            <tr>\n",
       "                        <th id=\"T_d905511e_98ae_11ee_a1b5_3c9c0f35adb2level0_row163\" class=\"row_heading level0 row163\" >2022-09-30 00:00:00</th>\n",
       "                        <td id=\"T_d905511e_98ae_11ee_a1b5_3c9c0f35adb2row163_col0\" class=\"data row163 col0\" >-0.538238</td>\n",
       "            </tr>\n",
       "            <tr>\n",
       "                        <th id=\"T_d905511e_98ae_11ee_a1b5_3c9c0f35adb2level0_row164\" class=\"row_heading level0 row164\" >2022-10-03 00:00:00</th>\n",
       "                        <td id=\"T_d905511e_98ae_11ee_a1b5_3c9c0f35adb2row164_col0\" class=\"data row164 col0\" >-0.558304</td>\n",
       "            </tr>\n",
       "            <tr>\n",
       "                        <th id=\"T_d905511e_98ae_11ee_a1b5_3c9c0f35adb2level0_row165\" class=\"row_heading level0 row165\" >2022-10-05 00:00:00</th>\n",
       "                        <td id=\"T_d905511e_98ae_11ee_a1b5_3c9c0f35adb2row165_col0\" class=\"data row165 col0\" >-0.558304</td>\n",
       "            </tr>\n",
       "            <tr>\n",
       "                        <th id=\"T_d905511e_98ae_11ee_a1b5_3c9c0f35adb2level0_row166\" class=\"row_heading level0 row166\" >2022-10-06 00:00:00</th>\n",
       "                        <td id=\"T_d905511e_98ae_11ee_a1b5_3c9c0f35adb2row166_col0\" class=\"data row166 col0\" >-0.558304</td>\n",
       "            </tr>\n",
       "            <tr>\n",
       "                        <th id=\"T_d905511e_98ae_11ee_a1b5_3c9c0f35adb2level0_row167\" class=\"row_heading level0 row167\" >2022-10-07 00:00:00</th>\n",
       "                        <td id=\"T_d905511e_98ae_11ee_a1b5_3c9c0f35adb2row167_col0\" class=\"data row167 col0\" >-0.558304</td>\n",
       "            </tr>\n",
       "            <tr>\n",
       "                        <th id=\"T_d905511e_98ae_11ee_a1b5_3c9c0f35adb2level0_row168\" class=\"row_heading level0 row168\" >2022-10-10 00:00:00</th>\n",
       "                        <td id=\"T_d905511e_98ae_11ee_a1b5_3c9c0f35adb2row168_col0\" class=\"data row168 col0\" >-0.558304</td>\n",
       "            </tr>\n",
       "            <tr>\n",
       "                        <th id=\"T_d905511e_98ae_11ee_a1b5_3c9c0f35adb2level0_row169\" class=\"row_heading level0 row169\" >2022-10-11 00:00:00</th>\n",
       "                        <td id=\"T_d905511e_98ae_11ee_a1b5_3c9c0f35adb2row169_col0\" class=\"data row169 col0\" >-0.558304</td>\n",
       "            </tr>\n",
       "            <tr>\n",
       "                        <th id=\"T_d905511e_98ae_11ee_a1b5_3c9c0f35adb2level0_row170\" class=\"row_heading level0 row170\" >2022-10-12 00:00:00</th>\n",
       "                        <td id=\"T_d905511e_98ae_11ee_a1b5_3c9c0f35adb2row170_col0\" class=\"data row170 col0\" >-0.558304</td>\n",
       "            </tr>\n",
       "            <tr>\n",
       "                        <th id=\"T_d905511e_98ae_11ee_a1b5_3c9c0f35adb2level0_row171\" class=\"row_heading level0 row171\" >2022-10-13 00:00:00</th>\n",
       "                        <td id=\"T_d905511e_98ae_11ee_a1b5_3c9c0f35adb2row171_col0\" class=\"data row171 col0\" >-0.558304</td>\n",
       "            </tr>\n",
       "            <tr>\n",
       "                        <th id=\"T_d905511e_98ae_11ee_a1b5_3c9c0f35adb2level0_row172\" class=\"row_heading level0 row172\" >2022-10-14 00:00:00</th>\n",
       "                        <td id=\"T_d905511e_98ae_11ee_a1b5_3c9c0f35adb2row172_col0\" class=\"data row172 col0\" >-0.558304</td>\n",
       "            </tr>\n",
       "            <tr>\n",
       "                        <th id=\"T_d905511e_98ae_11ee_a1b5_3c9c0f35adb2level0_row173\" class=\"row_heading level0 row173\" >2022-10-17 00:00:00</th>\n",
       "                        <td id=\"T_d905511e_98ae_11ee_a1b5_3c9c0f35adb2row173_col0\" class=\"data row173 col0\" >-0.558304</td>\n",
       "            </tr>\n",
       "            <tr>\n",
       "                        <th id=\"T_d905511e_98ae_11ee_a1b5_3c9c0f35adb2level0_row174\" class=\"row_heading level0 row174\" >2022-10-18 00:00:00</th>\n",
       "                        <td id=\"T_d905511e_98ae_11ee_a1b5_3c9c0f35adb2row174_col0\" class=\"data row174 col0\" >-0.558304</td>\n",
       "            </tr>\n",
       "            <tr>\n",
       "                        <th id=\"T_d905511e_98ae_11ee_a1b5_3c9c0f35adb2level0_row175\" class=\"row_heading level0 row175\" >2022-10-19 00:00:00</th>\n",
       "                        <td id=\"T_d905511e_98ae_11ee_a1b5_3c9c0f35adb2row175_col0\" class=\"data row175 col0\" >-0.558304</td>\n",
       "            </tr>\n",
       "            <tr>\n",
       "                        <th id=\"T_d905511e_98ae_11ee_a1b5_3c9c0f35adb2level0_row176\" class=\"row_heading level0 row176\" >2022-10-20 00:00:00</th>\n",
       "                        <td id=\"T_d905511e_98ae_11ee_a1b5_3c9c0f35adb2row176_col0\" class=\"data row176 col0\" >-0.558304</td>\n",
       "            </tr>\n",
       "            <tr>\n",
       "                        <th id=\"T_d905511e_98ae_11ee_a1b5_3c9c0f35adb2level0_row177\" class=\"row_heading level0 row177\" >2022-10-21 00:00:00</th>\n",
       "                        <td id=\"T_d905511e_98ae_11ee_a1b5_3c9c0f35adb2row177_col0\" class=\"data row177 col0\" >-0.558304</td>\n",
       "            </tr>\n",
       "            <tr>\n",
       "                        <th id=\"T_d905511e_98ae_11ee_a1b5_3c9c0f35adb2level0_row178\" class=\"row_heading level0 row178\" >2022-10-24 00:00:00</th>\n",
       "                        <td id=\"T_d905511e_98ae_11ee_a1b5_3c9c0f35adb2row178_col0\" class=\"data row178 col0\" >-0.558304</td>\n",
       "            </tr>\n",
       "            <tr>\n",
       "                        <th id=\"T_d905511e_98ae_11ee_a1b5_3c9c0f35adb2level0_row179\" class=\"row_heading level0 row179\" >2022-10-25 00:00:00</th>\n",
       "                        <td id=\"T_d905511e_98ae_11ee_a1b5_3c9c0f35adb2row179_col0\" class=\"data row179 col0\" >-0.558304</td>\n",
       "            </tr>\n",
       "            <tr>\n",
       "                        <th id=\"T_d905511e_98ae_11ee_a1b5_3c9c0f35adb2level0_row180\" class=\"row_heading level0 row180\" >2022-10-26 00:00:00</th>\n",
       "                        <td id=\"T_d905511e_98ae_11ee_a1b5_3c9c0f35adb2row180_col0\" class=\"data row180 col0\" >-0.558304</td>\n",
       "            </tr>\n",
       "            <tr>\n",
       "                        <th id=\"T_d905511e_98ae_11ee_a1b5_3c9c0f35adb2level0_row181\" class=\"row_heading level0 row181\" >2022-10-27 00:00:00</th>\n",
       "                        <td id=\"T_d905511e_98ae_11ee_a1b5_3c9c0f35adb2row181_col0\" class=\"data row181 col0\" >-0.558304</td>\n",
       "            </tr>\n",
       "            <tr>\n",
       "                        <th id=\"T_d905511e_98ae_11ee_a1b5_3c9c0f35adb2level0_row182\" class=\"row_heading level0 row182\" >2022-10-28 00:00:00</th>\n",
       "                        <td id=\"T_d905511e_98ae_11ee_a1b5_3c9c0f35adb2row182_col0\" class=\"data row182 col0\" >-0.558304</td>\n",
       "            </tr>\n",
       "            <tr>\n",
       "                        <th id=\"T_d905511e_98ae_11ee_a1b5_3c9c0f35adb2level0_row183\" class=\"row_heading level0 row183\" >2022-10-31 00:00:00</th>\n",
       "                        <td id=\"T_d905511e_98ae_11ee_a1b5_3c9c0f35adb2row183_col0\" class=\"data row183 col0\" >-0.558304</td>\n",
       "            </tr>\n",
       "            <tr>\n",
       "                        <th id=\"T_d905511e_98ae_11ee_a1b5_3c9c0f35adb2level0_row184\" class=\"row_heading level0 row184\" >2022-11-01 00:00:00</th>\n",
       "                        <td id=\"T_d905511e_98ae_11ee_a1b5_3c9c0f35adb2row184_col0\" class=\"data row184 col0\" >-0.591567</td>\n",
       "            </tr>\n",
       "            <tr>\n",
       "                        <th id=\"T_d905511e_98ae_11ee_a1b5_3c9c0f35adb2level0_row185\" class=\"row_heading level0 row185\" >2022-11-02 00:00:00</th>\n",
       "                        <td id=\"T_d905511e_98ae_11ee_a1b5_3c9c0f35adb2row185_col0\" class=\"data row185 col0\" >-0.591567</td>\n",
       "            </tr>\n",
       "            <tr>\n",
       "                        <th id=\"T_d905511e_98ae_11ee_a1b5_3c9c0f35adb2level0_row186\" class=\"row_heading level0 row186\" >2022-11-03 00:00:00</th>\n",
       "                        <td id=\"T_d905511e_98ae_11ee_a1b5_3c9c0f35adb2row186_col0\" class=\"data row186 col0\" >-0.591567</td>\n",
       "            </tr>\n",
       "            <tr>\n",
       "                        <th id=\"T_d905511e_98ae_11ee_a1b5_3c9c0f35adb2level0_row187\" class=\"row_heading level0 row187\" >2022-11-04 00:00:00</th>\n",
       "                        <td id=\"T_d905511e_98ae_11ee_a1b5_3c9c0f35adb2row187_col0\" class=\"data row187 col0\" >-0.591567</td>\n",
       "            </tr>\n",
       "            <tr>\n",
       "                        <th id=\"T_d905511e_98ae_11ee_a1b5_3c9c0f35adb2level0_row188\" class=\"row_heading level0 row188\" >2022-11-07 00:00:00</th>\n",
       "                        <td id=\"T_d905511e_98ae_11ee_a1b5_3c9c0f35adb2row188_col0\" class=\"data row188 col0\" >-0.591567</td>\n",
       "            </tr>\n",
       "            <tr>\n",
       "                        <th id=\"T_d905511e_98ae_11ee_a1b5_3c9c0f35adb2level0_row189\" class=\"row_heading level0 row189\" >2022-11-08 00:00:00</th>\n",
       "                        <td id=\"T_d905511e_98ae_11ee_a1b5_3c9c0f35adb2row189_col0\" class=\"data row189 col0\" >-0.591567</td>\n",
       "            </tr>\n",
       "            <tr>\n",
       "                        <th id=\"T_d905511e_98ae_11ee_a1b5_3c9c0f35adb2level0_row190\" class=\"row_heading level0 row190\" >2022-11-09 00:00:00</th>\n",
       "                        <td id=\"T_d905511e_98ae_11ee_a1b5_3c9c0f35adb2row190_col0\" class=\"data row190 col0\" >-0.591567</td>\n",
       "            </tr>\n",
       "            <tr>\n",
       "                        <th id=\"T_d905511e_98ae_11ee_a1b5_3c9c0f35adb2level0_row191\" class=\"row_heading level0 row191\" >2022-11-10 00:00:00</th>\n",
       "                        <td id=\"T_d905511e_98ae_11ee_a1b5_3c9c0f35adb2row191_col0\" class=\"data row191 col0\" >-0.591567</td>\n",
       "            </tr>\n",
       "            <tr>\n",
       "                        <th id=\"T_d905511e_98ae_11ee_a1b5_3c9c0f35adb2level0_row192\" class=\"row_heading level0 row192\" >2022-11-11 00:00:00</th>\n",
       "                        <td id=\"T_d905511e_98ae_11ee_a1b5_3c9c0f35adb2row192_col0\" class=\"data row192 col0\" >-0.591567</td>\n",
       "            </tr>\n",
       "            <tr>\n",
       "                        <th id=\"T_d905511e_98ae_11ee_a1b5_3c9c0f35adb2level0_row193\" class=\"row_heading level0 row193\" >2022-11-14 00:00:00</th>\n",
       "                        <td id=\"T_d905511e_98ae_11ee_a1b5_3c9c0f35adb2row193_col0\" class=\"data row193 col0\" >-0.591567</td>\n",
       "            </tr>\n",
       "            <tr>\n",
       "                        <th id=\"T_d905511e_98ae_11ee_a1b5_3c9c0f35adb2level0_row194\" class=\"row_heading level0 row194\" >2022-11-15 00:00:00</th>\n",
       "                        <td id=\"T_d905511e_98ae_11ee_a1b5_3c9c0f35adb2row194_col0\" class=\"data row194 col0\" >-0.591567</td>\n",
       "            </tr>\n",
       "            <tr>\n",
       "                        <th id=\"T_d905511e_98ae_11ee_a1b5_3c9c0f35adb2level0_row195\" class=\"row_heading level0 row195\" >2022-11-16 00:00:00</th>\n",
       "                        <td id=\"T_d905511e_98ae_11ee_a1b5_3c9c0f35adb2row195_col0\" class=\"data row195 col0\" >-0.591567</td>\n",
       "            </tr>\n",
       "            <tr>\n",
       "                        <th id=\"T_d905511e_98ae_11ee_a1b5_3c9c0f35adb2level0_row196\" class=\"row_heading level0 row196\" >2022-11-17 00:00:00</th>\n",
       "                        <td id=\"T_d905511e_98ae_11ee_a1b5_3c9c0f35adb2row196_col0\" class=\"data row196 col0\" >-0.591567</td>\n",
       "            </tr>\n",
       "            <tr>\n",
       "                        <th id=\"T_d905511e_98ae_11ee_a1b5_3c9c0f35adb2level0_row197\" class=\"row_heading level0 row197\" >2022-11-18 00:00:00</th>\n",
       "                        <td id=\"T_d905511e_98ae_11ee_a1b5_3c9c0f35adb2row197_col0\" class=\"data row197 col0\" >-0.591567</td>\n",
       "            </tr>\n",
       "            <tr>\n",
       "                        <th id=\"T_d905511e_98ae_11ee_a1b5_3c9c0f35adb2level0_row198\" class=\"row_heading level0 row198\" >2022-11-21 00:00:00</th>\n",
       "                        <td id=\"T_d905511e_98ae_11ee_a1b5_3c9c0f35adb2row198_col0\" class=\"data row198 col0\" >-0.591567</td>\n",
       "            </tr>\n",
       "            <tr>\n",
       "                        <th id=\"T_d905511e_98ae_11ee_a1b5_3c9c0f35adb2level0_row199\" class=\"row_heading level0 row199\" >2022-11-22 00:00:00</th>\n",
       "                        <td id=\"T_d905511e_98ae_11ee_a1b5_3c9c0f35adb2row199_col0\" class=\"data row199 col0\" >-0.591567</td>\n",
       "            </tr>\n",
       "            <tr>\n",
       "                        <th id=\"T_d905511e_98ae_11ee_a1b5_3c9c0f35adb2level0_row200\" class=\"row_heading level0 row200\" >2022-11-23 00:00:00</th>\n",
       "                        <td id=\"T_d905511e_98ae_11ee_a1b5_3c9c0f35adb2row200_col0\" class=\"data row200 col0\" >-0.591567</td>\n",
       "            </tr>\n",
       "            <tr>\n",
       "                        <th id=\"T_d905511e_98ae_11ee_a1b5_3c9c0f35adb2level0_row201\" class=\"row_heading level0 row201\" >2022-11-24 00:00:00</th>\n",
       "                        <td id=\"T_d905511e_98ae_11ee_a1b5_3c9c0f35adb2row201_col0\" class=\"data row201 col0\" >-0.591567</td>\n",
       "            </tr>\n",
       "            <tr>\n",
       "                        <th id=\"T_d905511e_98ae_11ee_a1b5_3c9c0f35adb2level0_row202\" class=\"row_heading level0 row202\" >2022-11-25 00:00:00</th>\n",
       "                        <td id=\"T_d905511e_98ae_11ee_a1b5_3c9c0f35adb2row202_col0\" class=\"data row202 col0\" >-0.591567</td>\n",
       "            </tr>\n",
       "            <tr>\n",
       "                        <th id=\"T_d905511e_98ae_11ee_a1b5_3c9c0f35adb2level0_row203\" class=\"row_heading level0 row203\" >2022-11-28 00:00:00</th>\n",
       "                        <td id=\"T_d905511e_98ae_11ee_a1b5_3c9c0f35adb2row203_col0\" class=\"data row203 col0\" >-0.591567</td>\n",
       "            </tr>\n",
       "            <tr>\n",
       "                        <th id=\"T_d905511e_98ae_11ee_a1b5_3c9c0f35adb2level0_row204\" class=\"row_heading level0 row204\" >2022-11-29 00:00:00</th>\n",
       "                        <td id=\"T_d905511e_98ae_11ee_a1b5_3c9c0f35adb2row204_col0\" class=\"data row204 col0\" >-0.591567</td>\n",
       "            </tr>\n",
       "            <tr>\n",
       "                        <th id=\"T_d905511e_98ae_11ee_a1b5_3c9c0f35adb2level0_row205\" class=\"row_heading level0 row205\" >2022-11-30 00:00:00</th>\n",
       "                        <td id=\"T_d905511e_98ae_11ee_a1b5_3c9c0f35adb2row205_col0\" class=\"data row205 col0\" >-0.591567</td>\n",
       "            </tr>\n",
       "            <tr>\n",
       "                        <th id=\"T_d905511e_98ae_11ee_a1b5_3c9c0f35adb2level0_row206\" class=\"row_heading level0 row206\" >2022-12-01 00:00:00</th>\n",
       "                        <td id=\"T_d905511e_98ae_11ee_a1b5_3c9c0f35adb2row206_col0\" class=\"data row206 col0\" >-0.533163</td>\n",
       "            </tr>\n",
       "            <tr>\n",
       "                        <th id=\"T_d905511e_98ae_11ee_a1b5_3c9c0f35adb2level0_row207\" class=\"row_heading level0 row207\" >2022-12-02 00:00:00</th>\n",
       "                        <td id=\"T_d905511e_98ae_11ee_a1b5_3c9c0f35adb2row207_col0\" class=\"data row207 col0\" >-0.533163</td>\n",
       "            </tr>\n",
       "            <tr>\n",
       "                        <th id=\"T_d905511e_98ae_11ee_a1b5_3c9c0f35adb2level0_row208\" class=\"row_heading level0 row208\" >2022-12-05 00:00:00</th>\n",
       "                        <td id=\"T_d905511e_98ae_11ee_a1b5_3c9c0f35adb2row208_col0\" class=\"data row208 col0\" >-0.533163</td>\n",
       "            </tr>\n",
       "            <tr>\n",
       "                        <th id=\"T_d905511e_98ae_11ee_a1b5_3c9c0f35adb2level0_row209\" class=\"row_heading level0 row209\" >2022-12-06 00:00:00</th>\n",
       "                        <td id=\"T_d905511e_98ae_11ee_a1b5_3c9c0f35adb2row209_col0\" class=\"data row209 col0\" >-0.533163</td>\n",
       "            </tr>\n",
       "            <tr>\n",
       "                        <th id=\"T_d905511e_98ae_11ee_a1b5_3c9c0f35adb2level0_row210\" class=\"row_heading level0 row210\" >2022-12-07 00:00:00</th>\n",
       "                        <td id=\"T_d905511e_98ae_11ee_a1b5_3c9c0f35adb2row210_col0\" class=\"data row210 col0\" >-0.533163</td>\n",
       "            </tr>\n",
       "            <tr>\n",
       "                        <th id=\"T_d905511e_98ae_11ee_a1b5_3c9c0f35adb2level0_row211\" class=\"row_heading level0 row211\" >2022-12-08 00:00:00</th>\n",
       "                        <td id=\"T_d905511e_98ae_11ee_a1b5_3c9c0f35adb2row211_col0\" class=\"data row211 col0\" >-0.533163</td>\n",
       "            </tr>\n",
       "            <tr>\n",
       "                        <th id=\"T_d905511e_98ae_11ee_a1b5_3c9c0f35adb2level0_row212\" class=\"row_heading level0 row212\" >2022-12-09 00:00:00</th>\n",
       "                        <td id=\"T_d905511e_98ae_11ee_a1b5_3c9c0f35adb2row212_col0\" class=\"data row212 col0\" >-0.533163</td>\n",
       "            </tr>\n",
       "            <tr>\n",
       "                        <th id=\"T_d905511e_98ae_11ee_a1b5_3c9c0f35adb2level0_row213\" class=\"row_heading level0 row213\" >2022-12-12 00:00:00</th>\n",
       "                        <td id=\"T_d905511e_98ae_11ee_a1b5_3c9c0f35adb2row213_col0\" class=\"data row213 col0\" >-0.533163</td>\n",
       "            </tr>\n",
       "            <tr>\n",
       "                        <th id=\"T_d905511e_98ae_11ee_a1b5_3c9c0f35adb2level0_row214\" class=\"row_heading level0 row214\" >2022-12-13 00:00:00</th>\n",
       "                        <td id=\"T_d905511e_98ae_11ee_a1b5_3c9c0f35adb2row214_col0\" class=\"data row214 col0\" >-0.533163</td>\n",
       "            </tr>\n",
       "            <tr>\n",
       "                        <th id=\"T_d905511e_98ae_11ee_a1b5_3c9c0f35adb2level0_row215\" class=\"row_heading level0 row215\" >2022-12-14 00:00:00</th>\n",
       "                        <td id=\"T_d905511e_98ae_11ee_a1b5_3c9c0f35adb2row215_col0\" class=\"data row215 col0\" >-0.533163</td>\n",
       "            </tr>\n",
       "            <tr>\n",
       "                        <th id=\"T_d905511e_98ae_11ee_a1b5_3c9c0f35adb2level0_row216\" class=\"row_heading level0 row216\" >2022-12-15 00:00:00</th>\n",
       "                        <td id=\"T_d905511e_98ae_11ee_a1b5_3c9c0f35adb2row216_col0\" class=\"data row216 col0\" >-0.533163</td>\n",
       "            </tr>\n",
       "            <tr>\n",
       "                        <th id=\"T_d905511e_98ae_11ee_a1b5_3c9c0f35adb2level0_row217\" class=\"row_heading level0 row217\" >2022-12-16 00:00:00</th>\n",
       "                        <td id=\"T_d905511e_98ae_11ee_a1b5_3c9c0f35adb2row217_col0\" class=\"data row217 col0\" >-0.533163</td>\n",
       "            </tr>\n",
       "            <tr>\n",
       "                        <th id=\"T_d905511e_98ae_11ee_a1b5_3c9c0f35adb2level0_row218\" class=\"row_heading level0 row218\" >2022-12-19 00:00:00</th>\n",
       "                        <td id=\"T_d905511e_98ae_11ee_a1b5_3c9c0f35adb2row218_col0\" class=\"data row218 col0\" >-0.533163</td>\n",
       "            </tr>\n",
       "            <tr>\n",
       "                        <th id=\"T_d905511e_98ae_11ee_a1b5_3c9c0f35adb2level0_row219\" class=\"row_heading level0 row219\" >2022-12-20 00:00:00</th>\n",
       "                        <td id=\"T_d905511e_98ae_11ee_a1b5_3c9c0f35adb2row219_col0\" class=\"data row219 col0\" >-0.533163</td>\n",
       "            </tr>\n",
       "            <tr>\n",
       "                        <th id=\"T_d905511e_98ae_11ee_a1b5_3c9c0f35adb2level0_row220\" class=\"row_heading level0 row220\" >2022-12-21 00:00:00</th>\n",
       "                        <td id=\"T_d905511e_98ae_11ee_a1b5_3c9c0f35adb2row220_col0\" class=\"data row220 col0\" >-0.533163</td>\n",
       "            </tr>\n",
       "            <tr>\n",
       "                        <th id=\"T_d905511e_98ae_11ee_a1b5_3c9c0f35adb2level0_row221\" class=\"row_heading level0 row221\" >2022-12-22 00:00:00</th>\n",
       "                        <td id=\"T_d905511e_98ae_11ee_a1b5_3c9c0f35adb2row221_col0\" class=\"data row221 col0\" >-0.533163</td>\n",
       "            </tr>\n",
       "            <tr>\n",
       "                        <th id=\"T_d905511e_98ae_11ee_a1b5_3c9c0f35adb2level0_row222\" class=\"row_heading level0 row222\" >2022-12-23 00:00:00</th>\n",
       "                        <td id=\"T_d905511e_98ae_11ee_a1b5_3c9c0f35adb2row222_col0\" class=\"data row222 col0\" >-0.533163</td>\n",
       "            </tr>\n",
       "            <tr>\n",
       "                        <th id=\"T_d905511e_98ae_11ee_a1b5_3c9c0f35adb2level0_row223\" class=\"row_heading level0 row223\" >2022-12-28 00:00:00</th>\n",
       "                        <td id=\"T_d905511e_98ae_11ee_a1b5_3c9c0f35adb2row223_col0\" class=\"data row223 col0\" >-0.533163</td>\n",
       "            </tr>\n",
       "            <tr>\n",
       "                        <th id=\"T_d905511e_98ae_11ee_a1b5_3c9c0f35adb2level0_row224\" class=\"row_heading level0 row224\" >2022-12-29 00:00:00</th>\n",
       "                        <td id=\"T_d905511e_98ae_11ee_a1b5_3c9c0f35adb2row224_col0\" class=\"data row224 col0\" >-0.533163</td>\n",
       "            </tr>\n",
       "            <tr>\n",
       "                        <th id=\"T_d905511e_98ae_11ee_a1b5_3c9c0f35adb2level0_row225\" class=\"row_heading level0 row225\" >2022-12-30 00:00:00</th>\n",
       "                        <td id=\"T_d905511e_98ae_11ee_a1b5_3c9c0f35adb2row225_col0\" class=\"data row225 col0\" >-0.533163</td>\n",
       "            </tr>\n",
       "            <tr>\n",
       "                        <th id=\"T_d905511e_98ae_11ee_a1b5_3c9c0f35adb2level0_row226\" class=\"row_heading level0 row226\" >2023-01-03 00:00:00</th>\n",
       "                        <td id=\"T_d905511e_98ae_11ee_a1b5_3c9c0f35adb2row226_col0\" class=\"data row226 col0\" >-0.500293</td>\n",
       "            </tr>\n",
       "            <tr>\n",
       "                        <th id=\"T_d905511e_98ae_11ee_a1b5_3c9c0f35adb2level0_row227\" class=\"row_heading level0 row227\" >2023-01-04 00:00:00</th>\n",
       "                        <td id=\"T_d905511e_98ae_11ee_a1b5_3c9c0f35adb2row227_col0\" class=\"data row227 col0\" >-0.500293</td>\n",
       "            </tr>\n",
       "            <tr>\n",
       "                        <th id=\"T_d905511e_98ae_11ee_a1b5_3c9c0f35adb2level0_row228\" class=\"row_heading level0 row228\" >2023-01-05 00:00:00</th>\n",
       "                        <td id=\"T_d905511e_98ae_11ee_a1b5_3c9c0f35adb2row228_col0\" class=\"data row228 col0\" >-0.500293</td>\n",
       "            </tr>\n",
       "            <tr>\n",
       "                        <th id=\"T_d905511e_98ae_11ee_a1b5_3c9c0f35adb2level0_row229\" class=\"row_heading level0 row229\" >2023-01-06 00:00:00</th>\n",
       "                        <td id=\"T_d905511e_98ae_11ee_a1b5_3c9c0f35adb2row229_col0\" class=\"data row229 col0\" >-0.500293</td>\n",
       "            </tr>\n",
       "            <tr>\n",
       "                        <th id=\"T_d905511e_98ae_11ee_a1b5_3c9c0f35adb2level0_row230\" class=\"row_heading level0 row230\" >2023-01-09 00:00:00</th>\n",
       "                        <td id=\"T_d905511e_98ae_11ee_a1b5_3c9c0f35adb2row230_col0\" class=\"data row230 col0\" >-0.500293</td>\n",
       "            </tr>\n",
       "            <tr>\n",
       "                        <th id=\"T_d905511e_98ae_11ee_a1b5_3c9c0f35adb2level0_row231\" class=\"row_heading level0 row231\" >2023-01-10 00:00:00</th>\n",
       "                        <td id=\"T_d905511e_98ae_11ee_a1b5_3c9c0f35adb2row231_col0\" class=\"data row231 col0\" >-0.500293</td>\n",
       "            </tr>\n",
       "            <tr>\n",
       "                        <th id=\"T_d905511e_98ae_11ee_a1b5_3c9c0f35adb2level0_row232\" class=\"row_heading level0 row232\" >2023-01-11 00:00:00</th>\n",
       "                        <td id=\"T_d905511e_98ae_11ee_a1b5_3c9c0f35adb2row232_col0\" class=\"data row232 col0\" >-0.500293</td>\n",
       "            </tr>\n",
       "            <tr>\n",
       "                        <th id=\"T_d905511e_98ae_11ee_a1b5_3c9c0f35adb2level0_row233\" class=\"row_heading level0 row233\" >2023-01-12 00:00:00</th>\n",
       "                        <td id=\"T_d905511e_98ae_11ee_a1b5_3c9c0f35adb2row233_col0\" class=\"data row233 col0\" >-0.500293</td>\n",
       "            </tr>\n",
       "            <tr>\n",
       "                        <th id=\"T_d905511e_98ae_11ee_a1b5_3c9c0f35adb2level0_row234\" class=\"row_heading level0 row234\" >2023-01-13 00:00:00</th>\n",
       "                        <td id=\"T_d905511e_98ae_11ee_a1b5_3c9c0f35adb2row234_col0\" class=\"data row234 col0\" >-0.500293</td>\n",
       "            </tr>\n",
       "            <tr>\n",
       "                        <th id=\"T_d905511e_98ae_11ee_a1b5_3c9c0f35adb2level0_row235\" class=\"row_heading level0 row235\" >2023-01-16 00:00:00</th>\n",
       "                        <td id=\"T_d905511e_98ae_11ee_a1b5_3c9c0f35adb2row235_col0\" class=\"data row235 col0\" >-0.500293</td>\n",
       "            </tr>\n",
       "            <tr>\n",
       "                        <th id=\"T_d905511e_98ae_11ee_a1b5_3c9c0f35adb2level0_row236\" class=\"row_heading level0 row236\" >2023-01-17 00:00:00</th>\n",
       "                        <td id=\"T_d905511e_98ae_11ee_a1b5_3c9c0f35adb2row236_col0\" class=\"data row236 col0\" >-0.500293</td>\n",
       "            </tr>\n",
       "            <tr>\n",
       "                        <th id=\"T_d905511e_98ae_11ee_a1b5_3c9c0f35adb2level0_row237\" class=\"row_heading level0 row237\" >2023-01-18 00:00:00</th>\n",
       "                        <td id=\"T_d905511e_98ae_11ee_a1b5_3c9c0f35adb2row237_col0\" class=\"data row237 col0\" >-0.500293</td>\n",
       "            </tr>\n",
       "            <tr>\n",
       "                        <th id=\"T_d905511e_98ae_11ee_a1b5_3c9c0f35adb2level0_row238\" class=\"row_heading level0 row238\" >2023-01-19 00:00:00</th>\n",
       "                        <td id=\"T_d905511e_98ae_11ee_a1b5_3c9c0f35adb2row238_col0\" class=\"data row238 col0\" >-0.500293</td>\n",
       "            </tr>\n",
       "            <tr>\n",
       "                        <th id=\"T_d905511e_98ae_11ee_a1b5_3c9c0f35adb2level0_row239\" class=\"row_heading level0 row239\" >2023-01-20 00:00:00</th>\n",
       "                        <td id=\"T_d905511e_98ae_11ee_a1b5_3c9c0f35adb2row239_col0\" class=\"data row239 col0\" >-0.500293</td>\n",
       "            </tr>\n",
       "            <tr>\n",
       "                        <th id=\"T_d905511e_98ae_11ee_a1b5_3c9c0f35adb2level0_row240\" class=\"row_heading level0 row240\" >2023-01-26 00:00:00</th>\n",
       "                        <td id=\"T_d905511e_98ae_11ee_a1b5_3c9c0f35adb2row240_col0\" class=\"data row240 col0\" >-0.500293</td>\n",
       "            </tr>\n",
       "            <tr>\n",
       "                        <th id=\"T_d905511e_98ae_11ee_a1b5_3c9c0f35adb2level0_row241\" class=\"row_heading level0 row241\" >2023-01-27 00:00:00</th>\n",
       "                        <td id=\"T_d905511e_98ae_11ee_a1b5_3c9c0f35adb2row241_col0\" class=\"data row241 col0\" >-0.500293</td>\n",
       "            </tr>\n",
       "            <tr>\n",
       "                        <th id=\"T_d905511e_98ae_11ee_a1b5_3c9c0f35adb2level0_row242\" class=\"row_heading level0 row242\" >2023-01-30 00:00:00</th>\n",
       "                        <td id=\"T_d905511e_98ae_11ee_a1b5_3c9c0f35adb2row242_col0\" class=\"data row242 col0\" >-0.500293</td>\n",
       "            </tr>\n",
       "            <tr>\n",
       "                        <th id=\"T_d905511e_98ae_11ee_a1b5_3c9c0f35adb2level0_row243\" class=\"row_heading level0 row243\" >2023-01-31 00:00:00</th>\n",
       "                        <td id=\"T_d905511e_98ae_11ee_a1b5_3c9c0f35adb2row243_col0\" class=\"data row243 col0\" >-0.500293</td>\n",
       "            </tr>\n",
       "            <tr>\n",
       "                        <th id=\"T_d905511e_98ae_11ee_a1b5_3c9c0f35adb2level0_row244\" class=\"row_heading level0 row244\" >2023-02-01 00:00:00</th>\n",
       "                        <td id=\"T_d905511e_98ae_11ee_a1b5_3c9c0f35adb2row244_col0\" class=\"data row244 col0\" >-0.512771</td>\n",
       "            </tr>\n",
       "            <tr>\n",
       "                        <th id=\"T_d905511e_98ae_11ee_a1b5_3c9c0f35adb2level0_row245\" class=\"row_heading level0 row245\" >2023-02-02 00:00:00</th>\n",
       "                        <td id=\"T_d905511e_98ae_11ee_a1b5_3c9c0f35adb2row245_col0\" class=\"data row245 col0\" >-0.512771</td>\n",
       "            </tr>\n",
       "            <tr>\n",
       "                        <th id=\"T_d905511e_98ae_11ee_a1b5_3c9c0f35adb2level0_row246\" class=\"row_heading level0 row246\" >2023-02-03 00:00:00</th>\n",
       "                        <td id=\"T_d905511e_98ae_11ee_a1b5_3c9c0f35adb2row246_col0\" class=\"data row246 col0\" >-0.512771</td>\n",
       "            </tr>\n",
       "            <tr>\n",
       "                        <th id=\"T_d905511e_98ae_11ee_a1b5_3c9c0f35adb2level0_row247\" class=\"row_heading level0 row247\" >2023-02-06 00:00:00</th>\n",
       "                        <td id=\"T_d905511e_98ae_11ee_a1b5_3c9c0f35adb2row247_col0\" class=\"data row247 col0\" >-0.512771</td>\n",
       "            </tr>\n",
       "            <tr>\n",
       "                        <th id=\"T_d905511e_98ae_11ee_a1b5_3c9c0f35adb2level0_row248\" class=\"row_heading level0 row248\" >2023-02-07 00:00:00</th>\n",
       "                        <td id=\"T_d905511e_98ae_11ee_a1b5_3c9c0f35adb2row248_col0\" class=\"data row248 col0\" >-0.512771</td>\n",
       "            </tr>\n",
       "            <tr>\n",
       "                        <th id=\"T_d905511e_98ae_11ee_a1b5_3c9c0f35adb2level0_row249\" class=\"row_heading level0 row249\" >2023-02-08 00:00:00</th>\n",
       "                        <td id=\"T_d905511e_98ae_11ee_a1b5_3c9c0f35adb2row249_col0\" class=\"data row249 col0\" >-0.512771</td>\n",
       "            </tr>\n",
       "            <tr>\n",
       "                        <th id=\"T_d905511e_98ae_11ee_a1b5_3c9c0f35adb2level0_row250\" class=\"row_heading level0 row250\" >2023-02-09 00:00:00</th>\n",
       "                        <td id=\"T_d905511e_98ae_11ee_a1b5_3c9c0f35adb2row250_col0\" class=\"data row250 col0\" >-0.512771</td>\n",
       "            </tr>\n",
       "            <tr>\n",
       "                        <th id=\"T_d905511e_98ae_11ee_a1b5_3c9c0f35adb2level0_row251\" class=\"row_heading level0 row251\" >2023-02-10 00:00:00</th>\n",
       "                        <td id=\"T_d905511e_98ae_11ee_a1b5_3c9c0f35adb2row251_col0\" class=\"data row251 col0\" >-0.512771</td>\n",
       "            </tr>\n",
       "            <tr>\n",
       "                        <th id=\"T_d905511e_98ae_11ee_a1b5_3c9c0f35adb2level0_row252\" class=\"row_heading level0 row252\" >2023-02-13 00:00:00</th>\n",
       "                        <td id=\"T_d905511e_98ae_11ee_a1b5_3c9c0f35adb2row252_col0\" class=\"data row252 col0\" >-0.512771</td>\n",
       "            </tr>\n",
       "            <tr>\n",
       "                        <th id=\"T_d905511e_98ae_11ee_a1b5_3c9c0f35adb2level0_row253\" class=\"row_heading level0 row253\" >2023-02-14 00:00:00</th>\n",
       "                        <td id=\"T_d905511e_98ae_11ee_a1b5_3c9c0f35adb2row253_col0\" class=\"data row253 col0\" >-0.512771</td>\n",
       "            </tr>\n",
       "            <tr>\n",
       "                        <th id=\"T_d905511e_98ae_11ee_a1b5_3c9c0f35adb2level0_row254\" class=\"row_heading level0 row254\" >2023-02-15 00:00:00</th>\n",
       "                        <td id=\"T_d905511e_98ae_11ee_a1b5_3c9c0f35adb2row254_col0\" class=\"data row254 col0\" >-0.512771</td>\n",
       "            </tr>\n",
       "            <tr>\n",
       "                        <th id=\"T_d905511e_98ae_11ee_a1b5_3c9c0f35adb2level0_row255\" class=\"row_heading level0 row255\" >2023-02-16 00:00:00</th>\n",
       "                        <td id=\"T_d905511e_98ae_11ee_a1b5_3c9c0f35adb2row255_col0\" class=\"data row255 col0\" >-0.512771</td>\n",
       "            </tr>\n",
       "            <tr>\n",
       "                        <th id=\"T_d905511e_98ae_11ee_a1b5_3c9c0f35adb2level0_row256\" class=\"row_heading level0 row256\" >2023-02-17 00:00:00</th>\n",
       "                        <td id=\"T_d905511e_98ae_11ee_a1b5_3c9c0f35adb2row256_col0\" class=\"data row256 col0\" >-0.512771</td>\n",
       "            </tr>\n",
       "            <tr>\n",
       "                        <th id=\"T_d905511e_98ae_11ee_a1b5_3c9c0f35adb2level0_row257\" class=\"row_heading level0 row257\" >2023-02-20 00:00:00</th>\n",
       "                        <td id=\"T_d905511e_98ae_11ee_a1b5_3c9c0f35adb2row257_col0\" class=\"data row257 col0\" >-0.512771</td>\n",
       "            </tr>\n",
       "            <tr>\n",
       "                        <th id=\"T_d905511e_98ae_11ee_a1b5_3c9c0f35adb2level0_row258\" class=\"row_heading level0 row258\" >2023-02-21 00:00:00</th>\n",
       "                        <td id=\"T_d905511e_98ae_11ee_a1b5_3c9c0f35adb2row258_col0\" class=\"data row258 col0\" >-0.512771</td>\n",
       "            </tr>\n",
       "            <tr>\n",
       "                        <th id=\"T_d905511e_98ae_11ee_a1b5_3c9c0f35adb2level0_row259\" class=\"row_heading level0 row259\" >2023-02-22 00:00:00</th>\n",
       "                        <td id=\"T_d905511e_98ae_11ee_a1b5_3c9c0f35adb2row259_col0\" class=\"data row259 col0\" >-0.512771</td>\n",
       "            </tr>\n",
       "            <tr>\n",
       "                        <th id=\"T_d905511e_98ae_11ee_a1b5_3c9c0f35adb2level0_row260\" class=\"row_heading level0 row260\" >2023-02-23 00:00:00</th>\n",
       "                        <td id=\"T_d905511e_98ae_11ee_a1b5_3c9c0f35adb2row260_col0\" class=\"data row260 col0\" >-0.512771</td>\n",
       "            </tr>\n",
       "            <tr>\n",
       "                        <th id=\"T_d905511e_98ae_11ee_a1b5_3c9c0f35adb2level0_row261\" class=\"row_heading level0 row261\" >2023-02-24 00:00:00</th>\n",
       "                        <td id=\"T_d905511e_98ae_11ee_a1b5_3c9c0f35adb2row261_col0\" class=\"data row261 col0\" >-0.512771</td>\n",
       "            </tr>\n",
       "            <tr>\n",
       "                        <th id=\"T_d905511e_98ae_11ee_a1b5_3c9c0f35adb2level0_row262\" class=\"row_heading level0 row262\" >2023-02-27 00:00:00</th>\n",
       "                        <td id=\"T_d905511e_98ae_11ee_a1b5_3c9c0f35adb2row262_col0\" class=\"data row262 col0\" >-0.512771</td>\n",
       "            </tr>\n",
       "            <tr>\n",
       "                        <th id=\"T_d905511e_98ae_11ee_a1b5_3c9c0f35adb2level0_row263\" class=\"row_heading level0 row263\" >2023-02-28 00:00:00</th>\n",
       "                        <td id=\"T_d905511e_98ae_11ee_a1b5_3c9c0f35adb2row263_col0\" class=\"data row263 col0\" >-0.512771</td>\n",
       "            </tr>\n",
       "            <tr>\n",
       "                        <th id=\"T_d905511e_98ae_11ee_a1b5_3c9c0f35adb2level0_row264\" class=\"row_heading level0 row264\" >2023-03-01 00:00:00</th>\n",
       "                        <td id=\"T_d905511e_98ae_11ee_a1b5_3c9c0f35adb2row264_col0\" class=\"data row264 col0\" >-0.533159</td>\n",
       "            </tr>\n",
       "            <tr>\n",
       "                        <th id=\"T_d905511e_98ae_11ee_a1b5_3c9c0f35adb2level0_row265\" class=\"row_heading level0 row265\" >2023-03-02 00:00:00</th>\n",
       "                        <td id=\"T_d905511e_98ae_11ee_a1b5_3c9c0f35adb2row265_col0\" class=\"data row265 col0\" >-0.533159</td>\n",
       "            </tr>\n",
       "            <tr>\n",
       "                        <th id=\"T_d905511e_98ae_11ee_a1b5_3c9c0f35adb2level0_row266\" class=\"row_heading level0 row266\" >2023-03-03 00:00:00</th>\n",
       "                        <td id=\"T_d905511e_98ae_11ee_a1b5_3c9c0f35adb2row266_col0\" class=\"data row266 col0\" >-0.533159</td>\n",
       "            </tr>\n",
       "            <tr>\n",
       "                        <th id=\"T_d905511e_98ae_11ee_a1b5_3c9c0f35adb2level0_row267\" class=\"row_heading level0 row267\" >2023-03-06 00:00:00</th>\n",
       "                        <td id=\"T_d905511e_98ae_11ee_a1b5_3c9c0f35adb2row267_col0\" class=\"data row267 col0\" >-0.533159</td>\n",
       "            </tr>\n",
       "            <tr>\n",
       "                        <th id=\"T_d905511e_98ae_11ee_a1b5_3c9c0f35adb2level0_row268\" class=\"row_heading level0 row268\" >2023-03-07 00:00:00</th>\n",
       "                        <td id=\"T_d905511e_98ae_11ee_a1b5_3c9c0f35adb2row268_col0\" class=\"data row268 col0\" >-0.533159</td>\n",
       "            </tr>\n",
       "            <tr>\n",
       "                        <th id=\"T_d905511e_98ae_11ee_a1b5_3c9c0f35adb2level0_row269\" class=\"row_heading level0 row269\" >2023-03-08 00:00:00</th>\n",
       "                        <td id=\"T_d905511e_98ae_11ee_a1b5_3c9c0f35adb2row269_col0\" class=\"data row269 col0\" >-0.533159</td>\n",
       "            </tr>\n",
       "            <tr>\n",
       "                        <th id=\"T_d905511e_98ae_11ee_a1b5_3c9c0f35adb2level0_row270\" class=\"row_heading level0 row270\" >2023-03-09 00:00:00</th>\n",
       "                        <td id=\"T_d905511e_98ae_11ee_a1b5_3c9c0f35adb2row270_col0\" class=\"data row270 col0\" >-0.533159</td>\n",
       "            </tr>\n",
       "            <tr>\n",
       "                        <th id=\"T_d905511e_98ae_11ee_a1b5_3c9c0f35adb2level0_row271\" class=\"row_heading level0 row271\" >2023-03-10 00:00:00</th>\n",
       "                        <td id=\"T_d905511e_98ae_11ee_a1b5_3c9c0f35adb2row271_col0\" class=\"data row271 col0\" >-0.533159</td>\n",
       "            </tr>\n",
       "            <tr>\n",
       "                        <th id=\"T_d905511e_98ae_11ee_a1b5_3c9c0f35adb2level0_row272\" class=\"row_heading level0 row272\" >2023-03-13 00:00:00</th>\n",
       "                        <td id=\"T_d905511e_98ae_11ee_a1b5_3c9c0f35adb2row272_col0\" class=\"data row272 col0\" >-0.533159</td>\n",
       "            </tr>\n",
       "            <tr>\n",
       "                        <th id=\"T_d905511e_98ae_11ee_a1b5_3c9c0f35adb2level0_row273\" class=\"row_heading level0 row273\" >2023-03-14 00:00:00</th>\n",
       "                        <td id=\"T_d905511e_98ae_11ee_a1b5_3c9c0f35adb2row273_col0\" class=\"data row273 col0\" >-0.533159</td>\n",
       "            </tr>\n",
       "            <tr>\n",
       "                        <th id=\"T_d905511e_98ae_11ee_a1b5_3c9c0f35adb2level0_row274\" class=\"row_heading level0 row274\" >2023-03-15 00:00:00</th>\n",
       "                        <td id=\"T_d905511e_98ae_11ee_a1b5_3c9c0f35adb2row274_col0\" class=\"data row274 col0\" >-0.533159</td>\n",
       "            </tr>\n",
       "            <tr>\n",
       "                        <th id=\"T_d905511e_98ae_11ee_a1b5_3c9c0f35adb2level0_row275\" class=\"row_heading level0 row275\" >2023-03-16 00:00:00</th>\n",
       "                        <td id=\"T_d905511e_98ae_11ee_a1b5_3c9c0f35adb2row275_col0\" class=\"data row275 col0\" >-0.533159</td>\n",
       "            </tr>\n",
       "            <tr>\n",
       "                        <th id=\"T_d905511e_98ae_11ee_a1b5_3c9c0f35adb2level0_row276\" class=\"row_heading level0 row276\" >2023-03-17 00:00:00</th>\n",
       "                        <td id=\"T_d905511e_98ae_11ee_a1b5_3c9c0f35adb2row276_col0\" class=\"data row276 col0\" >-0.533159</td>\n",
       "            </tr>\n",
       "            <tr>\n",
       "                        <th id=\"T_d905511e_98ae_11ee_a1b5_3c9c0f35adb2level0_row277\" class=\"row_heading level0 row277\" >2023-03-20 00:00:00</th>\n",
       "                        <td id=\"T_d905511e_98ae_11ee_a1b5_3c9c0f35adb2row277_col0\" class=\"data row277 col0\" >-0.533159</td>\n",
       "            </tr>\n",
       "            <tr>\n",
       "                        <th id=\"T_d905511e_98ae_11ee_a1b5_3c9c0f35adb2level0_row278\" class=\"row_heading level0 row278\" >2023-03-21 00:00:00</th>\n",
       "                        <td id=\"T_d905511e_98ae_11ee_a1b5_3c9c0f35adb2row278_col0\" class=\"data row278 col0\" >-0.533159</td>\n",
       "            </tr>\n",
       "            <tr>\n",
       "                        <th id=\"T_d905511e_98ae_11ee_a1b5_3c9c0f35adb2level0_row279\" class=\"row_heading level0 row279\" >2023-03-22 00:00:00</th>\n",
       "                        <td id=\"T_d905511e_98ae_11ee_a1b5_3c9c0f35adb2row279_col0\" class=\"data row279 col0\" >-0.533159</td>\n",
       "            </tr>\n",
       "            <tr>\n",
       "                        <th id=\"T_d905511e_98ae_11ee_a1b5_3c9c0f35adb2level0_row280\" class=\"row_heading level0 row280\" >2023-03-23 00:00:00</th>\n",
       "                        <td id=\"T_d905511e_98ae_11ee_a1b5_3c9c0f35adb2row280_col0\" class=\"data row280 col0\" >-0.533159</td>\n",
       "            </tr>\n",
       "            <tr>\n",
       "                        <th id=\"T_d905511e_98ae_11ee_a1b5_3c9c0f35adb2level0_row281\" class=\"row_heading level0 row281\" >2023-03-24 00:00:00</th>\n",
       "                        <td id=\"T_d905511e_98ae_11ee_a1b5_3c9c0f35adb2row281_col0\" class=\"data row281 col0\" >-0.533159</td>\n",
       "            </tr>\n",
       "            <tr>\n",
       "                        <th id=\"T_d905511e_98ae_11ee_a1b5_3c9c0f35adb2level0_row282\" class=\"row_heading level0 row282\" >2023-03-27 00:00:00</th>\n",
       "                        <td id=\"T_d905511e_98ae_11ee_a1b5_3c9c0f35adb2row282_col0\" class=\"data row282 col0\" >-0.533159</td>\n",
       "            </tr>\n",
       "            <tr>\n",
       "                        <th id=\"T_d905511e_98ae_11ee_a1b5_3c9c0f35adb2level0_row283\" class=\"row_heading level0 row283\" >2023-03-28 00:00:00</th>\n",
       "                        <td id=\"T_d905511e_98ae_11ee_a1b5_3c9c0f35adb2row283_col0\" class=\"data row283 col0\" >-0.533159</td>\n",
       "            </tr>\n",
       "            <tr>\n",
       "                        <th id=\"T_d905511e_98ae_11ee_a1b5_3c9c0f35adb2level0_row284\" class=\"row_heading level0 row284\" >2023-03-29 00:00:00</th>\n",
       "                        <td id=\"T_d905511e_98ae_11ee_a1b5_3c9c0f35adb2row284_col0\" class=\"data row284 col0\" >-0.533159</td>\n",
       "            </tr>\n",
       "            <tr>\n",
       "                        <th id=\"T_d905511e_98ae_11ee_a1b5_3c9c0f35adb2level0_row285\" class=\"row_heading level0 row285\" >2023-03-30 00:00:00</th>\n",
       "                        <td id=\"T_d905511e_98ae_11ee_a1b5_3c9c0f35adb2row285_col0\" class=\"data row285 col0\" >-0.533159</td>\n",
       "            </tr>\n",
       "            <tr>\n",
       "                        <th id=\"T_d905511e_98ae_11ee_a1b5_3c9c0f35adb2level0_row286\" class=\"row_heading level0 row286\" >2023-03-31 00:00:00</th>\n",
       "                        <td id=\"T_d905511e_98ae_11ee_a1b5_3c9c0f35adb2row286_col0\" class=\"data row286 col0\" >-0.533159</td>\n",
       "            </tr>\n",
       "            <tr>\n",
       "                        <th id=\"T_d905511e_98ae_11ee_a1b5_3c9c0f35adb2level0_row287\" class=\"row_heading level0 row287\" >2023-04-03 00:00:00</th>\n",
       "                        <td id=\"T_d905511e_98ae_11ee_a1b5_3c9c0f35adb2row287_col0\" class=\"data row287 col0\" >-0.535239</td>\n",
       "            </tr>\n",
       "            <tr>\n",
       "                        <th id=\"T_d905511e_98ae_11ee_a1b5_3c9c0f35adb2level0_row288\" class=\"row_heading level0 row288\" >2023-04-04 00:00:00</th>\n",
       "                        <td id=\"T_d905511e_98ae_11ee_a1b5_3c9c0f35adb2row288_col0\" class=\"data row288 col0\" >-0.535239</td>\n",
       "            </tr>\n",
       "            <tr>\n",
       "                        <th id=\"T_d905511e_98ae_11ee_a1b5_3c9c0f35adb2level0_row289\" class=\"row_heading level0 row289\" >2023-04-06 00:00:00</th>\n",
       "                        <td id=\"T_d905511e_98ae_11ee_a1b5_3c9c0f35adb2row289_col0\" class=\"data row289 col0\" >-0.535239</td>\n",
       "            </tr>\n",
       "            <tr>\n",
       "                        <th id=\"T_d905511e_98ae_11ee_a1b5_3c9c0f35adb2level0_row290\" class=\"row_heading level0 row290\" >2023-04-11 00:00:00</th>\n",
       "                        <td id=\"T_d905511e_98ae_11ee_a1b5_3c9c0f35adb2row290_col0\" class=\"data row290 col0\" >-0.535239</td>\n",
       "            </tr>\n",
       "            <tr>\n",
       "                        <th id=\"T_d905511e_98ae_11ee_a1b5_3c9c0f35adb2level0_row291\" class=\"row_heading level0 row291\" >2023-04-12 00:00:00</th>\n",
       "                        <td id=\"T_d905511e_98ae_11ee_a1b5_3c9c0f35adb2row291_col0\" class=\"data row291 col0\" >-0.535239</td>\n",
       "            </tr>\n",
       "            <tr>\n",
       "                        <th id=\"T_d905511e_98ae_11ee_a1b5_3c9c0f35adb2level0_row292\" class=\"row_heading level0 row292\" >2023-04-13 00:00:00</th>\n",
       "                        <td id=\"T_d905511e_98ae_11ee_a1b5_3c9c0f35adb2row292_col0\" class=\"data row292 col0\" >-0.535239</td>\n",
       "            </tr>\n",
       "            <tr>\n",
       "                        <th id=\"T_d905511e_98ae_11ee_a1b5_3c9c0f35adb2level0_row293\" class=\"row_heading level0 row293\" >2023-04-14 00:00:00</th>\n",
       "                        <td id=\"T_d905511e_98ae_11ee_a1b5_3c9c0f35adb2row293_col0\" class=\"data row293 col0\" >-0.535239</td>\n",
       "            </tr>\n",
       "            <tr>\n",
       "                        <th id=\"T_d905511e_98ae_11ee_a1b5_3c9c0f35adb2level0_row294\" class=\"row_heading level0 row294\" >2023-04-17 00:00:00</th>\n",
       "                        <td id=\"T_d905511e_98ae_11ee_a1b5_3c9c0f35adb2row294_col0\" class=\"data row294 col0\" >-0.535239</td>\n",
       "            </tr>\n",
       "            <tr>\n",
       "                        <th id=\"T_d905511e_98ae_11ee_a1b5_3c9c0f35adb2level0_row295\" class=\"row_heading level0 row295\" >2023-04-18 00:00:00</th>\n",
       "                        <td id=\"T_d905511e_98ae_11ee_a1b5_3c9c0f35adb2row295_col0\" class=\"data row295 col0\" >-0.535239</td>\n",
       "            </tr>\n",
       "            <tr>\n",
       "                        <th id=\"T_d905511e_98ae_11ee_a1b5_3c9c0f35adb2level0_row296\" class=\"row_heading level0 row296\" >2023-04-19 00:00:00</th>\n",
       "                        <td id=\"T_d905511e_98ae_11ee_a1b5_3c9c0f35adb2row296_col0\" class=\"data row296 col0\" >-0.535239</td>\n",
       "            </tr>\n",
       "            <tr>\n",
       "                        <th id=\"T_d905511e_98ae_11ee_a1b5_3c9c0f35adb2level0_row297\" class=\"row_heading level0 row297\" >2023-04-20 00:00:00</th>\n",
       "                        <td id=\"T_d905511e_98ae_11ee_a1b5_3c9c0f35adb2row297_col0\" class=\"data row297 col0\" >-0.535239</td>\n",
       "            </tr>\n",
       "            <tr>\n",
       "                        <th id=\"T_d905511e_98ae_11ee_a1b5_3c9c0f35adb2level0_row298\" class=\"row_heading level0 row298\" >2023-04-21 00:00:00</th>\n",
       "                        <td id=\"T_d905511e_98ae_11ee_a1b5_3c9c0f35adb2row298_col0\" class=\"data row298 col0\" >-0.535239</td>\n",
       "            </tr>\n",
       "            <tr>\n",
       "                        <th id=\"T_d905511e_98ae_11ee_a1b5_3c9c0f35adb2level0_row299\" class=\"row_heading level0 row299\" >2023-04-24 00:00:00</th>\n",
       "                        <td id=\"T_d905511e_98ae_11ee_a1b5_3c9c0f35adb2row299_col0\" class=\"data row299 col0\" >-0.535239</td>\n",
       "            </tr>\n",
       "            <tr>\n",
       "                        <th id=\"T_d905511e_98ae_11ee_a1b5_3c9c0f35adb2level0_row300\" class=\"row_heading level0 row300\" >2023-04-25 00:00:00</th>\n",
       "                        <td id=\"T_d905511e_98ae_11ee_a1b5_3c9c0f35adb2row300_col0\" class=\"data row300 col0\" >-0.535239</td>\n",
       "            </tr>\n",
       "            <tr>\n",
       "                        <th id=\"T_d905511e_98ae_11ee_a1b5_3c9c0f35adb2level0_row301\" class=\"row_heading level0 row301\" >2023-04-26 00:00:00</th>\n",
       "                        <td id=\"T_d905511e_98ae_11ee_a1b5_3c9c0f35adb2row301_col0\" class=\"data row301 col0\" >-0.535239</td>\n",
       "            </tr>\n",
       "            <tr>\n",
       "                        <th id=\"T_d905511e_98ae_11ee_a1b5_3c9c0f35adb2level0_row302\" class=\"row_heading level0 row302\" >2023-04-27 00:00:00</th>\n",
       "                        <td id=\"T_d905511e_98ae_11ee_a1b5_3c9c0f35adb2row302_col0\" class=\"data row302 col0\" >-0.535239</td>\n",
       "            </tr>\n",
       "            <tr>\n",
       "                        <th id=\"T_d905511e_98ae_11ee_a1b5_3c9c0f35adb2level0_row303\" class=\"row_heading level0 row303\" >2023-04-28 00:00:00</th>\n",
       "                        <td id=\"T_d905511e_98ae_11ee_a1b5_3c9c0f35adb2row303_col0\" class=\"data row303 col0\" >-0.535239</td>\n",
       "            </tr>\n",
       "            <tr>\n",
       "                        <th id=\"T_d905511e_98ae_11ee_a1b5_3c9c0f35adb2level0_row304\" class=\"row_heading level0 row304\" >2023-05-02 00:00:00</th>\n",
       "                        <td id=\"T_d905511e_98ae_11ee_a1b5_3c9c0f35adb2row304_col0\" class=\"data row304 col0\" >-0.556663</td>\n",
       "            </tr>\n",
       "            <tr>\n",
       "                        <th id=\"T_d905511e_98ae_11ee_a1b5_3c9c0f35adb2level0_row305\" class=\"row_heading level0 row305\" >2023-05-03 00:00:00</th>\n",
       "                        <td id=\"T_d905511e_98ae_11ee_a1b5_3c9c0f35adb2row305_col0\" class=\"data row305 col0\" >-0.556663</td>\n",
       "            </tr>\n",
       "            <tr>\n",
       "                        <th id=\"T_d905511e_98ae_11ee_a1b5_3c9c0f35adb2level0_row306\" class=\"row_heading level0 row306\" >2023-05-04 00:00:00</th>\n",
       "                        <td id=\"T_d905511e_98ae_11ee_a1b5_3c9c0f35adb2row306_col0\" class=\"data row306 col0\" >-0.556663</td>\n",
       "            </tr>\n",
       "            <tr>\n",
       "                        <th id=\"T_d905511e_98ae_11ee_a1b5_3c9c0f35adb2level0_row307\" class=\"row_heading level0 row307\" >2023-05-05 00:00:00</th>\n",
       "                        <td id=\"T_d905511e_98ae_11ee_a1b5_3c9c0f35adb2row307_col0\" class=\"data row307 col0\" >-0.556663</td>\n",
       "            </tr>\n",
       "            <tr>\n",
       "                        <th id=\"T_d905511e_98ae_11ee_a1b5_3c9c0f35adb2level0_row308\" class=\"row_heading level0 row308\" >2023-05-08 00:00:00</th>\n",
       "                        <td id=\"T_d905511e_98ae_11ee_a1b5_3c9c0f35adb2row308_col0\" class=\"data row308 col0\" >-0.556663</td>\n",
       "            </tr>\n",
       "            <tr>\n",
       "                        <th id=\"T_d905511e_98ae_11ee_a1b5_3c9c0f35adb2level0_row309\" class=\"row_heading level0 row309\" >2023-05-09 00:00:00</th>\n",
       "                        <td id=\"T_d905511e_98ae_11ee_a1b5_3c9c0f35adb2row309_col0\" class=\"data row309 col0\" >-0.556663</td>\n",
       "            </tr>\n",
       "            <tr>\n",
       "                        <th id=\"T_d905511e_98ae_11ee_a1b5_3c9c0f35adb2level0_row310\" class=\"row_heading level0 row310\" >2023-05-10 00:00:00</th>\n",
       "                        <td id=\"T_d905511e_98ae_11ee_a1b5_3c9c0f35adb2row310_col0\" class=\"data row310 col0\" >-0.556663</td>\n",
       "            </tr>\n",
       "            <tr>\n",
       "                        <th id=\"T_d905511e_98ae_11ee_a1b5_3c9c0f35adb2level0_row311\" class=\"row_heading level0 row311\" >2023-05-11 00:00:00</th>\n",
       "                        <td id=\"T_d905511e_98ae_11ee_a1b5_3c9c0f35adb2row311_col0\" class=\"data row311 col0\" >-0.556663</td>\n",
       "            </tr>\n",
       "            <tr>\n",
       "                        <th id=\"T_d905511e_98ae_11ee_a1b5_3c9c0f35adb2level0_row312\" class=\"row_heading level0 row312\" >2023-05-12 00:00:00</th>\n",
       "                        <td id=\"T_d905511e_98ae_11ee_a1b5_3c9c0f35adb2row312_col0\" class=\"data row312 col0\" >-0.556663</td>\n",
       "            </tr>\n",
       "            <tr>\n",
       "                        <th id=\"T_d905511e_98ae_11ee_a1b5_3c9c0f35adb2level0_row313\" class=\"row_heading level0 row313\" >2023-05-15 00:00:00</th>\n",
       "                        <td id=\"T_d905511e_98ae_11ee_a1b5_3c9c0f35adb2row313_col0\" class=\"data row313 col0\" >-0.556663</td>\n",
       "            </tr>\n",
       "            <tr>\n",
       "                        <th id=\"T_d905511e_98ae_11ee_a1b5_3c9c0f35adb2level0_row314\" class=\"row_heading level0 row314\" >2023-05-16 00:00:00</th>\n",
       "                        <td id=\"T_d905511e_98ae_11ee_a1b5_3c9c0f35adb2row314_col0\" class=\"data row314 col0\" >-0.556663</td>\n",
       "            </tr>\n",
       "            <tr>\n",
       "                        <th id=\"T_d905511e_98ae_11ee_a1b5_3c9c0f35adb2level0_row315\" class=\"row_heading level0 row315\" >2023-05-17 00:00:00</th>\n",
       "                        <td id=\"T_d905511e_98ae_11ee_a1b5_3c9c0f35adb2row315_col0\" class=\"data row315 col0\" >-0.556663</td>\n",
       "            </tr>\n",
       "            <tr>\n",
       "                        <th id=\"T_d905511e_98ae_11ee_a1b5_3c9c0f35adb2level0_row316\" class=\"row_heading level0 row316\" >2023-05-18 00:00:00</th>\n",
       "                        <td id=\"T_d905511e_98ae_11ee_a1b5_3c9c0f35adb2row316_col0\" class=\"data row316 col0\" >-0.556663</td>\n",
       "            </tr>\n",
       "            <tr>\n",
       "                        <th id=\"T_d905511e_98ae_11ee_a1b5_3c9c0f35adb2level0_row317\" class=\"row_heading level0 row317\" >2023-05-19 00:00:00</th>\n",
       "                        <td id=\"T_d905511e_98ae_11ee_a1b5_3c9c0f35adb2row317_col0\" class=\"data row317 col0\" >-0.556663</td>\n",
       "            </tr>\n",
       "            <tr>\n",
       "                        <th id=\"T_d905511e_98ae_11ee_a1b5_3c9c0f35adb2level0_row318\" class=\"row_heading level0 row318\" >2023-05-22 00:00:00</th>\n",
       "                        <td id=\"T_d905511e_98ae_11ee_a1b5_3c9c0f35adb2row318_col0\" class=\"data row318 col0\" >-0.556663</td>\n",
       "            </tr>\n",
       "            <tr>\n",
       "                        <th id=\"T_d905511e_98ae_11ee_a1b5_3c9c0f35adb2level0_row319\" class=\"row_heading level0 row319\" >2023-05-23 00:00:00</th>\n",
       "                        <td id=\"T_d905511e_98ae_11ee_a1b5_3c9c0f35adb2row319_col0\" class=\"data row319 col0\" >-0.556663</td>\n",
       "            </tr>\n",
       "            <tr>\n",
       "                        <th id=\"T_d905511e_98ae_11ee_a1b5_3c9c0f35adb2level0_row320\" class=\"row_heading level0 row320\" >2023-05-24 00:00:00</th>\n",
       "                        <td id=\"T_d905511e_98ae_11ee_a1b5_3c9c0f35adb2row320_col0\" class=\"data row320 col0\" >-0.556663</td>\n",
       "            </tr>\n",
       "            <tr>\n",
       "                        <th id=\"T_d905511e_98ae_11ee_a1b5_3c9c0f35adb2level0_row321\" class=\"row_heading level0 row321\" >2023-05-25 00:00:00</th>\n",
       "                        <td id=\"T_d905511e_98ae_11ee_a1b5_3c9c0f35adb2row321_col0\" class=\"data row321 col0\" >-0.556663</td>\n",
       "            </tr>\n",
       "            <tr>\n",
       "                        <th id=\"T_d905511e_98ae_11ee_a1b5_3c9c0f35adb2level0_row322\" class=\"row_heading level0 row322\" >2023-05-29 00:00:00</th>\n",
       "                        <td id=\"T_d905511e_98ae_11ee_a1b5_3c9c0f35adb2row322_col0\" class=\"data row322 col0\" >-0.556663</td>\n",
       "            </tr>\n",
       "            <tr>\n",
       "                        <th id=\"T_d905511e_98ae_11ee_a1b5_3c9c0f35adb2level0_row323\" class=\"row_heading level0 row323\" >2023-05-30 00:00:00</th>\n",
       "                        <td id=\"T_d905511e_98ae_11ee_a1b5_3c9c0f35adb2row323_col0\" class=\"data row323 col0\" >-0.556663</td>\n",
       "            </tr>\n",
       "            <tr>\n",
       "                        <th id=\"T_d905511e_98ae_11ee_a1b5_3c9c0f35adb2level0_row324\" class=\"row_heading level0 row324\" >2023-05-31 00:00:00</th>\n",
       "                        <td id=\"T_d905511e_98ae_11ee_a1b5_3c9c0f35adb2row324_col0\" class=\"data row324 col0\" >-0.556663</td>\n",
       "            </tr>\n",
       "            <tr>\n",
       "                        <th id=\"T_d905511e_98ae_11ee_a1b5_3c9c0f35adb2level0_row325\" class=\"row_heading level0 row325\" >2023-06-01 00:00:00</th>\n",
       "                        <td id=\"T_d905511e_98ae_11ee_a1b5_3c9c0f35adb2row325_col0\" class=\"data row325 col0\" >-0.565249</td>\n",
       "            </tr>\n",
       "            <tr>\n",
       "                        <th id=\"T_d905511e_98ae_11ee_a1b5_3c9c0f35adb2level0_row326\" class=\"row_heading level0 row326\" >2023-06-02 00:00:00</th>\n",
       "                        <td id=\"T_d905511e_98ae_11ee_a1b5_3c9c0f35adb2row326_col0\" class=\"data row326 col0\" >-0.565249</td>\n",
       "            </tr>\n",
       "            <tr>\n",
       "                        <th id=\"T_d905511e_98ae_11ee_a1b5_3c9c0f35adb2level0_row327\" class=\"row_heading level0 row327\" >2023-06-05 00:00:00</th>\n",
       "                        <td id=\"T_d905511e_98ae_11ee_a1b5_3c9c0f35adb2row327_col0\" class=\"data row327 col0\" >-0.565249</td>\n",
       "            </tr>\n",
       "            <tr>\n",
       "                        <th id=\"T_d905511e_98ae_11ee_a1b5_3c9c0f35adb2level0_row328\" class=\"row_heading level0 row328\" >2023-06-06 00:00:00</th>\n",
       "                        <td id=\"T_d905511e_98ae_11ee_a1b5_3c9c0f35adb2row328_col0\" class=\"data row328 col0\" >-0.565249</td>\n",
       "            </tr>\n",
       "            <tr>\n",
       "                        <th id=\"T_d905511e_98ae_11ee_a1b5_3c9c0f35adb2level0_row329\" class=\"row_heading level0 row329\" >2023-06-07 00:00:00</th>\n",
       "                        <td id=\"T_d905511e_98ae_11ee_a1b5_3c9c0f35adb2row329_col0\" class=\"data row329 col0\" >-0.565249</td>\n",
       "            </tr>\n",
       "            <tr>\n",
       "                        <th id=\"T_d905511e_98ae_11ee_a1b5_3c9c0f35adb2level0_row330\" class=\"row_heading level0 row330\" >2023-06-08 00:00:00</th>\n",
       "                        <td id=\"T_d905511e_98ae_11ee_a1b5_3c9c0f35adb2row330_col0\" class=\"data row330 col0\" >-0.565249</td>\n",
       "            </tr>\n",
       "            <tr>\n",
       "                        <th id=\"T_d905511e_98ae_11ee_a1b5_3c9c0f35adb2level0_row331\" class=\"row_heading level0 row331\" >2023-06-09 00:00:00</th>\n",
       "                        <td id=\"T_d905511e_98ae_11ee_a1b5_3c9c0f35adb2row331_col0\" class=\"data row331 col0\" >-0.565249</td>\n",
       "            </tr>\n",
       "            <tr>\n",
       "                        <th id=\"T_d905511e_98ae_11ee_a1b5_3c9c0f35adb2level0_row332\" class=\"row_heading level0 row332\" >2023-06-12 00:00:00</th>\n",
       "                        <td id=\"T_d905511e_98ae_11ee_a1b5_3c9c0f35adb2row332_col0\" class=\"data row332 col0\" >-0.565249</td>\n",
       "            </tr>\n",
       "            <tr>\n",
       "                        <th id=\"T_d905511e_98ae_11ee_a1b5_3c9c0f35adb2level0_row333\" class=\"row_heading level0 row333\" >2023-06-13 00:00:00</th>\n",
       "                        <td id=\"T_d905511e_98ae_11ee_a1b5_3c9c0f35adb2row333_col0\" class=\"data row333 col0\" >-0.565249</td>\n",
       "            </tr>\n",
       "            <tr>\n",
       "                        <th id=\"T_d905511e_98ae_11ee_a1b5_3c9c0f35adb2level0_row334\" class=\"row_heading level0 row334\" >2023-06-14 00:00:00</th>\n",
       "                        <td id=\"T_d905511e_98ae_11ee_a1b5_3c9c0f35adb2row334_col0\" class=\"data row334 col0\" >-0.565249</td>\n",
       "            </tr>\n",
       "            <tr>\n",
       "                        <th id=\"T_d905511e_98ae_11ee_a1b5_3c9c0f35adb2level0_row335\" class=\"row_heading level0 row335\" >2023-06-15 00:00:00</th>\n",
       "                        <td id=\"T_d905511e_98ae_11ee_a1b5_3c9c0f35adb2row335_col0\" class=\"data row335 col0\" >-0.565249</td>\n",
       "            </tr>\n",
       "            <tr>\n",
       "                        <th id=\"T_d905511e_98ae_11ee_a1b5_3c9c0f35adb2level0_row336\" class=\"row_heading level0 row336\" >2023-06-16 00:00:00</th>\n",
       "                        <td id=\"T_d905511e_98ae_11ee_a1b5_3c9c0f35adb2row336_col0\" class=\"data row336 col0\" >-0.565249</td>\n",
       "            </tr>\n",
       "            <tr>\n",
       "                        <th id=\"T_d905511e_98ae_11ee_a1b5_3c9c0f35adb2level0_row337\" class=\"row_heading level0 row337\" >2023-06-19 00:00:00</th>\n",
       "                        <td id=\"T_d905511e_98ae_11ee_a1b5_3c9c0f35adb2row337_col0\" class=\"data row337 col0\" >-0.565249</td>\n",
       "            </tr>\n",
       "            <tr>\n",
       "                        <th id=\"T_d905511e_98ae_11ee_a1b5_3c9c0f35adb2level0_row338\" class=\"row_heading level0 row338\" >2023-06-20 00:00:00</th>\n",
       "                        <td id=\"T_d905511e_98ae_11ee_a1b5_3c9c0f35adb2row338_col0\" class=\"data row338 col0\" >-0.565249</td>\n",
       "            </tr>\n",
       "            <tr>\n",
       "                        <th id=\"T_d905511e_98ae_11ee_a1b5_3c9c0f35adb2level0_row339\" class=\"row_heading level0 row339\" >2023-06-21 00:00:00</th>\n",
       "                        <td id=\"T_d905511e_98ae_11ee_a1b5_3c9c0f35adb2row339_col0\" class=\"data row339 col0\" >-0.565249</td>\n",
       "            </tr>\n",
       "            <tr>\n",
       "                        <th id=\"T_d905511e_98ae_11ee_a1b5_3c9c0f35adb2level0_row340\" class=\"row_heading level0 row340\" >2023-06-23 00:00:00</th>\n",
       "                        <td id=\"T_d905511e_98ae_11ee_a1b5_3c9c0f35adb2row340_col0\" class=\"data row340 col0\" >-0.565249</td>\n",
       "            </tr>\n",
       "            <tr>\n",
       "                        <th id=\"T_d905511e_98ae_11ee_a1b5_3c9c0f35adb2level0_row341\" class=\"row_heading level0 row341\" >2023-06-26 00:00:00</th>\n",
       "                        <td id=\"T_d905511e_98ae_11ee_a1b5_3c9c0f35adb2row341_col0\" class=\"data row341 col0\" >-0.565249</td>\n",
       "            </tr>\n",
       "            <tr>\n",
       "                        <th id=\"T_d905511e_98ae_11ee_a1b5_3c9c0f35adb2level0_row342\" class=\"row_heading level0 row342\" >2023-06-27 00:00:00</th>\n",
       "                        <td id=\"T_d905511e_98ae_11ee_a1b5_3c9c0f35adb2row342_col0\" class=\"data row342 col0\" >-0.565249</td>\n",
       "            </tr>\n",
       "            <tr>\n",
       "                        <th id=\"T_d905511e_98ae_11ee_a1b5_3c9c0f35adb2level0_row343\" class=\"row_heading level0 row343\" >2023-06-28 00:00:00</th>\n",
       "                        <td id=\"T_d905511e_98ae_11ee_a1b5_3c9c0f35adb2row343_col0\" class=\"data row343 col0\" >-0.565249</td>\n",
       "            </tr>\n",
       "            <tr>\n",
       "                        <th id=\"T_d905511e_98ae_11ee_a1b5_3c9c0f35adb2level0_row344\" class=\"row_heading level0 row344\" >2023-06-29 00:00:00</th>\n",
       "                        <td id=\"T_d905511e_98ae_11ee_a1b5_3c9c0f35adb2row344_col0\" class=\"data row344 col0\" >-0.565249</td>\n",
       "            </tr>\n",
       "            <tr>\n",
       "                        <th id=\"T_d905511e_98ae_11ee_a1b5_3c9c0f35adb2level0_row345\" class=\"row_heading level0 row345\" >2023-06-30 00:00:00</th>\n",
       "                        <td id=\"T_d905511e_98ae_11ee_a1b5_3c9c0f35adb2row345_col0\" class=\"data row345 col0\" >-0.565249</td>\n",
       "            </tr>\n",
       "            <tr>\n",
       "                        <th id=\"T_d905511e_98ae_11ee_a1b5_3c9c0f35adb2level0_row346\" class=\"row_heading level0 row346\" >2023-07-03 00:00:00</th>\n",
       "                        <td id=\"T_d905511e_98ae_11ee_a1b5_3c9c0f35adb2row346_col0\" class=\"data row346 col0\" >-0.544404</td>\n",
       "            </tr>\n",
       "            <tr>\n",
       "                        <th id=\"T_d905511e_98ae_11ee_a1b5_3c9c0f35adb2level0_row347\" class=\"row_heading level0 row347\" >2023-07-04 00:00:00</th>\n",
       "                        <td id=\"T_d905511e_98ae_11ee_a1b5_3c9c0f35adb2row347_col0\" class=\"data row347 col0\" >-0.544404</td>\n",
       "            </tr>\n",
       "            <tr>\n",
       "                        <th id=\"T_d905511e_98ae_11ee_a1b5_3c9c0f35adb2level0_row348\" class=\"row_heading level0 row348\" >2023-07-05 00:00:00</th>\n",
       "                        <td id=\"T_d905511e_98ae_11ee_a1b5_3c9c0f35adb2row348_col0\" class=\"data row348 col0\" >-0.544404</td>\n",
       "            </tr>\n",
       "            <tr>\n",
       "                        <th id=\"T_d905511e_98ae_11ee_a1b5_3c9c0f35adb2level0_row349\" class=\"row_heading level0 row349\" >2023-07-06 00:00:00</th>\n",
       "                        <td id=\"T_d905511e_98ae_11ee_a1b5_3c9c0f35adb2row349_col0\" class=\"data row349 col0\" >-0.544404</td>\n",
       "            </tr>\n",
       "            <tr>\n",
       "                        <th id=\"T_d905511e_98ae_11ee_a1b5_3c9c0f35adb2level0_row350\" class=\"row_heading level0 row350\" >2023-07-07 00:00:00</th>\n",
       "                        <td id=\"T_d905511e_98ae_11ee_a1b5_3c9c0f35adb2row350_col0\" class=\"data row350 col0\" >-0.544404</td>\n",
       "            </tr>\n",
       "            <tr>\n",
       "                        <th id=\"T_d905511e_98ae_11ee_a1b5_3c9c0f35adb2level0_row351\" class=\"row_heading level0 row351\" >2023-07-10 00:00:00</th>\n",
       "                        <td id=\"T_d905511e_98ae_11ee_a1b5_3c9c0f35adb2row351_col0\" class=\"data row351 col0\" >-0.544404</td>\n",
       "            </tr>\n",
       "            <tr>\n",
       "                        <th id=\"T_d905511e_98ae_11ee_a1b5_3c9c0f35adb2level0_row352\" class=\"row_heading level0 row352\" >2023-07-11 00:00:00</th>\n",
       "                        <td id=\"T_d905511e_98ae_11ee_a1b5_3c9c0f35adb2row352_col0\" class=\"data row352 col0\" >-0.544404</td>\n",
       "            </tr>\n",
       "            <tr>\n",
       "                        <th id=\"T_d905511e_98ae_11ee_a1b5_3c9c0f35adb2level0_row353\" class=\"row_heading level0 row353\" >2023-07-12 00:00:00</th>\n",
       "                        <td id=\"T_d905511e_98ae_11ee_a1b5_3c9c0f35adb2row353_col0\" class=\"data row353 col0\" >-0.544404</td>\n",
       "            </tr>\n",
       "            <tr>\n",
       "                        <th id=\"T_d905511e_98ae_11ee_a1b5_3c9c0f35adb2level0_row354\" class=\"row_heading level0 row354\" >2023-07-13 00:00:00</th>\n",
       "                        <td id=\"T_d905511e_98ae_11ee_a1b5_3c9c0f35adb2row354_col0\" class=\"data row354 col0\" >-0.544404</td>\n",
       "            </tr>\n",
       "            <tr>\n",
       "                        <th id=\"T_d905511e_98ae_11ee_a1b5_3c9c0f35adb2level0_row355\" class=\"row_heading level0 row355\" >2023-07-14 00:00:00</th>\n",
       "                        <td id=\"T_d905511e_98ae_11ee_a1b5_3c9c0f35adb2row355_col0\" class=\"data row355 col0\" >-0.544404</td>\n",
       "            </tr>\n",
       "            <tr>\n",
       "                        <th id=\"T_d905511e_98ae_11ee_a1b5_3c9c0f35adb2level0_row356\" class=\"row_heading level0 row356\" >2023-07-17 00:00:00</th>\n",
       "                        <td id=\"T_d905511e_98ae_11ee_a1b5_3c9c0f35adb2row356_col0\" class=\"data row356 col0\" >nan</td>\n",
       "            </tr>\n",
       "            <tr>\n",
       "                        <th id=\"T_d905511e_98ae_11ee_a1b5_3c9c0f35adb2level0_row357\" class=\"row_heading level0 row357\" >2023-07-18 00:00:00</th>\n",
       "                        <td id=\"T_d905511e_98ae_11ee_a1b5_3c9c0f35adb2row357_col0\" class=\"data row357 col0\" >-0.544404</td>\n",
       "            </tr>\n",
       "            <tr>\n",
       "                        <th id=\"T_d905511e_98ae_11ee_a1b5_3c9c0f35adb2level0_row358\" class=\"row_heading level0 row358\" >2023-07-19 00:00:00</th>\n",
       "                        <td id=\"T_d905511e_98ae_11ee_a1b5_3c9c0f35adb2row358_col0\" class=\"data row358 col0\" >-0.544404</td>\n",
       "            </tr>\n",
       "            <tr>\n",
       "                        <th id=\"T_d905511e_98ae_11ee_a1b5_3c9c0f35adb2level0_row359\" class=\"row_heading level0 row359\" >2023-07-20 00:00:00</th>\n",
       "                        <td id=\"T_d905511e_98ae_11ee_a1b5_3c9c0f35adb2row359_col0\" class=\"data row359 col0\" >-0.544404</td>\n",
       "            </tr>\n",
       "            <tr>\n",
       "                        <th id=\"T_d905511e_98ae_11ee_a1b5_3c9c0f35adb2level0_row360\" class=\"row_heading level0 row360\" >2023-07-21 00:00:00</th>\n",
       "                        <td id=\"T_d905511e_98ae_11ee_a1b5_3c9c0f35adb2row360_col0\" class=\"data row360 col0\" >-0.544404</td>\n",
       "            </tr>\n",
       "            <tr>\n",
       "                        <th id=\"T_d905511e_98ae_11ee_a1b5_3c9c0f35adb2level0_row361\" class=\"row_heading level0 row361\" >2023-07-24 00:00:00</th>\n",
       "                        <td id=\"T_d905511e_98ae_11ee_a1b5_3c9c0f35adb2row361_col0\" class=\"data row361 col0\" >-0.544404</td>\n",
       "            </tr>\n",
       "            <tr>\n",
       "                        <th id=\"T_d905511e_98ae_11ee_a1b5_3c9c0f35adb2level0_row362\" class=\"row_heading level0 row362\" >2023-07-25 00:00:00</th>\n",
       "                        <td id=\"T_d905511e_98ae_11ee_a1b5_3c9c0f35adb2row362_col0\" class=\"data row362 col0\" >-0.544404</td>\n",
       "            </tr>\n",
       "            <tr>\n",
       "                        <th id=\"T_d905511e_98ae_11ee_a1b5_3c9c0f35adb2level0_row363\" class=\"row_heading level0 row363\" >2023-07-26 00:00:00</th>\n",
       "                        <td id=\"T_d905511e_98ae_11ee_a1b5_3c9c0f35adb2row363_col0\" class=\"data row363 col0\" >-0.544404</td>\n",
       "            </tr>\n",
       "            <tr>\n",
       "                        <th id=\"T_d905511e_98ae_11ee_a1b5_3c9c0f35adb2level0_row364\" class=\"row_heading level0 row364\" >2023-07-27 00:00:00</th>\n",
       "                        <td id=\"T_d905511e_98ae_11ee_a1b5_3c9c0f35adb2row364_col0\" class=\"data row364 col0\" >-0.544404</td>\n",
       "            </tr>\n",
       "            <tr>\n",
       "                        <th id=\"T_d905511e_98ae_11ee_a1b5_3c9c0f35adb2level0_row365\" class=\"row_heading level0 row365\" >2023-07-28 00:00:00</th>\n",
       "                        <td id=\"T_d905511e_98ae_11ee_a1b5_3c9c0f35adb2row365_col0\" class=\"data row365 col0\" >-0.544404</td>\n",
       "            </tr>\n",
       "            <tr>\n",
       "                        <th id=\"T_d905511e_98ae_11ee_a1b5_3c9c0f35adb2level0_row366\" class=\"row_heading level0 row366\" >2023-07-31 00:00:00</th>\n",
       "                        <td id=\"T_d905511e_98ae_11ee_a1b5_3c9c0f35adb2row366_col0\" class=\"data row366 col0\" >-0.544404</td>\n",
       "            </tr>\n",
       "            <tr>\n",
       "                        <th id=\"T_d905511e_98ae_11ee_a1b5_3c9c0f35adb2level0_row367\" class=\"row_heading level0 row367\" >2023-08-01 00:00:00</th>\n",
       "                        <td id=\"T_d905511e_98ae_11ee_a1b5_3c9c0f35adb2row367_col0\" class=\"data row367 col0\" >-0.534117</td>\n",
       "            </tr>\n",
       "            <tr>\n",
       "                        <th id=\"T_d905511e_98ae_11ee_a1b5_3c9c0f35adb2level0_row368\" class=\"row_heading level0 row368\" >2023-08-02 00:00:00</th>\n",
       "                        <td id=\"T_d905511e_98ae_11ee_a1b5_3c9c0f35adb2row368_col0\" class=\"data row368 col0\" >-0.534117</td>\n",
       "            </tr>\n",
       "            <tr>\n",
       "                        <th id=\"T_d905511e_98ae_11ee_a1b5_3c9c0f35adb2level0_row369\" class=\"row_heading level0 row369\" >2023-08-03 00:00:00</th>\n",
       "                        <td id=\"T_d905511e_98ae_11ee_a1b5_3c9c0f35adb2row369_col0\" class=\"data row369 col0\" >-0.534117</td>\n",
       "            </tr>\n",
       "            <tr>\n",
       "                        <th id=\"T_d905511e_98ae_11ee_a1b5_3c9c0f35adb2level0_row370\" class=\"row_heading level0 row370\" >2023-08-04 00:00:00</th>\n",
       "                        <td id=\"T_d905511e_98ae_11ee_a1b5_3c9c0f35adb2row370_col0\" class=\"data row370 col0\" >-0.534117</td>\n",
       "            </tr>\n",
       "            <tr>\n",
       "                        <th id=\"T_d905511e_98ae_11ee_a1b5_3c9c0f35adb2level0_row371\" class=\"row_heading level0 row371\" >2023-08-07 00:00:00</th>\n",
       "                        <td id=\"T_d905511e_98ae_11ee_a1b5_3c9c0f35adb2row371_col0\" class=\"data row371 col0\" >-0.534117</td>\n",
       "            </tr>\n",
       "            <tr>\n",
       "                        <th id=\"T_d905511e_98ae_11ee_a1b5_3c9c0f35adb2level0_row372\" class=\"row_heading level0 row372\" >2023-08-08 00:00:00</th>\n",
       "                        <td id=\"T_d905511e_98ae_11ee_a1b5_3c9c0f35adb2row372_col0\" class=\"data row372 col0\" >-0.534117</td>\n",
       "            </tr>\n",
       "            <tr>\n",
       "                        <th id=\"T_d905511e_98ae_11ee_a1b5_3c9c0f35adb2level0_row373\" class=\"row_heading level0 row373\" >2023-08-09 00:00:00</th>\n",
       "                        <td id=\"T_d905511e_98ae_11ee_a1b5_3c9c0f35adb2row373_col0\" class=\"data row373 col0\" >-0.534117</td>\n",
       "            </tr>\n",
       "            <tr>\n",
       "                        <th id=\"T_d905511e_98ae_11ee_a1b5_3c9c0f35adb2level0_row374\" class=\"row_heading level0 row374\" >2023-08-10 00:00:00</th>\n",
       "                        <td id=\"T_d905511e_98ae_11ee_a1b5_3c9c0f35adb2row374_col0\" class=\"data row374 col0\" >-0.534117</td>\n",
       "            </tr>\n",
       "            <tr>\n",
       "                        <th id=\"T_d905511e_98ae_11ee_a1b5_3c9c0f35adb2level0_row375\" class=\"row_heading level0 row375\" >2023-08-11 00:00:00</th>\n",
       "                        <td id=\"T_d905511e_98ae_11ee_a1b5_3c9c0f35adb2row375_col0\" class=\"data row375 col0\" >-0.534117</td>\n",
       "            </tr>\n",
       "            <tr>\n",
       "                        <th id=\"T_d905511e_98ae_11ee_a1b5_3c9c0f35adb2level0_row376\" class=\"row_heading level0 row376\" >2023-08-14 00:00:00</th>\n",
       "                        <td id=\"T_d905511e_98ae_11ee_a1b5_3c9c0f35adb2row376_col0\" class=\"data row376 col0\" >-0.534117</td>\n",
       "            </tr>\n",
       "            <tr>\n",
       "                        <th id=\"T_d905511e_98ae_11ee_a1b5_3c9c0f35adb2level0_row377\" class=\"row_heading level0 row377\" >2023-08-15 00:00:00</th>\n",
       "                        <td id=\"T_d905511e_98ae_11ee_a1b5_3c9c0f35adb2row377_col0\" class=\"data row377 col0\" >-0.534117</td>\n",
       "            </tr>\n",
       "            <tr>\n",
       "                        <th id=\"T_d905511e_98ae_11ee_a1b5_3c9c0f35adb2level0_row378\" class=\"row_heading level0 row378\" >2023-08-16 00:00:00</th>\n",
       "                        <td id=\"T_d905511e_98ae_11ee_a1b5_3c9c0f35adb2row378_col0\" class=\"data row378 col0\" >-0.534117</td>\n",
       "            </tr>\n",
       "            <tr>\n",
       "                        <th id=\"T_d905511e_98ae_11ee_a1b5_3c9c0f35adb2level0_row379\" class=\"row_heading level0 row379\" >2023-08-17 00:00:00</th>\n",
       "                        <td id=\"T_d905511e_98ae_11ee_a1b5_3c9c0f35adb2row379_col0\" class=\"data row379 col0\" >-0.534117</td>\n",
       "            </tr>\n",
       "            <tr>\n",
       "                        <th id=\"T_d905511e_98ae_11ee_a1b5_3c9c0f35adb2level0_row380\" class=\"row_heading level0 row380\" >2023-08-18 00:00:00</th>\n",
       "                        <td id=\"T_d905511e_98ae_11ee_a1b5_3c9c0f35adb2row380_col0\" class=\"data row380 col0\" >-0.534117</td>\n",
       "            </tr>\n",
       "            <tr>\n",
       "                        <th id=\"T_d905511e_98ae_11ee_a1b5_3c9c0f35adb2level0_row381\" class=\"row_heading level0 row381\" >2023-08-21 00:00:00</th>\n",
       "                        <td id=\"T_d905511e_98ae_11ee_a1b5_3c9c0f35adb2row381_col0\" class=\"data row381 col0\" >-0.534117</td>\n",
       "            </tr>\n",
       "            <tr>\n",
       "                        <th id=\"T_d905511e_98ae_11ee_a1b5_3c9c0f35adb2level0_row382\" class=\"row_heading level0 row382\" >2023-08-22 00:00:00</th>\n",
       "                        <td id=\"T_d905511e_98ae_11ee_a1b5_3c9c0f35adb2row382_col0\" class=\"data row382 col0\" >-0.534117</td>\n",
       "            </tr>\n",
       "            <tr>\n",
       "                        <th id=\"T_d905511e_98ae_11ee_a1b5_3c9c0f35adb2level0_row383\" class=\"row_heading level0 row383\" >2023-08-23 00:00:00</th>\n",
       "                        <td id=\"T_d905511e_98ae_11ee_a1b5_3c9c0f35adb2row383_col0\" class=\"data row383 col0\" >-0.534117</td>\n",
       "            </tr>\n",
       "            <tr>\n",
       "                        <th id=\"T_d905511e_98ae_11ee_a1b5_3c9c0f35adb2level0_row384\" class=\"row_heading level0 row384\" >2023-08-24 00:00:00</th>\n",
       "                        <td id=\"T_d905511e_98ae_11ee_a1b5_3c9c0f35adb2row384_col0\" class=\"data row384 col0\" >-0.534117</td>\n",
       "            </tr>\n",
       "            <tr>\n",
       "                        <th id=\"T_d905511e_98ae_11ee_a1b5_3c9c0f35adb2level0_row385\" class=\"row_heading level0 row385\" >2023-08-25 00:00:00</th>\n",
       "                        <td id=\"T_d905511e_98ae_11ee_a1b5_3c9c0f35adb2row385_col0\" class=\"data row385 col0\" >-0.534117</td>\n",
       "            </tr>\n",
       "            <tr>\n",
       "                        <th id=\"T_d905511e_98ae_11ee_a1b5_3c9c0f35adb2level0_row386\" class=\"row_heading level0 row386\" >2023-08-28 00:00:00</th>\n",
       "                        <td id=\"T_d905511e_98ae_11ee_a1b5_3c9c0f35adb2row386_col0\" class=\"data row386 col0\" >-0.534117</td>\n",
       "            </tr>\n",
       "            <tr>\n",
       "                        <th id=\"T_d905511e_98ae_11ee_a1b5_3c9c0f35adb2level0_row387\" class=\"row_heading level0 row387\" >2023-08-29 00:00:00</th>\n",
       "                        <td id=\"T_d905511e_98ae_11ee_a1b5_3c9c0f35adb2row387_col0\" class=\"data row387 col0\" >-0.534117</td>\n",
       "            </tr>\n",
       "            <tr>\n",
       "                        <th id=\"T_d905511e_98ae_11ee_a1b5_3c9c0f35adb2level0_row388\" class=\"row_heading level0 row388\" >2023-08-30 00:00:00</th>\n",
       "                        <td id=\"T_d905511e_98ae_11ee_a1b5_3c9c0f35adb2row388_col0\" class=\"data row388 col0\" >-0.534117</td>\n",
       "            </tr>\n",
       "            <tr>\n",
       "                        <th id=\"T_d905511e_98ae_11ee_a1b5_3c9c0f35adb2level0_row389\" class=\"row_heading level0 row389\" >2023-08-31 00:00:00</th>\n",
       "                        <td id=\"T_d905511e_98ae_11ee_a1b5_3c9c0f35adb2row389_col0\" class=\"data row389 col0\" >-0.534117</td>\n",
       "            </tr>\n",
       "            <tr>\n",
       "                        <th id=\"T_d905511e_98ae_11ee_a1b5_3c9c0f35adb2level0_row390\" class=\"row_heading level0 row390\" >2023-09-04 00:00:00</th>\n",
       "                        <td id=\"T_d905511e_98ae_11ee_a1b5_3c9c0f35adb2row390_col0\" class=\"data row390 col0\" >-0.488797</td>\n",
       "            </tr>\n",
       "            <tr>\n",
       "                        <th id=\"T_d905511e_98ae_11ee_a1b5_3c9c0f35adb2level0_row391\" class=\"row_heading level0 row391\" >2023-09-05 00:00:00</th>\n",
       "                        <td id=\"T_d905511e_98ae_11ee_a1b5_3c9c0f35adb2row391_col0\" class=\"data row391 col0\" >-0.488797</td>\n",
       "            </tr>\n",
       "            <tr>\n",
       "                        <th id=\"T_d905511e_98ae_11ee_a1b5_3c9c0f35adb2level0_row392\" class=\"row_heading level0 row392\" >2023-09-06 00:00:00</th>\n",
       "                        <td id=\"T_d905511e_98ae_11ee_a1b5_3c9c0f35adb2row392_col0\" class=\"data row392 col0\" >-0.488797</td>\n",
       "            </tr>\n",
       "            <tr>\n",
       "                        <th id=\"T_d905511e_98ae_11ee_a1b5_3c9c0f35adb2level0_row393\" class=\"row_heading level0 row393\" >2023-09-07 00:00:00</th>\n",
       "                        <td id=\"T_d905511e_98ae_11ee_a1b5_3c9c0f35adb2row393_col0\" class=\"data row393 col0\" >-0.488797</td>\n",
       "            </tr>\n",
       "            <tr>\n",
       "                        <th id=\"T_d905511e_98ae_11ee_a1b5_3c9c0f35adb2level0_row394\" class=\"row_heading level0 row394\" >2023-09-11 00:00:00</th>\n",
       "                        <td id=\"T_d905511e_98ae_11ee_a1b5_3c9c0f35adb2row394_col0\" class=\"data row394 col0\" >-0.488797</td>\n",
       "            </tr>\n",
       "            <tr>\n",
       "                        <th id=\"T_d905511e_98ae_11ee_a1b5_3c9c0f35adb2level0_row395\" class=\"row_heading level0 row395\" >2023-09-12 00:00:00</th>\n",
       "                        <td id=\"T_d905511e_98ae_11ee_a1b5_3c9c0f35adb2row395_col0\" class=\"data row395 col0\" >-0.488797</td>\n",
       "            </tr>\n",
       "            <tr>\n",
       "                        <th id=\"T_d905511e_98ae_11ee_a1b5_3c9c0f35adb2level0_row396\" class=\"row_heading level0 row396\" >2023-09-13 00:00:00</th>\n",
       "                        <td id=\"T_d905511e_98ae_11ee_a1b5_3c9c0f35adb2row396_col0\" class=\"data row396 col0\" >-0.488797</td>\n",
       "            </tr>\n",
       "            <tr>\n",
       "                        <th id=\"T_d905511e_98ae_11ee_a1b5_3c9c0f35adb2level0_row397\" class=\"row_heading level0 row397\" >2023-09-14 00:00:00</th>\n",
       "                        <td id=\"T_d905511e_98ae_11ee_a1b5_3c9c0f35adb2row397_col0\" class=\"data row397 col0\" >-0.488797</td>\n",
       "            </tr>\n",
       "            <tr>\n",
       "                        <th id=\"T_d905511e_98ae_11ee_a1b5_3c9c0f35adb2level0_row398\" class=\"row_heading level0 row398\" >2023-09-15 00:00:00</th>\n",
       "                        <td id=\"T_d905511e_98ae_11ee_a1b5_3c9c0f35adb2row398_col0\" class=\"data row398 col0\" >-0.488797</td>\n",
       "            </tr>\n",
       "            <tr>\n",
       "                        <th id=\"T_d905511e_98ae_11ee_a1b5_3c9c0f35adb2level0_row399\" class=\"row_heading level0 row399\" >2023-09-18 00:00:00</th>\n",
       "                        <td id=\"T_d905511e_98ae_11ee_a1b5_3c9c0f35adb2row399_col0\" class=\"data row399 col0\" >-0.488797</td>\n",
       "            </tr>\n",
       "            <tr>\n",
       "                        <th id=\"T_d905511e_98ae_11ee_a1b5_3c9c0f35adb2level0_row400\" class=\"row_heading level0 row400\" >2023-09-19 00:00:00</th>\n",
       "                        <td id=\"T_d905511e_98ae_11ee_a1b5_3c9c0f35adb2row400_col0\" class=\"data row400 col0\" >-0.488797</td>\n",
       "            </tr>\n",
       "            <tr>\n",
       "                        <th id=\"T_d905511e_98ae_11ee_a1b5_3c9c0f35adb2level0_row401\" class=\"row_heading level0 row401\" >2023-09-20 00:00:00</th>\n",
       "                        <td id=\"T_d905511e_98ae_11ee_a1b5_3c9c0f35adb2row401_col0\" class=\"data row401 col0\" >-0.488797</td>\n",
       "            </tr>\n",
       "            <tr>\n",
       "                        <th id=\"T_d905511e_98ae_11ee_a1b5_3c9c0f35adb2level0_row402\" class=\"row_heading level0 row402\" >2023-09-21 00:00:00</th>\n",
       "                        <td id=\"T_d905511e_98ae_11ee_a1b5_3c9c0f35adb2row402_col0\" class=\"data row402 col0\" >-0.488797</td>\n",
       "            </tr>\n",
       "            <tr>\n",
       "                        <th id=\"T_d905511e_98ae_11ee_a1b5_3c9c0f35adb2level0_row403\" class=\"row_heading level0 row403\" >2023-09-22 00:00:00</th>\n",
       "                        <td id=\"T_d905511e_98ae_11ee_a1b5_3c9c0f35adb2row403_col0\" class=\"data row403 col0\" >-0.488797</td>\n",
       "            </tr>\n",
       "            <tr>\n",
       "                        <th id=\"T_d905511e_98ae_11ee_a1b5_3c9c0f35adb2level0_row404\" class=\"row_heading level0 row404\" >2023-09-25 00:00:00</th>\n",
       "                        <td id=\"T_d905511e_98ae_11ee_a1b5_3c9c0f35adb2row404_col0\" class=\"data row404 col0\" >-0.488797</td>\n",
       "            </tr>\n",
       "            <tr>\n",
       "                        <th id=\"T_d905511e_98ae_11ee_a1b5_3c9c0f35adb2level0_row405\" class=\"row_heading level0 row405\" >2023-09-26 00:00:00</th>\n",
       "                        <td id=\"T_d905511e_98ae_11ee_a1b5_3c9c0f35adb2row405_col0\" class=\"data row405 col0\" >-0.488797</td>\n",
       "            </tr>\n",
       "            <tr>\n",
       "                        <th id=\"T_d905511e_98ae_11ee_a1b5_3c9c0f35adb2level0_row406\" class=\"row_heading level0 row406\" >2023-09-27 00:00:00</th>\n",
       "                        <td id=\"T_d905511e_98ae_11ee_a1b5_3c9c0f35adb2row406_col0\" class=\"data row406 col0\" >-0.488797</td>\n",
       "            </tr>\n",
       "            <tr>\n",
       "                        <th id=\"T_d905511e_98ae_11ee_a1b5_3c9c0f35adb2level0_row407\" class=\"row_heading level0 row407\" >2023-09-28 00:00:00</th>\n",
       "                        <td id=\"T_d905511e_98ae_11ee_a1b5_3c9c0f35adb2row407_col0\" class=\"data row407 col0\" >-0.488797</td>\n",
       "            </tr>\n",
       "            <tr>\n",
       "                        <th id=\"T_d905511e_98ae_11ee_a1b5_3c9c0f35adb2level0_row408\" class=\"row_heading level0 row408\" >2023-09-29 00:00:00</th>\n",
       "                        <td id=\"T_d905511e_98ae_11ee_a1b5_3c9c0f35adb2row408_col0\" class=\"data row408 col0\" >-0.488797</td>\n",
       "            </tr>\n",
       "            <tr>\n",
       "                        <th id=\"T_d905511e_98ae_11ee_a1b5_3c9c0f35adb2level0_row409\" class=\"row_heading level0 row409\" >2023-10-03 00:00:00</th>\n",
       "                        <td id=\"T_d905511e_98ae_11ee_a1b5_3c9c0f35adb2row409_col0\" class=\"data row409 col0\" >-0.520509</td>\n",
       "            </tr>\n",
       "            <tr>\n",
       "                        <th id=\"T_d905511e_98ae_11ee_a1b5_3c9c0f35adb2level0_row410\" class=\"row_heading level0 row410\" >2023-10-04 00:00:00</th>\n",
       "                        <td id=\"T_d905511e_98ae_11ee_a1b5_3c9c0f35adb2row410_col0\" class=\"data row410 col0\" >-0.520509</td>\n",
       "            </tr>\n",
       "            <tr>\n",
       "                        <th id=\"T_d905511e_98ae_11ee_a1b5_3c9c0f35adb2level0_row411\" class=\"row_heading level0 row411\" >2023-10-05 00:00:00</th>\n",
       "                        <td id=\"T_d905511e_98ae_11ee_a1b5_3c9c0f35adb2row411_col0\" class=\"data row411 col0\" >-0.520509</td>\n",
       "            </tr>\n",
       "            <tr>\n",
       "                        <th id=\"T_d905511e_98ae_11ee_a1b5_3c9c0f35adb2level0_row412\" class=\"row_heading level0 row412\" >2023-10-06 00:00:00</th>\n",
       "                        <td id=\"T_d905511e_98ae_11ee_a1b5_3c9c0f35adb2row412_col0\" class=\"data row412 col0\" >-0.520509</td>\n",
       "            </tr>\n",
       "            <tr>\n",
       "                        <th id=\"T_d905511e_98ae_11ee_a1b5_3c9c0f35adb2level0_row413\" class=\"row_heading level0 row413\" >2023-10-09 00:00:00</th>\n",
       "                        <td id=\"T_d905511e_98ae_11ee_a1b5_3c9c0f35adb2row413_col0\" class=\"data row413 col0\" >-0.520509</td>\n",
       "            </tr>\n",
       "            <tr>\n",
       "                        <th id=\"T_d905511e_98ae_11ee_a1b5_3c9c0f35adb2level0_row414\" class=\"row_heading level0 row414\" >2023-10-10 00:00:00</th>\n",
       "                        <td id=\"T_d905511e_98ae_11ee_a1b5_3c9c0f35adb2row414_col0\" class=\"data row414 col0\" >-0.520509</td>\n",
       "            </tr>\n",
       "            <tr>\n",
       "                        <th id=\"T_d905511e_98ae_11ee_a1b5_3c9c0f35adb2level0_row415\" class=\"row_heading level0 row415\" >2023-10-11 00:00:00</th>\n",
       "                        <td id=\"T_d905511e_98ae_11ee_a1b5_3c9c0f35adb2row415_col0\" class=\"data row415 col0\" >-0.520509</td>\n",
       "            </tr>\n",
       "            <tr>\n",
       "                        <th id=\"T_d905511e_98ae_11ee_a1b5_3c9c0f35adb2level0_row416\" class=\"row_heading level0 row416\" >2023-10-12 00:00:00</th>\n",
       "                        <td id=\"T_d905511e_98ae_11ee_a1b5_3c9c0f35adb2row416_col0\" class=\"data row416 col0\" >-0.520509</td>\n",
       "            </tr>\n",
       "            <tr>\n",
       "                        <th id=\"T_d905511e_98ae_11ee_a1b5_3c9c0f35adb2level0_row417\" class=\"row_heading level0 row417\" >2023-10-13 00:00:00</th>\n",
       "                        <td id=\"T_d905511e_98ae_11ee_a1b5_3c9c0f35adb2row417_col0\" class=\"data row417 col0\" >-0.520509</td>\n",
       "            </tr>\n",
       "            <tr>\n",
       "                        <th id=\"T_d905511e_98ae_11ee_a1b5_3c9c0f35adb2level0_row418\" class=\"row_heading level0 row418\" >2023-10-16 00:00:00</th>\n",
       "                        <td id=\"T_d905511e_98ae_11ee_a1b5_3c9c0f35adb2row418_col0\" class=\"data row418 col0\" >-0.520509</td>\n",
       "            </tr>\n",
       "            <tr>\n",
       "                        <th id=\"T_d905511e_98ae_11ee_a1b5_3c9c0f35adb2level0_row419\" class=\"row_heading level0 row419\" >2023-10-17 00:00:00</th>\n",
       "                        <td id=\"T_d905511e_98ae_11ee_a1b5_3c9c0f35adb2row419_col0\" class=\"data row419 col0\" >-0.520509</td>\n",
       "            </tr>\n",
       "            <tr>\n",
       "                        <th id=\"T_d905511e_98ae_11ee_a1b5_3c9c0f35adb2level0_row420\" class=\"row_heading level0 row420\" >2023-10-18 00:00:00</th>\n",
       "                        <td id=\"T_d905511e_98ae_11ee_a1b5_3c9c0f35adb2row420_col0\" class=\"data row420 col0\" >-0.520509</td>\n",
       "            </tr>\n",
       "            <tr>\n",
       "                        <th id=\"T_d905511e_98ae_11ee_a1b5_3c9c0f35adb2level0_row421\" class=\"row_heading level0 row421\" >2023-10-19 00:00:00</th>\n",
       "                        <td id=\"T_d905511e_98ae_11ee_a1b5_3c9c0f35adb2row421_col0\" class=\"data row421 col0\" >-0.520509</td>\n",
       "            </tr>\n",
       "            <tr>\n",
       "                        <th id=\"T_d905511e_98ae_11ee_a1b5_3c9c0f35adb2level0_row422\" class=\"row_heading level0 row422\" >2023-10-20 00:00:00</th>\n",
       "                        <td id=\"T_d905511e_98ae_11ee_a1b5_3c9c0f35adb2row422_col0\" class=\"data row422 col0\" >-0.520509</td>\n",
       "            </tr>\n",
       "            <tr>\n",
       "                        <th id=\"T_d905511e_98ae_11ee_a1b5_3c9c0f35adb2level0_row423\" class=\"row_heading level0 row423\" >2023-10-24 00:00:00</th>\n",
       "                        <td id=\"T_d905511e_98ae_11ee_a1b5_3c9c0f35adb2row423_col0\" class=\"data row423 col0\" >-0.520509</td>\n",
       "            </tr>\n",
       "            <tr>\n",
       "                        <th id=\"T_d905511e_98ae_11ee_a1b5_3c9c0f35adb2level0_row424\" class=\"row_heading level0 row424\" >2023-10-25 00:00:00</th>\n",
       "                        <td id=\"T_d905511e_98ae_11ee_a1b5_3c9c0f35adb2row424_col0\" class=\"data row424 col0\" >-0.520509</td>\n",
       "            </tr>\n",
       "            <tr>\n",
       "                        <th id=\"T_d905511e_98ae_11ee_a1b5_3c9c0f35adb2level0_row425\" class=\"row_heading level0 row425\" >2023-10-26 00:00:00</th>\n",
       "                        <td id=\"T_d905511e_98ae_11ee_a1b5_3c9c0f35adb2row425_col0\" class=\"data row425 col0\" >-0.520509</td>\n",
       "            </tr>\n",
       "            <tr>\n",
       "                        <th id=\"T_d905511e_98ae_11ee_a1b5_3c9c0f35adb2level0_row426\" class=\"row_heading level0 row426\" >2023-10-27 00:00:00</th>\n",
       "                        <td id=\"T_d905511e_98ae_11ee_a1b5_3c9c0f35adb2row426_col0\" class=\"data row426 col0\" >-0.520509</td>\n",
       "            </tr>\n",
       "            <tr>\n",
       "                        <th id=\"T_d905511e_98ae_11ee_a1b5_3c9c0f35adb2level0_row427\" class=\"row_heading level0 row427\" >2023-10-30 00:00:00</th>\n",
       "                        <td id=\"T_d905511e_98ae_11ee_a1b5_3c9c0f35adb2row427_col0\" class=\"data row427 col0\" >-0.520509</td>\n",
       "            </tr>\n",
       "            <tr>\n",
       "                        <th id=\"T_d905511e_98ae_11ee_a1b5_3c9c0f35adb2level0_row428\" class=\"row_heading level0 row428\" >2023-10-31 00:00:00</th>\n",
       "                        <td id=\"T_d905511e_98ae_11ee_a1b5_3c9c0f35adb2row428_col0\" class=\"data row428 col0\" >-0.520509</td>\n",
       "            </tr>\n",
       "            <tr>\n",
       "                        <th id=\"T_d905511e_98ae_11ee_a1b5_3c9c0f35adb2level0_row429\" class=\"row_heading level0 row429\" >2023-11-01 00:00:00</th>\n",
       "                        <td id=\"T_d905511e_98ae_11ee_a1b5_3c9c0f35adb2row429_col0\" class=\"data row429 col0\" >-0.466195</td>\n",
       "            </tr>\n",
       "            <tr>\n",
       "                        <th id=\"T_d905511e_98ae_11ee_a1b5_3c9c0f35adb2level0_row430\" class=\"row_heading level0 row430\" >2023-11-02 00:00:00</th>\n",
       "                        <td id=\"T_d905511e_98ae_11ee_a1b5_3c9c0f35adb2row430_col0\" class=\"data row430 col0\" >-0.466195</td>\n",
       "            </tr>\n",
       "            <tr>\n",
       "                        <th id=\"T_d905511e_98ae_11ee_a1b5_3c9c0f35adb2level0_row431\" class=\"row_heading level0 row431\" >2023-11-03 00:00:00</th>\n",
       "                        <td id=\"T_d905511e_98ae_11ee_a1b5_3c9c0f35adb2row431_col0\" class=\"data row431 col0\" >-0.466195</td>\n",
       "            </tr>\n",
       "            <tr>\n",
       "                        <th id=\"T_d905511e_98ae_11ee_a1b5_3c9c0f35adb2level0_row432\" class=\"row_heading level0 row432\" >2023-11-06 00:00:00</th>\n",
       "                        <td id=\"T_d905511e_98ae_11ee_a1b5_3c9c0f35adb2row432_col0\" class=\"data row432 col0\" >-0.466195</td>\n",
       "            </tr>\n",
       "            <tr>\n",
       "                        <th id=\"T_d905511e_98ae_11ee_a1b5_3c9c0f35adb2level0_row433\" class=\"row_heading level0 row433\" >2023-11-07 00:00:00</th>\n",
       "                        <td id=\"T_d905511e_98ae_11ee_a1b5_3c9c0f35adb2row433_col0\" class=\"data row433 col0\" >-0.466195</td>\n",
       "            </tr>\n",
       "            <tr>\n",
       "                        <th id=\"T_d905511e_98ae_11ee_a1b5_3c9c0f35adb2level0_row434\" class=\"row_heading level0 row434\" >2023-11-08 00:00:00</th>\n",
       "                        <td id=\"T_d905511e_98ae_11ee_a1b5_3c9c0f35adb2row434_col0\" class=\"data row434 col0\" >-0.466195</td>\n",
       "            </tr>\n",
       "            <tr>\n",
       "                        <th id=\"T_d905511e_98ae_11ee_a1b5_3c9c0f35adb2level0_row435\" class=\"row_heading level0 row435\" >2023-11-09 00:00:00</th>\n",
       "                        <td id=\"T_d905511e_98ae_11ee_a1b5_3c9c0f35adb2row435_col0\" class=\"data row435 col0\" >-0.466195</td>\n",
       "            </tr>\n",
       "            <tr>\n",
       "                        <th id=\"T_d905511e_98ae_11ee_a1b5_3c9c0f35adb2level0_row436\" class=\"row_heading level0 row436\" >2023-11-10 00:00:00</th>\n",
       "                        <td id=\"T_d905511e_98ae_11ee_a1b5_3c9c0f35adb2row436_col0\" class=\"data row436 col0\" >-0.466195</td>\n",
       "            </tr>\n",
       "            <tr>\n",
       "                        <th id=\"T_d905511e_98ae_11ee_a1b5_3c9c0f35adb2level0_row437\" class=\"row_heading level0 row437\" >2023-11-13 00:00:00</th>\n",
       "                        <td id=\"T_d905511e_98ae_11ee_a1b5_3c9c0f35adb2row437_col0\" class=\"data row437 col0\" >-0.466195</td>\n",
       "            </tr>\n",
       "            <tr>\n",
       "                        <th id=\"T_d905511e_98ae_11ee_a1b5_3c9c0f35adb2level0_row438\" class=\"row_heading level0 row438\" >2023-11-14 00:00:00</th>\n",
       "                        <td id=\"T_d905511e_98ae_11ee_a1b5_3c9c0f35adb2row438_col0\" class=\"data row438 col0\" >-0.466195</td>\n",
       "            </tr>\n",
       "            <tr>\n",
       "                        <th id=\"T_d905511e_98ae_11ee_a1b5_3c9c0f35adb2level0_row439\" class=\"row_heading level0 row439\" >2023-11-15 00:00:00</th>\n",
       "                        <td id=\"T_d905511e_98ae_11ee_a1b5_3c9c0f35adb2row439_col0\" class=\"data row439 col0\" >-0.466195</td>\n",
       "            </tr>\n",
       "            <tr>\n",
       "                        <th id=\"T_d905511e_98ae_11ee_a1b5_3c9c0f35adb2level0_row440\" class=\"row_heading level0 row440\" >2023-11-16 00:00:00</th>\n",
       "                        <td id=\"T_d905511e_98ae_11ee_a1b5_3c9c0f35adb2row440_col0\" class=\"data row440 col0\" >-0.466195</td>\n",
       "            </tr>\n",
       "            <tr>\n",
       "                        <th id=\"T_d905511e_98ae_11ee_a1b5_3c9c0f35adb2level0_row441\" class=\"row_heading level0 row441\" >2023-11-17 00:00:00</th>\n",
       "                        <td id=\"T_d905511e_98ae_11ee_a1b5_3c9c0f35adb2row441_col0\" class=\"data row441 col0\" >-0.466195</td>\n",
       "            </tr>\n",
       "            <tr>\n",
       "                        <th id=\"T_d905511e_98ae_11ee_a1b5_3c9c0f35adb2level0_row442\" class=\"row_heading level0 row442\" >2023-11-20 00:00:00</th>\n",
       "                        <td id=\"T_d905511e_98ae_11ee_a1b5_3c9c0f35adb2row442_col0\" class=\"data row442 col0\" >-0.466195</td>\n",
       "            </tr>\n",
       "            <tr>\n",
       "                        <th id=\"T_d905511e_98ae_11ee_a1b5_3c9c0f35adb2level0_row443\" class=\"row_heading level0 row443\" >2023-11-21 00:00:00</th>\n",
       "                        <td id=\"T_d905511e_98ae_11ee_a1b5_3c9c0f35adb2row443_col0\" class=\"data row443 col0\" >-0.466195</td>\n",
       "            </tr>\n",
       "            <tr>\n",
       "                        <th id=\"T_d905511e_98ae_11ee_a1b5_3c9c0f35adb2level0_row444\" class=\"row_heading level0 row444\" >2023-11-22 00:00:00</th>\n",
       "                        <td id=\"T_d905511e_98ae_11ee_a1b5_3c9c0f35adb2row444_col0\" class=\"data row444 col0\" >-0.466195</td>\n",
       "            </tr>\n",
       "            <tr>\n",
       "                        <th id=\"T_d905511e_98ae_11ee_a1b5_3c9c0f35adb2level0_row445\" class=\"row_heading level0 row445\" >2023-11-23 00:00:00</th>\n",
       "                        <td id=\"T_d905511e_98ae_11ee_a1b5_3c9c0f35adb2row445_col0\" class=\"data row445 col0\" >-0.466195</td>\n",
       "            </tr>\n",
       "    </tbody></table>"
      ],
      "text/plain": [
       "<pandas.io.formats.style.Styler at 0x2082fbb44a8>"
      ]
     },
     "execution_count": 13,
     "metadata": {},
     "output_type": "execute_result"
    }
   ],
   "source": [
    "comp.dropna().diff().pct_change(axis=1)['new'].to_frame().style#.plot()"
   ]
  },
  {
   "cell_type": "code",
   "execution_count": null,
   "id": "c34ba4b6-1868-499f-b5fc-a2e758e8b127",
   "metadata": {},
   "outputs": [],
   "source": []
  },
  {
   "cell_type": "markdown",
   "id": "1370861a-e868-4224-9e2a-3bc094031ae8",
   "metadata": {},
   "source": [
    "# Performance stats (with tracking error so important)\n",
    "- sharpe\n",
    "- sortino\n",
    "- mdd\n",
    "- VaR 95%\n",
    "- expected short fall 5%\n",
    "- tracking error (ex ante vs. ex post)\n",
    "    - ex ante: expected tracking error, quad_form  (wgt_active.T @ cov @ wgt_active)\n",
    "    - ex ante tracking error breakdown (by GPT, can verify later): \n",
    "        - CTTE= wgt_active * (wgt_active.T @ Cov).T \n",
    "\n",
    "    - ex post: realized tracking error, stdev of  (port return - benchmark return)\n"
   ]
  },
  {
   "cell_type": "code",
   "execution_count": 14,
   "id": "1c9802df-c3be-4808-b282-39b933819631",
   "metadata": {},
   "outputs": [
    {
     "name": "stdout",
     "output_type": "stream",
     "text": [
      "sharpe is 0.17258917562840767\n",
      "sortino is 0.2189298133143124\n",
      "mdd is -0.41748606605414873\n",
      "var95 is -0.04003431484028912\n",
      "ES is -0.06152197079207459\n"
     ]
    }
   ],
   "source": [
    "perf_i=perf_pct['l-mkt_net']\n",
    "ret_i=perf_i.pct_change()\n",
    "dc_year=260\n",
    "rf=1/100/dc_year\n",
    "\n",
    "\n",
    "# sharpe\n",
    "res=(ret_i.mean()-rf)/ret_i.std()*np.sqrt(dc_year)\n",
    "print ('sharpe is %s' % (res) )\n",
    "\n",
    "# sortino\n",
    "res=(ret_i.mean()-rf)/ret_i[ret_i<0].std()*np.sqrt(dc_year)\n",
    "print ('sortino is %s' % (res) )\n",
    "\n",
    "# mdd (can do pd.rolling.apply to calculate rolling drawdown)\n",
    "res=(perf_i/np.maximum.accumulate(perf_i)-1).min()\n",
    "print ('mdd is %s' % (res) )\n",
    "\n",
    "# var95\n",
    "res=np.percentile(ret_i.dropna(), 5) \n",
    "print ('var95 is %s' % (res) )\n",
    "\n",
    "# ES\n",
    "var=np.percentile(ret_i.dropna(), 5) \n",
    "res=ret_i[ret_i<var].mean()\n",
    "print ('ES is %s' % (res))"
   ]
  },
  {
   "cell_type": "code",
   "execution_count": null,
   "id": "c270ed17-8dcb-41f3-b3ac-02439a749ff4",
   "metadata": {},
   "outputs": [],
   "source": []
  },
  {
   "cell_type": "markdown",
   "id": "15446fe9-8b76-42da-974e-9051e9a4b332",
   "metadata": {},
   "source": [
    "# Some matrix operation\n",
    "- var calculation\n",
    "- linear regression\n",
    "- attribution"
   ]
  },
  {
   "cell_type": "markdown",
   "id": "418f6bc1-4602-458c-a1ac-0c911e84d383",
   "metadata": {},
   "source": [
    "# - cov/corr correlation"
   ]
  },
  {
   "cell_type": "code",
   "execution_count": 15,
   "id": "b8408040-f2e2-4522-b54f-8fd7912e7e0e",
   "metadata": {},
   "outputs": [],
   "source": [
    "# var calculation \n",
    "\n",
    "ret=px.iloc[::5,::50].pct_change().fillna(0)\n",
    "\n",
    "# using numpy directly\n",
    "cov=ret.cov()\n",
    "corr=ret.corr()\n",
    "var=np.diagonal(cov)\n",
    "\n",
    "# code yourself (calculate the centered return)\n",
    "n=len(ret)\n",
    "ret_c=ret-ret.mean()\n",
    "cov_self=(ret_c.T @ ret_c)*(1/(n-1)) # divided by n-1 as this is sample covariancn\n",
    "\n",
    "\n",
    "# get correlation\n",
    "corr_diag=np.diag(np.sqrt(np.diag(cov_self)))\n",
    "corr_diag_inv=np.linalg.inv(corr_diag)\n",
    "corr_self=corr_diag_inv @ cov_self @ corr_diag_inv "
   ]
  },
  {
   "cell_type": "code",
   "execution_count": 16,
   "id": "3fd40427-dd12-414a-bf31-b3a0faa94213",
   "metadata": {},
   "outputs": [
    {
     "data": {
      "text/plain": [
       "217.5777336952652"
      ]
     },
     "execution_count": 16,
     "metadata": {},
     "output_type": "execute_result"
    }
   ],
   "source": [
    "corr.sum().sum()"
   ]
  },
  {
   "cell_type": "code",
   "execution_count": 17,
   "id": "10986937-03fe-4f1e-a70c-de45966f3134",
   "metadata": {},
   "outputs": [
    {
     "data": {
      "text/plain": [
       "217.5777336952652"
      ]
     },
     "execution_count": 17,
     "metadata": {},
     "output_type": "execute_result"
    }
   ],
   "source": [
    "corr_self.sum().sum()"
   ]
  },
  {
   "cell_type": "code",
   "execution_count": 18,
   "id": "5d701379-654d-4853-9712-ca1e0a8fe59f",
   "metadata": {},
   "outputs": [
    {
     "data": {
      "text/plain": [
       "3.8681127346203237"
      ]
     },
     "execution_count": 18,
     "metadata": {},
     "output_type": "execute_result"
    }
   ],
   "source": [
    "cov.sum().sum()"
   ]
  },
  {
   "cell_type": "code",
   "execution_count": 19,
   "id": "91e8caf9-8a2c-42ac-be9c-39906e61e714",
   "metadata": {},
   "outputs": [
    {
     "data": {
      "text/plain": [
       "3.8681127346203237"
      ]
     },
     "execution_count": 19,
     "metadata": {},
     "output_type": "execute_result"
    }
   ],
   "source": [
    "cov_self.sum().sum() # some rounding error"
   ]
  },
  {
   "cell_type": "markdown",
   "id": "fec474f9-e29d-4905-b123-89f8cf18b0d0",
   "metadata": {},
   "source": [
    "# - Linear regression (statsmodels and sklearn)"
   ]
  },
  {
   "cell_type": "code",
   "execution_count": 20,
   "id": "c4bd9481-8ea9-4dc6-a955-53961a9a22b4",
   "metadata": {},
   "outputs": [
    {
     "name": "stdout",
     "output_type": "stream",
     "text": [
      "Sklean results\n",
      "coeffs are: [ 0.49125974 -0.03573812  0.12997837 -0.01577567]\n",
      "intercept is: 1.602907436027909e-05\n",
      "\n",
      "Statsmodels results\n",
      "parameters are\n",
      "const    0.000016\n",
      "x1       0.491260\n",
      "x2      -0.035738\n",
      "x3       0.129978\n",
      "x4      -0.015776\n",
      "dtype: float64\n",
      "p-values are\n",
      "const    9.952194e-01\n",
      "x1       9.073776e-10\n",
      "x2       3.382911e-01\n",
      "x3       1.062180e-01\n",
      "x4       4.171865e-01\n",
      "dtype: float64\n",
      "t-stats are\n",
      "const    0.006009\n",
      "x1       6.853497\n",
      "x2      -0.962731\n",
      "x3       1.631976\n",
      "x4      -0.815108\n",
      "dtype: float64\n",
      "rsquared are\n",
      "0.3719363527385515\n",
      "sum of residual squared is 0.0006458059080833557\n",
      "                            OLS Regression Results                            \n",
      "==============================================================================\n",
      "Dep. Variable:                      y   R-squared:                       0.372\n",
      "Model:                            OLS   Adj. R-squared:                  0.344\n",
      "Method:                 Least Squares   F-statistic:                     13.18\n",
      "Date:                Tue, 12 Dec 2023   Prob (F-statistic):           1.80e-08\n",
      "Time:                        13:26:03   Log-Likelihood:                 214.40\n",
      "No. Observations:                  94   AIC:                            -418.8\n",
      "Df Residuals:                      89   BIC:                            -406.1\n",
      "Df Model:                           4                                         \n",
      "Covariance Type:            nonrobust                                         \n",
      "==============================================================================\n",
      "                 coef    std err          t      P>|t|      [0.025      0.975]\n",
      "------------------------------------------------------------------------------\n",
      "const       1.603e-05      0.003      0.006      0.995      -0.005       0.005\n",
      "x1             0.4913      0.072      6.853      0.000       0.349       0.634\n",
      "x2            -0.0357      0.037     -0.963      0.338      -0.109       0.038\n",
      "x3             0.1300      0.080      1.632      0.106      -0.028       0.288\n",
      "x4            -0.0158      0.019     -0.815      0.417      -0.054       0.023\n",
      "==============================================================================\n",
      "Omnibus:                        0.971   Durbin-Watson:                   1.815\n",
      "Prob(Omnibus):                  0.616   Jarque-Bera (JB):                0.474\n",
      "Skew:                          -0.023   Prob(JB):                        0.789\n",
      "Kurtosis:                       3.345   Cond. No.                         30.8\n",
      "==============================================================================\n",
      "\n",
      "Notes:\n",
      "[1] Standard Errors assume that the covariance matrix of the errors is correctly specified.\n"
     ]
    },
    {
     "data": {
      "text/plain": [
       "array([-0.00686781])"
      ]
     },
     "execution_count": 20,
     "metadata": {},
     "output_type": "execute_result"
    }
   ],
   "source": [
    "# linear regression (coefficients, p-value/t-stats, ANOVA)\n",
    "\n",
    "# raw data\n",
    "ret=px.iloc[::5,:5].fillna(0).pct_change().fillna(0)\n",
    "ret.columns=['y','x1','x2','x3','x4']\n",
    "y='y'\n",
    "xs=ret.columns.drop(y).tolist()\n",
    "\n",
    "\n",
    "# using sklearn + statsmodels\n",
    "from sklearn.linear_model import LinearRegression\n",
    "lm=LinearRegression()\n",
    "lm.fit(ret[xs],ret[y])\n",
    "\n",
    "print ('Sklean results')\n",
    "print ('coeffs are: %s' % (lm.coef_))\n",
    "print ('intercept is: %s' % (lm.intercept_))\n",
    "\n",
    "# using statsmodels\n",
    "import statsmodels.api as sm\n",
    "Xs=sm.add_constant(ret[xs])\n",
    "model=sm.OLS(ret[y],Xs)\n",
    "results=model.fit()\n",
    "\n",
    "print ('\\nStatsmodels results')\n",
    "print ('parameters are\\n%s' % (results.params))\n",
    "print ('p-values are\\n%s' % (results.pvalues))\n",
    "print ('t-stats are\\n%s' % (results.tvalues))\n",
    "print ('rsquared are\\n%s' % (results.rsquared)) # can also do results.ess/(results.ssr+results.ess) ess is explained sum of squared\n",
    "print ('sum of residual squared is %s' % (results.mse_resid))\n",
    "\n",
    "print(results.summary())\n",
    "results.predict([Xs.iloc[10,:]])"
   ]
  },
  {
   "cell_type": "code",
   "execution_count": 21,
   "id": "7135594a-a05d-498d-893e-5751dc887f39",
   "metadata": {},
   "outputs": [
    {
     "data": {
      "text/plain": [
       "const    0.000016\n",
       "x1       0.491260\n",
       "x2      -0.035738\n",
       "x3       0.129978\n",
       "x4      -0.015776\n",
       "dtype: float64"
      ]
     },
     "execution_count": 21,
     "metadata": {},
     "output_type": "execute_result"
    }
   ],
   "source": [
    "sm.OLS(ret[y],Xs).fit().params"
   ]
  },
  {
   "cell_type": "code",
   "execution_count": null,
   "id": "6049efc3-9cb7-4abb-b002-4d1faf1bc84b",
   "metadata": {},
   "outputs": [],
   "source": []
  },
  {
   "cell_type": "markdown",
   "id": "c6c2d1c3-55b0-45c6-97f1-0f7d73490a8d",
   "metadata": {},
   "source": [
    "# - code the linear regression yourself\n",
    "- just for parameters"
   ]
  },
  {
   "cell_type": "code",
   "execution_count": 22,
   "id": "2defe38b-ab36-4063-a38a-e0d0e46ee7ae",
   "metadata": {},
   "outputs": [],
   "source": [
    "ret=px.iloc[::5,:5].fillna(0).pct_change().fillna(0)\n",
    "ret.columns=['y','x1','x2','x3','x4']\n",
    "ret['const']=1\n",
    "\n",
    "Xs=ret.drop('y',1)\n",
    "y=ret['y']\n",
    "\n",
    "from numpy.linalg import inv\n",
    "\n",
    "params=inv(Xs.T @ Xs) @ Xs.T @ y"
   ]
  },
  {
   "cell_type": "code",
   "execution_count": null,
   "id": "b8d1595a-13b3-4a03-8cb5-f705579201c7",
   "metadata": {},
   "outputs": [],
   "source": [
    "# for weighted operation you can do the below adjustment\n",
    "\n",
    "# # Calculate weighted design matrix\n",
    "# Xw = X @ W\n",
    "\n",
    "# # Calculate weighted target variable\n",
    "# yw = y * weights"
   ]
  },
  {
   "cell_type": "code",
   "execution_count": 23,
   "id": "a2202bde-30d9-484d-9459-96c22028fb19",
   "metadata": {},
   "outputs": [
    {
     "data": {
      "text/plain": [
       "0    0.491260\n",
       "1   -0.035738\n",
       "2    0.129978\n",
       "3   -0.015776\n",
       "4    0.000016\n",
       "dtype: float64"
      ]
     },
     "execution_count": 23,
     "metadata": {},
     "output_type": "execute_result"
    }
   ],
   "source": [
    "params"
   ]
  },
  {
   "cell_type": "code",
   "execution_count": null,
   "id": "c5513478-606e-470b-af5f-b03f77b06497",
   "metadata": {},
   "outputs": [],
   "source": []
  },
  {
   "cell_type": "markdown",
   "id": "77157f4c-bbe4-4a89-b739-68efe6332734",
   "metadata": {},
   "source": [
    "# - attribution analysis"
   ]
  },
  {
   "cell_type": "code",
   "execution_count": 2,
   "id": "cbbb30f5-0135-4e3c-9935-8bf1128f2d9e",
   "metadata": {},
   "outputs": [
    {
     "data": {
      "text/plain": [
       "'\\nX factor exposure of individual stock (n x m)\\nP portfolio with weight (n x 1)\\nF_var cov of factor (m x m)\\nD specific risk diagonal (n x n)\\n\\nbeta=X.T @ P (m x 1)\\nCTC=beta * (beta.T @ F_var).T (m x 1) (CTC is contribution to covariance)\\nCTC[specific]= P.T @ D @ P\\n\\n\\nFor cov of individual stocks\\nCov = X @ F_var @ X.T + D (n x n)\\n\\nFor cov of portfolio of stocks (weighted)\\nP_d=np.diag(P)\\nCov_P=P_d @ Cov @ P_d\\n\\n\\nSum of CTC is equal to the sum of COV\\n'"
      ]
     },
     "execution_count": 2,
     "metadata": {},
     "output_type": "execute_result"
    }
   ],
   "source": [
    "# Portfolio risk\n",
    "'''\n",
    "X factor exposure of individual stock (n x m)\n",
    "P portfolio with weight (n x 1)\n",
    "F_var cov of factor (m x m)\n",
    "D specific risk diagonal (n x n)\n",
    "\n",
    "beta=X.T @ P (m x 1)\n",
    "CTC=beta * (beta.T @ F_var).T (m x 1) (CTC is contribution to covariance)\n",
    "CTC[specific]= P.T @ D @ P\n",
    "\n",
    "\n",
    "For cov of individual stocks\n",
    "Cov = X @ F_var @ X.T + D (n x n)\n",
    "\n",
    "For cov of portfolio of stocks (weighted)\n",
    "P_d=np.diag(P)\n",
    "Cov_P=P_d @ Cov @ P_d\n",
    "\n",
    "\n",
    "Sum of CTC is equal to the sum of COV\n",
    "'''"
   ]
  },
  {
   "cell_type": "code",
   "execution_count": 47,
   "id": "6403b281-0575-4d39-b9fd-13ef9ae48a39",
   "metadata": {},
   "outputs": [],
   "source": [
    "# assuming 3 stocks and 2 factors\n",
    "\n",
    "X=np.array([[0.9,0.8],[0.5,-0.2],[-1.3,0.2]])\n",
    "P=np.array([0.3,0.4,0.3])\n",
    "F_var=np.array([[0.25,0.3],[0.3,0.68]])\n",
    "D=np.diag(np.array([0.24,0.25,0.32]))\n",
    "\n",
    "# CTC approach\n",
    "beta=X.T @ P #(m x 1)\n",
    "CTC=beta * (beta.T @ F_var).T #(m x 1)\n",
    "CTC_specific= P.T @ D @ P\n",
    "var_total=np.array(list(CTC)+[CTC_specific])\n",
    "\n",
    "# weighted portfolio approach\n",
    "Cov = X @ F_var @ X.T + D #(n x n)\n",
    "P_d=np.diag(P)\n",
    "Cov_P=P_d @ Cov @ P_d"
   ]
  },
  {
   "cell_type": "code",
   "execution_count": 48,
   "id": "c8a00fde-2e81-4c2d-9a95-87b2e50ce13c",
   "metadata": {},
   "outputs": [
    {
     "data": {
      "text/plain": [
       "0.135472"
      ]
     },
     "execution_count": 48,
     "metadata": {},
     "output_type": "execute_result"
    }
   ],
   "source": [
    "var_total.sum()"
   ]
  },
  {
   "cell_type": "code",
   "execution_count": 49,
   "id": "820d3290-2735-4827-b555-99d46e0a1b84",
   "metadata": {},
   "outputs": [
    {
     "data": {
      "text/plain": [
       "0.135472"
      ]
     },
     "execution_count": 49,
     "metadata": {},
     "output_type": "execute_result"
    }
   ],
   "source": [
    "Cov_P.sum().sum()"
   ]
  },
  {
   "cell_type": "code",
   "execution_count": null,
   "id": "4a2446b7-29f4-4e85-9d93-2a9a1450c830",
   "metadata": {},
   "outputs": [],
   "source": []
  },
  {
   "cell_type": "code",
   "execution_count": null,
   "id": "0c4e10ba-18fa-452c-a193-c31a76d36626",
   "metadata": {},
   "outputs": [],
   "source": []
  },
  {
   "cell_type": "markdown",
   "id": "642b208b-4017-4133-8d65-3341daf5a422",
   "metadata": {},
   "source": [
    "# - pyportfolio optimization\n",
    "everything centered around EfficientFrontier, I won't be coding any solver, I'll give up is I'm asked such questions"
   ]
  },
  {
   "cell_type": "code",
   "execution_count": 25,
   "id": "8d1bcc4c-d075-4885-a27a-aed61f4f79cf",
   "metadata": {},
   "outputs": [
    {
     "ename": "ImportError",
     "evalue": "cannot import name 'constraints' from 'pypfopt' (C:\\Users\\davehanzhang\\Anaconda3\\lib\\site-packages\\pypfopt\\__init__.py)",
     "output_type": "error",
     "traceback": [
      "\u001b[1;31m---------------------------------------------------------------------------\u001b[0m",
      "\u001b[1;31mImportError\u001b[0m                               Traceback (most recent call last)",
      "\u001b[1;32mC:\\Users\\DAVEHA~1\\AppData\\Local\\Temp/ipykernel_244972/602279885.py\u001b[0m in \u001b[0;36m<module>\u001b[1;34m\u001b[0m\n\u001b[0;32m      3\u001b[0m \u001b[1;33m\u001b[0m\u001b[0m\n\u001b[0;32m      4\u001b[0m \u001b[1;32mfrom\u001b[0m \u001b[0mpypfopt\u001b[0m \u001b[1;32mimport\u001b[0m \u001b[0mEfficientFrontier\u001b[0m\u001b[1;33m\u001b[0m\u001b[0m\n\u001b[1;32m----> 5\u001b[1;33m \u001b[1;32mfrom\u001b[0m \u001b[0mpypfopt\u001b[0m \u001b[1;32mimport\u001b[0m \u001b[0mconstraints\u001b[0m\u001b[1;33m\u001b[0m\u001b[0m\n\u001b[0m",
      "\u001b[1;31mImportError\u001b[0m: cannot import name 'constraints' from 'pypfopt' (C:\\Users\\davehanzhang\\Anaconda3\\lib\\site-packages\\pypfopt\\__init__.py)"
     ]
    }
   ],
   "source": [
    "import pypfopt\n",
    "pypfopt.__version__\n",
    "\n",
    "from pypfopt import EfficientFrontier\n",
    "from pypfopt import constraints"
   ]
  },
  {
   "cell_type": "code",
   "execution_count": null,
   "id": "11aa856e-e1d8-4937-a659-2d50a98e627d",
   "metadata": {},
   "outputs": [],
   "source": [
    "# simple version\n",
    "EfficientFrontier(mu, cov)\n",
    "EfficientFrontier.min_volatility()\n",
    "\n",
    "# then you can add some constraints to formulate your objective"
   ]
  },
  {
   "cell_type": "code",
   "execution_count": null,
   "id": "85a9b674-b77e-4bea-a4dc-5f3abf3d7dae",
   "metadata": {},
   "outputs": [],
   "source": []
  },
  {
   "cell_type": "markdown",
   "id": "9886b44d-95a5-41e9-ab1c-7c7c75bcfa9c",
   "metadata": {},
   "source": [
    "# risk model estimation (ex-ante, naive)\n",
    "- define factor\n",
    "- estimate factor cov and beta\n",
    "- how to estimate stock specific risk matrix??? seems to be the variance of excess return\n",
    "    - per GPT\n",
    "    - In risk models like Axioma or Barra, the idiosyncratic risk matrix is typically estimated using statistical methods. One common approach is to measure the idiosyncratic volatility as the residual standard error from a time-series regression of periodic excess stock returns on the returns of a factor model3. This method essentially isolates the component of the stock’s return that cannot be explained by the common factors in the model, which is considered the idiosyncratic risk."
   ]
  },
  {
   "cell_type": "code",
   "execution_count": null,
   "id": "9fab76b0-3e3a-4c2d-83cc-6b350bff341a",
   "metadata": {},
   "outputs": [],
   "source": []
  },
  {
   "cell_type": "code",
   "execution_count": null,
   "id": "ee8e0fd0-da44-4641-955c-a11dfad46858",
   "metadata": {},
   "outputs": [],
   "source": []
  },
  {
   "cell_type": "markdown",
   "id": "1553193b-efd8-4858-94ff-faa832687f55",
   "metadata": {},
   "source": [
    "# pandas operation\n",
    "- qcut\n",
    "- groupby\n",
    "- rolling\n",
    "    - rolling & apply: need to make sure the fucntion returns a scalar\n",
    "- transform (works better with groupby and maintains the index with the original database (well-aligned))\n",
    "- operation alone row/column\n",
    "- stack/unstack\n",
    "- join, concat (how='left','right','outer','inner')\n",
    "- datetime (resample, offset)\n",
    "- sort\n",
    "- find out the nlargest: nlargest"
   ]
  },
  {
   "cell_type": "code",
   "execution_count": 32,
   "id": "1daff0fe-c0af-4543-9242-499600520e63",
   "metadata": {},
   "outputs": [],
   "source": [
    "# do qcut based on price level\n",
    "Qs=10\n",
    "px_q=px.stack().rename('px').reset_index()\n",
    "px_q['Q']=px_q.groupby(['date'])['px'].apply(lambda x: pd.qcut(x,Qs,labels=['Q%s' %(i+1) for i in np.arange(0,Qs,1)]))"
   ]
  },
  {
   "cell_type": "code",
   "execution_count": 33,
   "id": "242a344f-8182-46ea-8b90-5a5663d28a11",
   "metadata": {},
   "outputs": [
    {
     "data": {
      "text/plain": [
       "date        Q  \n",
       "2022-01-03  Q1      0.057873\n",
       "            Q2      0.143840\n",
       "            Q3      0.252663\n",
       "            Q4      0.418688\n",
       "            Q5      0.726917\n",
       "                     ...    \n",
       "2023-11-23  Q6      1.627083\n",
       "            Q7      3.020060\n",
       "            Q8      5.324994\n",
       "            Q9     10.415838\n",
       "            Q10    60.898631\n",
       "Name: px, Length: 4660, dtype: float64"
      ]
     },
     "execution_count": 33,
     "metadata": {},
     "output_type": "execute_result"
    }
   ],
   "source": [
    "px_q.groupby(['date','Q'])['px'].apply(lambda x: x.mean())"
   ]
  },
  {
   "cell_type": "code",
   "execution_count": 34,
   "id": "d6d64efc-9c74-41cf-b5c3-8034829b0df3",
   "metadata": {},
   "outputs": [
    {
     "data": {
      "text/plain": [
       "0          66.331713\n",
       "1          66.331713\n",
       "2           0.726917\n",
       "3           0.418688\n",
       "4           0.143840\n",
       "             ...    \n",
       "1201831    60.898631\n",
       "1201832     3.020060\n",
       "1201833    60.898631\n",
       "1201834    10.415838\n",
       "1201835    10.415838\n",
       "Name: px, Length: 1201836, dtype: float64"
      ]
     },
     "execution_count": 34,
     "metadata": {},
     "output_type": "execute_result"
    }
   ],
   "source": [
    "px_q.groupby(['date','Q'])['px'].transform(lambda x: x.mean())"
   ]
  },
  {
   "cell_type": "code",
   "execution_count": 35,
   "id": "344dea00-ab19-410e-b52f-e014e5c4a33b",
   "metadata": {},
   "outputs": [
    {
     "data": {
      "text/html": [
       "<div>\n",
       "<style scoped>\n",
       "    .dataframe tbody tr th:only-of-type {\n",
       "        vertical-align: middle;\n",
       "    }\n",
       "\n",
       "    .dataframe tbody tr th {\n",
       "        vertical-align: top;\n",
       "    }\n",
       "\n",
       "    .dataframe thead th {\n",
       "        text-align: right;\n",
       "    }\n",
       "</style>\n",
       "<table border=\"1\" class=\"dataframe\">\n",
       "  <thead>\n",
       "    <tr style=\"text-align: right;\">\n",
       "      <th>ticker</th>\n",
       "      <th>700 HK Equity</th>\n",
       "      <th>1 HK Equity</th>\n",
       "    </tr>\n",
       "    <tr>\n",
       "      <th>date</th>\n",
       "      <th></th>\n",
       "      <th></th>\n",
       "    </tr>\n",
       "  </thead>\n",
       "  <tbody>\n",
       "    <tr>\n",
       "      <th>2022-01-03</th>\n",
       "      <td>NaN</td>\n",
       "      <td>NaN</td>\n",
       "    </tr>\n",
       "    <tr>\n",
       "      <th>2022-01-04</th>\n",
       "      <td>NaN</td>\n",
       "      <td>NaN</td>\n",
       "    </tr>\n",
       "    <tr>\n",
       "      <th>2022-01-05</th>\n",
       "      <td>NaN</td>\n",
       "      <td>NaN</td>\n",
       "    </tr>\n",
       "    <tr>\n",
       "      <th>2022-01-06</th>\n",
       "      <td>NaN</td>\n",
       "      <td>NaN</td>\n",
       "    </tr>\n",
       "    <tr>\n",
       "      <th>2022-01-07</th>\n",
       "      <td>NaN</td>\n",
       "      <td>NaN</td>\n",
       "    </tr>\n",
       "    <tr>\n",
       "      <th>...</th>\n",
       "      <td>...</td>\n",
       "      <td>...</td>\n",
       "    </tr>\n",
       "    <tr>\n",
       "      <th>2023-11-17</th>\n",
       "      <td>0.80</td>\n",
       "      <td>0.32</td>\n",
       "    </tr>\n",
       "    <tr>\n",
       "      <th>2023-11-20</th>\n",
       "      <td>1.00</td>\n",
       "      <td>0.45</td>\n",
       "    </tr>\n",
       "    <tr>\n",
       "      <th>2023-11-21</th>\n",
       "      <td>0.97</td>\n",
       "      <td>0.48</td>\n",
       "    </tr>\n",
       "    <tr>\n",
       "      <th>2023-11-22</th>\n",
       "      <td>0.94</td>\n",
       "      <td>0.52</td>\n",
       "    </tr>\n",
       "    <tr>\n",
       "      <th>2023-11-23</th>\n",
       "      <td>1.00</td>\n",
       "      <td>0.67</td>\n",
       "    </tr>\n",
       "  </tbody>\n",
       "</table>\n",
       "<p>466 rows × 2 columns</p>\n",
       "</div>"
      ],
      "text/plain": [
       "ticker      700 HK Equity  1 HK Equity\n",
       "date                                  \n",
       "2022-01-03            NaN          NaN\n",
       "2022-01-04            NaN          NaN\n",
       "2022-01-05            NaN          NaN\n",
       "2022-01-06            NaN          NaN\n",
       "2022-01-07            NaN          NaN\n",
       "...                   ...          ...\n",
       "2023-11-17           0.80         0.32\n",
       "2023-11-20           1.00         0.45\n",
       "2023-11-21           0.97         0.48\n",
       "2023-11-22           0.94         0.52\n",
       "2023-11-23           1.00         0.67\n",
       "\n",
       "[466 rows x 2 columns]"
      ]
     },
     "execution_count": 35,
     "metadata": {},
     "output_type": "execute_result"
    }
   ],
   "source": [
    "# rolling rank is very slow\n",
    "px[['700 HK Equity','1 HK Equity']].fillna(method='ffill').rolling(50).apply(lambda x: x.rank(pct=True)[-1])"
   ]
  },
  {
   "cell_type": "code",
   "execution_count": null,
   "id": "9c8c9424-cbaa-455c-887a-8b3d27d163b2",
   "metadata": {},
   "outputs": [],
   "source": []
  },
  {
   "cell_type": "code",
   "execution_count": null,
   "id": "8016f633-4a9a-4550-ab7c-c7bc8de2c192",
   "metadata": {},
   "outputs": [],
   "source": []
  },
  {
   "cell_type": "markdown",
   "id": "60bb8b80-1d91-4984-9aac-ce2fddc04307",
   "metadata": {},
   "source": [
    "# datatable operation"
   ]
  },
  {
   "cell_type": "code",
   "execution_count": 36,
   "id": "1b6624f7-81aa-4295-ae67-b43397facace",
   "metadata": {},
   "outputs": [],
   "source": [
    "import datatable as dt\n",
    "from datatable import f,by,sort,shift,join,ifelse\n",
    "# f[:].expand({'':xxx})\n",
    "# dt.qcut\n",
    "# dt[:,:,sort()]\n",
    "# dt.key=['','']; dt[:,:,join()]\n",
    "# dt[:,f[''],by([])]\n",
    "# dt[:,f[:].extend(),by()]\n"
   ]
  },
  {
   "cell_type": "code",
   "execution_count": 37,
   "id": "58cca5b8-e032-480c-87f9-bf3a2d39cc94",
   "metadata": {},
   "outputs": [
    {
     "data": {
      "text/plain": [
       "FExpr<time.ymd(2023, 1, 1)>"
      ]
     },
     "execution_count": 37,
     "metadata": {},
     "output_type": "execute_result"
    }
   ],
   "source": [
    "dt.time.ymd(2023,1,1)"
   ]
  },
  {
   "cell_type": "code",
   "execution_count": null,
   "id": "7fa5548a-273e-4675-b80f-f5c70ba96226",
   "metadata": {},
   "outputs": [],
   "source": []
  },
  {
   "cell_type": "markdown",
   "id": "b7839e76-8613-4991-b284-7f504d6641a2",
   "metadata": {},
   "source": [
    "# plotting (don't spend too much time on it)\n",
    "- matplotlib basics\n",
    "- ploty"
   ]
  },
  {
   "cell_type": "code",
   "execution_count": 38,
   "id": "e32cc51d-b3b8-4444-8122-f3aea49fac31",
   "metadata": {},
   "outputs": [
    {
     "data": {
      "image/png": "[encoded data removed]",
      "text/plain": [
       "<Figure size 1440x360 with 6 Axes>"
      ]
     },
     "metadata": {
      "needs_background": "light"
     },
     "output_type": "display_data"
    }
   ],
   "source": [
    "import matplotlib.pyplot as plt\n",
    "fig, axes=plt.subplots(3,2,figsize=(20,5))\n",
    "# then you can use pandas to pass over charts"
   ]
  },
  {
   "cell_type": "code",
   "execution_count": 39,
   "id": "848a370d-39aa-4429-a022-0a651f51541b",
   "metadata": {},
   "outputs": [
    {
     "data": {
      "application/vnd.plotly.v1+json": {
       "config": {
        "plotlyServerURL": "https://plot.ly"
       },
       "data": [],
       "layout": {
        "autosize": true,
        "boxmode": "group",
        "legend": {
         "tracegroupgap": 0
        },
        "margin": {
         "t": 60
        },
        "template": {
         "data": {
          "bar": [
           {
            "error_x": {
             "color": "#2a3f5f"
            },
            "error_y": {
             "color": "#2a3f5f"
            },
            "marker": {
             "line": {
              "color": "#E5ECF6",
              "width": 0.5
             },
             "pattern": {
              "fillmode": "overlay",
              "size": 10,
              "solidity": 0.2
             }
            },
            "type": "bar"
           }
          ],
          "barpolar": [
           {
            "marker": {
             "line": {
              "color": "#E5ECF6",
              "width": 0.5
             },
             "pattern": {
              "fillmode": "overlay",
              "size": 10,
              "solidity": 0.2
             }
            },
            "type": "barpolar"
           }
          ],
          "carpet": [
           {
            "aaxis": {
             "endlinecolor": "#2a3f5f",
             "gridcolor": "white",
             "linecolor": "white",
             "minorgridcolor": "white",
             "startlinecolor": "#2a3f5f"
            },
            "baxis": {
             "endlinecolor": "#2a3f5f",
             "gridcolor": "white",
             "linecolor": "white",
             "minorgridcolor": "white",
             "startlinecolor": "#2a3f5f"
            },
            "type": "carpet"
           }
          ],
          "choropleth": [
           {
            "colorbar": {
             "outlinewidth": 0,
             "ticks": ""
            },
            "type": "choropleth"
           }
          ],
          "contour": [
           {
            "colorbar": {
             "outlinewidth": 0,
             "ticks": ""
            },
            "colorscale": [
             [
              0,
              "#0d0887"
             ],
             [
              0.1111111111111111,
              "#46039f"
             ],
             [
              0.2222222222222222,
              "#7201a8"
             ],
             [
              0.3333333333333333,
              "#9c179e"
             ],
             [
              0.4444444444444444,
              "#bd3786"
             ],
             [
              0.5555555555555556,
              "#d8576b"
             ],
             [
              0.6666666666666666,
              "#ed7953"
             ],
             [
              0.7777777777777778,
              "#fb9f3a"
             ],
             [
              0.8888888888888888,
              "#fdca26"
             ],
             [
              1,
              "#f0f921"
             ]
            ],
            "type": "contour"
           }
          ],
          "contourcarpet": [
           {
            "colorbar": {
             "outlinewidth": 0,
             "ticks": ""
            },
            "type": "contourcarpet"
           }
          ],
          "heatmap": [
           {
            "colorbar": {
             "outlinewidth": 0,
             "ticks": ""
            },
            "colorscale": [
             [
              0,
              "#0d0887"
             ],
             [
              0.1111111111111111,
              "#46039f"
             ],
             [
              0.2222222222222222,
              "#7201a8"
             ],
             [
              0.3333333333333333,
              "#9c179e"
             ],
             [
              0.4444444444444444,
              "#bd3786"
             ],
             [
              0.5555555555555556,
              "#d8576b"
             ],
             [
              0.6666666666666666,
              "#ed7953"
             ],
             [
              0.7777777777777778,
              "#fb9f3a"
             ],
             [
              0.8888888888888888,
              "#fdca26"
             ],
             [
              1,
              "#f0f921"
             ]
            ],
            "type": "heatmap"
           }
          ],
          "heatmapgl": [
           {
            "colorbar": {
             "outlinewidth": 0,
             "ticks": ""
            },
            "colorscale": [
             [
              0,
              "#0d0887"
             ],
             [
              0.1111111111111111,
              "#46039f"
             ],
             [
              0.2222222222222222,
              "#7201a8"
             ],
             [
              0.3333333333333333,
              "#9c179e"
             ],
             [
              0.4444444444444444,
              "#bd3786"
             ],
             [
              0.5555555555555556,
              "#d8576b"
             ],
             [
              0.6666666666666666,
              "#ed7953"
             ],
             [
              0.7777777777777778,
              "#fb9f3a"
             ],
             [
              0.8888888888888888,
              "#fdca26"
             ],
             [
              1,
              "#f0f921"
             ]
            ],
            "type": "heatmapgl"
           }
          ],
          "histogram": [
           {
            "marker": {
             "pattern": {
              "fillmode": "overlay",
              "size": 10,
              "solidity": 0.2
             }
            },
            "type": "histogram"
           }
          ],
          "histogram2d": [
           {
            "colorbar": {
             "outlinewidth": 0,
             "ticks": ""
            },
            "colorscale": [
             [
              0,
              "#0d0887"
             ],
             [
              0.1111111111111111,
              "#46039f"
             ],
             [
              0.2222222222222222,
              "#7201a8"
             ],
             [
              0.3333333333333333,
              "#9c179e"
             ],
             [
              0.4444444444444444,
              "#bd3786"
             ],
             [
              0.5555555555555556,
              "#d8576b"
             ],
             [
              0.6666666666666666,
              "#ed7953"
             ],
             [
              0.7777777777777778,
              "#fb9f3a"
             ],
             [
              0.8888888888888888,
              "#fdca26"
             ],
             [
              1,
              "#f0f921"
             ]
            ],
            "type": "histogram2d"
           }
          ],
          "histogram2dcontour": [
           {
            "colorbar": {
             "outlinewidth": 0,
             "ticks": ""
            },
            "colorscale": [
             [
              0,
              "#0d0887"
             ],
             [
              0.1111111111111111,
              "#46039f"
             ],
             [
              0.2222222222222222,
              "#7201a8"
             ],
             [
              0.3333333333333333,
              "#9c179e"
             ],
             [
              0.4444444444444444,
              "#bd3786"
             ],
             [
              0.5555555555555556,
              "#d8576b"
             ],
             [
              0.6666666666666666,
              "#ed7953"
             ],
             [
              0.7777777777777778,
              "#fb9f3a"
             ],
             [
              0.8888888888888888,
              "#fdca26"
             ],
             [
              1,
              "#f0f921"
             ]
            ],
            "type": "histogram2dcontour"
           }
          ],
          "mesh3d": [
           {
            "colorbar": {
             "outlinewidth": 0,
             "ticks": ""
            },
            "type": "mesh3d"
           }
          ],
          "parcoords": [
           {
            "line": {
             "colorbar": {
              "outlinewidth": 0,
              "ticks": ""
             }
            },
            "type": "parcoords"
           }
          ],
          "pie": [
           {
            "automargin": true,
            "type": "pie"
           }
          ],
          "scatter": [
           {
            "marker": {
             "colorbar": {
              "outlinewidth": 0,
              "ticks": ""
             }
            },
            "type": "scatter"
           }
          ],
          "scatter3d": [
           {
            "line": {
             "colorbar": {
              "outlinewidth": 0,
              "ticks": ""
             }
            },
            "marker": {
             "colorbar": {
              "outlinewidth": 0,
              "ticks": ""
             }
            },
            "type": "scatter3d"
           }
          ],
          "scattercarpet": [
           {
            "marker": {
             "colorbar": {
              "outlinewidth": 0,
              "ticks": ""
             }
            },
            "type": "scattercarpet"
           }
          ],
          "scattergeo": [
           {
            "marker": {
             "colorbar": {
              "outlinewidth": 0,
              "ticks": ""
             }
            },
            "type": "scattergeo"
           }
          ],
          "scattergl": [
           {
            "marker": {
             "colorbar": {
              "outlinewidth": 0,
              "ticks": ""
             }
            },
            "type": "scattergl"
           }
          ],
          "scattermapbox": [
           {
            "marker": {
             "colorbar": {
              "outlinewidth": 0,
              "ticks": ""
             }
            },
            "type": "scattermapbox"
           }
          ],
          "scatterpolar": [
           {
            "marker": {
             "colorbar": {
              "outlinewidth": 0,
              "ticks": ""
             }
            },
            "type": "scatterpolar"
           }
          ],
          "scatterpolargl": [
           {
            "marker": {
             "colorbar": {
              "outlinewidth": 0,
              "ticks": ""
             }
            },
            "type": "scatterpolargl"
           }
          ],
          "scatterternary": [
           {
            "marker": {
             "colorbar": {
              "outlinewidth": 0,
              "ticks": ""
             }
            },
            "type": "scatterternary"
           }
          ],
          "surface": [
           {
            "colorbar": {
             "outlinewidth": 0,
             "ticks": ""
            },
            "colorscale": [
             [
              0,
              "#0d0887"
             ],
             [
              0.1111111111111111,
              "#46039f"
             ],
             [
              0.2222222222222222,
              "#7201a8"
             ],
             [
              0.3333333333333333,
              "#9c179e"
             ],
             [
              0.4444444444444444,
              "#bd3786"
             ],
             [
              0.5555555555555556,
              "#d8576b"
             ],
             [
              0.6666666666666666,
              "#ed7953"
             ],
             [
              0.7777777777777778,
              "#fb9f3a"
             ],
             [
              0.8888888888888888,
              "#fdca26"
             ],
             [
              1,
              "#f0f921"
             ]
            ],
            "type": "surface"
           }
          ],
          "table": [
           {
            "cells": {
             "fill": {
              "color": "#EBF0F8"
             },
             "line": {
              "color": "white"
             }
            },
            "header": {
             "fill": {
              "color": "#C8D4E3"
             },
             "line": {
              "color": "white"
             }
            },
            "type": "table"
           }
          ]
         },
         "layout": {
          "annotationdefaults": {
           "arrowcolor": "#2a3f5f",
           "arrowhead": 0,
           "arrowwidth": 1
          },
          "autotypenumbers": "strict",
          "coloraxis": {
           "colorbar": {
            "outlinewidth": 0,
            "ticks": ""
           }
          },
          "colorscale": {
           "diverging": [
            [
             0,
             "#8e0152"
            ],
            [
             0.1,
             "#c51b7d"
            ],
            [
             0.2,
             "#de77ae"
            ],
            [
             0.3,
             "#f1b6da"
            ],
            [
             0.4,
             "#fde0ef"
            ],
            [
             0.5,
             "#f7f7f7"
            ],
            [
             0.6,
             "#e6f5d0"
            ],
            [
             0.7,
             "#b8e186"
            ],
            [
             0.8,
             "#7fbc41"
            ],
            [
             0.9,
             "#4d9221"
            ],
            [
             1,
             "#276419"
            ]
           ],
           "sequential": [
            [
             0,
             "#0d0887"
            ],
            [
             0.1111111111111111,
             "#46039f"
            ],
            [
             0.2222222222222222,
             "#7201a8"
            ],
            [
             0.3333333333333333,
             "#9c179e"
            ],
            [
             0.4444444444444444,
             "#bd3786"
            ],
            [
             0.5555555555555556,
             "#d8576b"
            ],
            [
             0.6666666666666666,
             "#ed7953"
            ],
            [
             0.7777777777777778,
             "#fb9f3a"
            ],
            [
             0.8888888888888888,
             "#fdca26"
            ],
            [
             1,
             "#f0f921"
            ]
           ],
           "sequentialminus": [
            [
             0,
             "#0d0887"
            ],
            [
             0.1111111111111111,
             "#46039f"
            ],
            [
             0.2222222222222222,
             "#7201a8"
            ],
            [
             0.3333333333333333,
             "#9c179e"
            ],
            [
             0.4444444444444444,
             "#bd3786"
            ],
            [
             0.5555555555555556,
             "#d8576b"
            ],
            [
             0.6666666666666666,
             "#ed7953"
            ],
            [
             0.7777777777777778,
             "#fb9f3a"
            ],
            [
             0.8888888888888888,
             "#fdca26"
            ],
            [
             1,
             "#f0f921"
            ]
           ]
          },
          "colorway": [
           "#636efa",
           "#EF553B",
           "#00cc96",
           "#ab63fa",
           "#FFA15A",
           "#19d3f3",
           "#FF6692",
           "#B6E880",
           "#FF97FF",
           "#FECB52"
          ],
          "font": {
           "color": "#2a3f5f"
          },
          "geo": {
           "bgcolor": "white",
           "lakecolor": "white",
           "landcolor": "#E5ECF6",
           "showlakes": true,
           "showland": true,
           "subunitcolor": "white"
          },
          "hoverlabel": {
           "align": "left"
          },
          "hovermode": "closest",
          "mapbox": {
           "style": "light"
          },
          "paper_bgcolor": "white",
          "plot_bgcolor": "#E5ECF6",
          "polar": {
           "angularaxis": {
            "gridcolor": "white",
            "linecolor": "white",
            "ticks": ""
           },
           "bgcolor": "#E5ECF6",
           "radialaxis": {
            "gridcolor": "white",
            "linecolor": "white",
            "ticks": ""
           }
          },
          "scene": {
           "xaxis": {
            "backgroundcolor": "#E5ECF6",
            "gridcolor": "white",
            "gridwidth": 2,
            "linecolor": "white",
            "showbackground": true,
            "ticks": "",
            "zerolinecolor": "white"
           },
           "yaxis": {
            "backgroundcolor": "#E5ECF6",
            "gridcolor": "white",
            "gridwidth": 2,
            "linecolor": "white",
            "showbackground": true,
            "ticks": "",
            "zerolinecolor": "white"
           },
           "zaxis": {
            "backgroundcolor": "#E5ECF6",
            "gridcolor": "white",
            "gridwidth": 2,
            "linecolor": "white",
            "showbackground": true,
            "ticks": "",
            "zerolinecolor": "white"
           }
          },
          "shapedefaults": {
           "line": {
            "color": "#2a3f5f"
           }
          },
          "ternary": {
           "aaxis": {
            "gridcolor": "white",
            "linecolor": "white",
            "ticks": ""
           },
           "baxis": {
            "gridcolor": "white",
            "linecolor": "white",
            "ticks": ""
           },
           "bgcolor": "#E5ECF6",
           "caxis": {
            "gridcolor": "white",
            "linecolor": "white",
            "ticks": ""
           }
          },
          "title": {
           "x": 0.05
          },
          "xaxis": {
           "automargin": true,
           "gridcolor": "white",
           "linecolor": "white",
           "ticks": "",
           "title": {
            "standoff": 15
           },
           "zerolinecolor": "white",
           "zerolinewidth": 2
          },
          "yaxis": {
           "automargin": true,
           "gridcolor": "white",
           "linecolor": "white",
           "ticks": "",
           "title": {
            "standoff": 15
           },
           "zerolinecolor": "white",
           "zerolinewidth": 2
          }
         }
        },
        "xaxis": {
         "anchor": "y",
         "autorange": true,
         "domain": [
          0,
          1
         ],
         "range": [
          -1,
          6
         ]
        },
        "yaxis": {
         "anchor": "x",
         "autorange": true,
         "domain": [
          0,
          1
         ],
         "range": [
          -1,
          4
         ]
        }
       }
      },
      "image/png": "[encoded data removed]",
      "text/html": [
       "<div>                            <div id=\"781f5a96-e460-4436-815b-03f09224c6eb\" class=\"plotly-graph-div\" style=\"height:525px; width:100%;\"></div>            <script type=\"text/javascript\">                require([\"plotly\"], function(Plotly) {                    window.PLOTLYENV=window.PLOTLYENV || {};                                    if (document.getElementById(\"781f5a96-e460-4436-815b-03f09224c6eb\")) {                    Plotly.newPlot(                        \"781f5a96-e460-4436-815b-03f09224c6eb\",                        [],                        {\"boxmode\":\"group\",\"legend\":{\"tracegroupgap\":0},\"margin\":{\"t\":60},\"template\":{\"data\":{\"bar\":[{\"error_x\":{\"color\":\"#2a3f5f\"},\"error_y\":{\"color\":\"#2a3f5f\"},\"marker\":{\"line\":{\"color\":\"#E5ECF6\",\"width\":0.5},\"pattern\":{\"fillmode\":\"overlay\",\"size\":10,\"solidity\":0.2}},\"type\":\"bar\"}],\"barpolar\":[{\"marker\":{\"line\":{\"color\":\"#E5ECF6\",\"width\":0.5},\"pattern\":{\"fillmode\":\"overlay\",\"size\":10,\"solidity\":0.2}},\"type\":\"barpolar\"}],\"carpet\":[{\"aaxis\":{\"endlinecolor\":\"#2a3f5f\",\"gridcolor\":\"white\",\"linecolor\":\"white\",\"minorgridcolor\":\"white\",\"startlinecolor\":\"#2a3f5f\"},\"baxis\":{\"endlinecolor\":\"#2a3f5f\",\"gridcolor\":\"white\",\"linecolor\":\"white\",\"minorgridcolor\":\"white\",\"startlinecolor\":\"#2a3f5f\"},\"type\":\"carpet\"}],\"choropleth\":[{\"colorbar\":{\"outlinewidth\":0,\"ticks\":\"\"},\"type\":\"choropleth\"}],\"contour\":[{\"colorbar\":{\"outlinewidth\":0,\"ticks\":\"\"},\"colorscale\":[[0.0,\"#0d0887\"],[0.1111111111111111,\"#46039f\"],[0.2222222222222222,\"#7201a8\"],[0.3333333333333333,\"#9c179e\"],[0.4444444444444444,\"#bd3786\"],[0.5555555555555556,\"#d8576b\"],[0.6666666666666666,\"#ed7953\"],[0.7777777777777778,\"#fb9f3a\"],[0.8888888888888888,\"#fdca26\"],[1.0,\"#f0f921\"]],\"type\":\"contour\"}],\"contourcarpet\":[{\"colorbar\":{\"outlinewidth\":0,\"ticks\":\"\"},\"type\":\"contourcarpet\"}],\"heatmap\":[{\"colorbar\":{\"outlinewidth\":0,\"ticks\":\"\"},\"colorscale\":[[0.0,\"#0d0887\"],[0.1111111111111111,\"#46039f\"],[0.2222222222222222,\"#7201a8\"],[0.3333333333333333,\"#9c179e\"],[0.4444444444444444,\"#bd3786\"],[0.5555555555555556,\"#d8576b\"],[0.6666666666666666,\"#ed7953\"],[0.7777777777777778,\"#fb9f3a\"],[0.8888888888888888,\"#fdca26\"],[1.0,\"#f0f921\"]],\"type\":\"heatmap\"}],\"heatmapgl\":[{\"colorbar\":{\"outlinewidth\":0,\"ticks\":\"\"},\"colorscale\":[[0.0,\"#0d0887\"],[0.1111111111111111,\"#46039f\"],[0.2222222222222222,\"#7201a8\"],[0.3333333333333333,\"#9c179e\"],[0.4444444444444444,\"#bd3786\"],[0.5555555555555556,\"#d8576b\"],[0.6666666666666666,\"#ed7953\"],[0.7777777777777778,\"#fb9f3a\"],[0.8888888888888888,\"#fdca26\"],[1.0,\"#f0f921\"]],\"type\":\"heatmapgl\"}],\"histogram\":[{\"marker\":{\"pattern\":{\"fillmode\":\"overlay\",\"size\":10,\"solidity\":0.2}},\"type\":\"histogram\"}],\"histogram2d\":[{\"colorbar\":{\"outlinewidth\":0,\"ticks\":\"\"},\"colorscale\":[[0.0,\"#0d0887\"],[0.1111111111111111,\"#46039f\"],[0.2222222222222222,\"#7201a8\"],[0.3333333333333333,\"#9c179e\"],[0.4444444444444444,\"#bd3786\"],[0.5555555555555556,\"#d8576b\"],[0.6666666666666666,\"#ed7953\"],[0.7777777777777778,\"#fb9f3a\"],[0.8888888888888888,\"#fdca26\"],[1.0,\"#f0f921\"]],\"type\":\"histogram2d\"}],\"histogram2dcontour\":[{\"colorbar\":{\"outlinewidth\":0,\"ticks\":\"\"},\"colorscale\":[[0.0,\"#0d0887\"],[0.1111111111111111,\"#46039f\"],[0.2222222222222222,\"#7201a8\"],[0.3333333333333333,\"#9c179e\"],[0.4444444444444444,\"#bd3786\"],[0.5555555555555556,\"#d8576b\"],[0.6666666666666666,\"#ed7953\"],[0.7777777777777778,\"#fb9f3a\"],[0.8888888888888888,\"#fdca26\"],[1.0,\"#f0f921\"]],\"type\":\"histogram2dcontour\"}],\"mesh3d\":[{\"colorbar\":{\"outlinewidth\":0,\"ticks\":\"\"},\"type\":\"mesh3d\"}],\"parcoords\":[{\"line\":{\"colorbar\":{\"outlinewidth\":0,\"ticks\":\"\"}},\"type\":\"parcoords\"}],\"pie\":[{\"automargin\":true,\"type\":\"pie\"}],\"scatter\":[{\"marker\":{\"colorbar\":{\"outlinewidth\":0,\"ticks\":\"\"}},\"type\":\"scatter\"}],\"scatter3d\":[{\"line\":{\"colorbar\":{\"outlinewidth\":0,\"ticks\":\"\"}},\"marker\":{\"colorbar\":{\"outlinewidth\":0,\"ticks\":\"\"}},\"type\":\"scatter3d\"}],\"scattercarpet\":[{\"marker\":{\"colorbar\":{\"outlinewidth\":0,\"ticks\":\"\"}},\"type\":\"scattercarpet\"}],\"scattergeo\":[{\"marker\":{\"colorbar\":{\"outlinewidth\":0,\"ticks\":\"\"}},\"type\":\"scattergeo\"}],\"scattergl\":[{\"marker\":{\"colorbar\":{\"outlinewidth\":0,\"ticks\":\"\"}},\"type\":\"scattergl\"}],\"scattermapbox\":[{\"marker\":{\"colorbar\":{\"outlinewidth\":0,\"ticks\":\"\"}},\"type\":\"scattermapbox\"}],\"scatterpolar\":[{\"marker\":{\"colorbar\":{\"outlinewidth\":0,\"ticks\":\"\"}},\"type\":\"scatterpolar\"}],\"scatterpolargl\":[{\"marker\":{\"colorbar\":{\"outlinewidth\":0,\"ticks\":\"\"}},\"type\":\"scatterpolargl\"}],\"scatterternary\":[{\"marker\":{\"colorbar\":{\"outlinewidth\":0,\"ticks\":\"\"}},\"type\":\"scatterternary\"}],\"surface\":[{\"colorbar\":{\"outlinewidth\":0,\"ticks\":\"\"},\"colorscale\":[[0.0,\"#0d0887\"],[0.1111111111111111,\"#46039f\"],[0.2222222222222222,\"#7201a8\"],[0.3333333333333333,\"#9c179e\"],[0.4444444444444444,\"#bd3786\"],[0.5555555555555556,\"#d8576b\"],[0.6666666666666666,\"#ed7953\"],[0.7777777777777778,\"#fb9f3a\"],[0.8888888888888888,\"#fdca26\"],[1.0,\"#f0f921\"]],\"type\":\"surface\"}],\"table\":[{\"cells\":{\"fill\":{\"color\":\"#EBF0F8\"},\"line\":{\"color\":\"white\"}},\"header\":{\"fill\":{\"color\":\"#C8D4E3\"},\"line\":{\"color\":\"white\"}},\"type\":\"table\"}]},\"layout\":{\"annotationdefaults\":{\"arrowcolor\":\"#2a3f5f\",\"arrowhead\":0,\"arrowwidth\":1},\"autotypenumbers\":\"strict\",\"coloraxis\":{\"colorbar\":{\"outlinewidth\":0,\"ticks\":\"\"}},\"colorscale\":{\"diverging\":[[0,\"#8e0152\"],[0.1,\"#c51b7d\"],[0.2,\"#de77ae\"],[0.3,\"#f1b6da\"],[0.4,\"#fde0ef\"],[0.5,\"#f7f7f7\"],[0.6,\"#e6f5d0\"],[0.7,\"#b8e186\"],[0.8,\"#7fbc41\"],[0.9,\"#4d9221\"],[1,\"#276419\"]],\"sequential\":[[0.0,\"#0d0887\"],[0.1111111111111111,\"#46039f\"],[0.2222222222222222,\"#7201a8\"],[0.3333333333333333,\"#9c179e\"],[0.4444444444444444,\"#bd3786\"],[0.5555555555555556,\"#d8576b\"],[0.6666666666666666,\"#ed7953\"],[0.7777777777777778,\"#fb9f3a\"],[0.8888888888888888,\"#fdca26\"],[1.0,\"#f0f921\"]],\"sequentialminus\":[[0.0,\"#0d0887\"],[0.1111111111111111,\"#46039f\"],[0.2222222222222222,\"#7201a8\"],[0.3333333333333333,\"#9c179e\"],[0.4444444444444444,\"#bd3786\"],[0.5555555555555556,\"#d8576b\"],[0.6666666666666666,\"#ed7953\"],[0.7777777777777778,\"#fb9f3a\"],[0.8888888888888888,\"#fdca26\"],[1.0,\"#f0f921\"]]},\"colorway\":[\"#636efa\",\"#EF553B\",\"#00cc96\",\"#ab63fa\",\"#FFA15A\",\"#19d3f3\",\"#FF6692\",\"#B6E880\",\"#FF97FF\",\"#FECB52\"],\"font\":{\"color\":\"#2a3f5f\"},\"geo\":{\"bgcolor\":\"white\",\"lakecolor\":\"white\",\"landcolor\":\"#E5ECF6\",\"showlakes\":true,\"showland\":true,\"subunitcolor\":\"white\"},\"hoverlabel\":{\"align\":\"left\"},\"hovermode\":\"closest\",\"mapbox\":{\"style\":\"light\"},\"paper_bgcolor\":\"white\",\"plot_bgcolor\":\"#E5ECF6\",\"polar\":{\"angularaxis\":{\"gridcolor\":\"white\",\"linecolor\":\"white\",\"ticks\":\"\"},\"bgcolor\":\"#E5ECF6\",\"radialaxis\":{\"gridcolor\":\"white\",\"linecolor\":\"white\",\"ticks\":\"\"}},\"scene\":{\"xaxis\":{\"backgroundcolor\":\"#E5ECF6\",\"gridcolor\":\"white\",\"gridwidth\":2,\"linecolor\":\"white\",\"showbackground\":true,\"ticks\":\"\",\"zerolinecolor\":\"white\"},\"yaxis\":{\"backgroundcolor\":\"#E5ECF6\",\"gridcolor\":\"white\",\"gridwidth\":2,\"linecolor\":\"white\",\"showbackground\":true,\"ticks\":\"\",\"zerolinecolor\":\"white\"},\"zaxis\":{\"backgroundcolor\":\"#E5ECF6\",\"gridcolor\":\"white\",\"gridwidth\":2,\"linecolor\":\"white\",\"showbackground\":true,\"ticks\":\"\",\"zerolinecolor\":\"white\"}},\"shapedefaults\":{\"line\":{\"color\":\"#2a3f5f\"}},\"ternary\":{\"aaxis\":{\"gridcolor\":\"white\",\"linecolor\":\"white\",\"ticks\":\"\"},\"baxis\":{\"gridcolor\":\"white\",\"linecolor\":\"white\",\"ticks\":\"\"},\"bgcolor\":\"#E5ECF6\",\"caxis\":{\"gridcolor\":\"white\",\"linecolor\":\"white\",\"ticks\":\"\"}},\"title\":{\"x\":0.05},\"xaxis\":{\"automargin\":true,\"gridcolor\":\"white\",\"linecolor\":\"white\",\"ticks\":\"\",\"title\":{\"standoff\":15},\"zerolinecolor\":\"white\",\"zerolinewidth\":2},\"yaxis\":{\"automargin\":true,\"gridcolor\":\"white\",\"linecolor\":\"white\",\"ticks\":\"\",\"title\":{\"standoff\":15},\"zerolinecolor\":\"white\",\"zerolinewidth\":2}}},\"xaxis\":{\"anchor\":\"y\",\"domain\":[0.0,1.0]},\"yaxis\":{\"anchor\":\"x\",\"domain\":[0.0,1.0]}},                        {\"responsive\": true}                    ).then(function(){\n",
       "                            \n",
       "var gd = document.getElementById('781f5a96-e460-4436-815b-03f09224c6eb');\n",
       "var x = new MutationObserver(function (mutations, observer) {{\n",
       "        var display = window.getComputedStyle(gd).display;\n",
       "        if (!display || display === 'none') {{\n",
       "            console.log([gd, 'removed!']);\n",
       "            Plotly.purge(gd);\n",
       "            observer.disconnect();\n",
       "        }}\n",
       "}});\n",
       "\n",
       "// Listen for the removal of the full notebook cells\n",
       "var notebookContainer = gd.closest('#notebook-container');\n",
       "if (notebookContainer) {{\n",
       "    x.observe(notebookContainer, {childList: true});\n",
       "}}\n",
       "\n",
       "// Listen for the clearing of the current output cell\n",
       "var outputEl = gd.closest('.output');\n",
       "if (outputEl) {{\n",
       "    x.observe(outputEl, {childList: true});\n",
       "}}\n",
       "\n",
       "                        })                };                });            </script>        </div>"
      ]
     },
     "metadata": {},
     "output_type": "display_data"
    }
   ],
   "source": [
    "import plotly.express as px_p\n",
    "px_p.line()\n",
    "px_p.box()"
   ]
  },
  {
   "cell_type": "code",
   "execution_count": null,
   "id": "1c95a5fb-f990-4a3e-9faf-2c613a17480e",
   "metadata": {},
   "outputs": [],
   "source": []
  },
  {
   "cell_type": "code",
   "execution_count": null,
   "id": "f123dbb8-15d5-4bcb-bbc3-fd5ba6b39f0f",
   "metadata": {},
   "outputs": [],
   "source": []
  },
  {
   "cell_type": "markdown",
   "id": "cb5d901f-49f1-42c9-9b59-6398e70d6d98",
   "metadata": {},
   "source": [
    "# Others\n",
    "- workflow automation (win32com, autoemail)\n",
    "- webscraping"
   ]
  },
  {
   "cell_type": "code",
   "execution_count": 40,
   "id": "0883d96f-119b-4d72-9815-1272c1f1d5c2",
   "metadata": {},
   "outputs": [],
   "source": [
    "import win32com.client as wc\n",
    "\n",
    "outlook=wc.Dispatch(\"Outlook.Application\")\n",
    "mail=outlook.CreateItem(0)\n",
    "mail.To=To\n",
    "if Bcc!='':\n",
    "    mail.Bcc=Bcc\n",
    "mail.Subject=subject_pre_fix+' '+Subject\n",
    "mail.HTMLBody=Body"
   ]
  },
  {
   "cell_type": "code",
   "execution_count": 44,
   "id": "01c413f3-6f74-4817-9f74-498ef8d1c1bc",
   "metadata": {},
   "outputs": [
    {
     "ename": "TypeError",
     "evalue": "get() missing 1 required positional argument: 'url'",
     "output_type": "error",
     "traceback": [
      "\u001b[1;31m---------------------------------------------------------------------------\u001b[0m",
      "\u001b[1;31mTypeError\u001b[0m                                 Traceback (most recent call last)",
      "\u001b[1;32mC:\\Users\\DAVEHA~1\\AppData\\Local\\Temp/ipykernel_244972/3314614401.py\u001b[0m in \u001b[0;36m<module>\u001b[1;34m\u001b[0m\n\u001b[0;32m      3\u001b[0m \u001b[1;33m\u001b[0m\u001b[0m\n\u001b[0;32m      4\u001b[0m \u001b[0msession\u001b[0m \u001b[1;33m=\u001b[0m \u001b[0mrequests\u001b[0m\u001b[1;33m.\u001b[0m\u001b[0mSession\u001b[0m\u001b[1;33m(\u001b[0m\u001b[1;33m)\u001b[0m\u001b[1;33m\u001b[0m\u001b[0m\n\u001b[1;32m----> 5\u001b[1;33m \u001b[0msession\u001b[0m\u001b[1;33m.\u001b[0m\u001b[0mget\u001b[0m\u001b[1;33m(\u001b[0m\u001b[1;33m)\u001b[0m\u001b[1;33m\u001b[0m\u001b[0m\n\u001b[0m\u001b[0;32m      6\u001b[0m \u001b[0msoup\u001b[0m \u001b[1;33m=\u001b[0m \u001b[0mBeautifulSoup\u001b[0m\u001b[1;33m(\u001b[0m\u001b[0mresponse\u001b[0m\u001b[1;33m.\u001b[0m\u001b[0mcontent\u001b[0m\u001b[1;33m,\u001b[0m\u001b[0mfeatures\u001b[0m\u001b[1;33m=\u001b[0m\u001b[1;34m'lxml'\u001b[0m\u001b[1;33m)\u001b[0m\u001b[1;33m\u001b[0m\u001b[0m\n",
      "\u001b[1;31mTypeError\u001b[0m: get() missing 1 required positional argument: 'url'"
     ]
    }
   ],
   "source": [
    "import requests\n",
    "from bs4 import BeautifulSoup\n",
    "\n",
    "session = requests.Session()\n",
    "session.get()\n",
    "soup = BeautifulSoup(response.content,features='lxml')"
   ]
  },
  {
   "cell_type": "code",
   "execution_count": null,
   "id": "b8e03c8f-ac59-470c-b7fe-b30f11145a79",
   "metadata": {},
   "outputs": [],
   "source": []
  },
  {
   "cell_type": "markdown",
   "id": "8beb6c8e-b677-4751-af2b-e27b4349e343",
   "metadata": {},
   "source": [
    "# Basic python operation\n",
    "- list: comprehension\n",
    "- set: operation\n",
    "- dict:\n",
    "- loop: continue (next loop), pass (placeholder), break, enumerate\n",
    "- class: basic structure, inheritance\n",
    "- func (recursion)\n",
    "- module\n",
    "- error handling\n",
    "- calling script as itself or from other place"
   ]
  },
  {
   "cell_type": "code",
   "execution_count": 87,
   "id": "3b8a7547-5490-4a06-a256-9f916f6bd4d4",
   "metadata": {},
   "outputs": [
    {
     "name": "stdout",
     "output_type": "stream",
     "text": [
      "[(1, 'a'), (2, 'b'), (3, 'c')]\n",
      "{1: 'a', 2: 'b', 3: 'c'}\n"
     ]
    },
    {
     "data": {
      "text/plain": [
       "[1, 2, 3, 4, 5, 6, 7, 8, 9]"
      ]
     },
     "execution_count": 87,
     "metadata": {},
     "output_type": "execute_result"
    }
   ],
   "source": [
    "# list comprehension: all the usual stuff plus the below\n",
    "\n",
    "# zip to create \n",
    "list_a=[1,2,3]\n",
    "list_b=['a','b','c']\n",
    "print (list(zip(list_a,list_b)))\n",
    "print (dict(zip(list_a,list_b)))\n",
    "\n",
    "# flatten 2d to 1d (nested for loop)\n",
    "list_2d=[[1,2,3],[4,5,6],[7,8,9]]\n",
    "list_1d=[x for row in list_2d for x in row]\n",
    "list_1d"
   ]
  },
  {
   "cell_type": "code",
   "execution_count": 70,
   "id": "d013d4c4-1022-4d5c-b8fe-9207b90e8c40",
   "metadata": {},
   "outputs": [
    {
     "name": "stdout",
     "output_type": "stream",
     "text": [
      "{1}\n",
      "{4}\n",
      "{1, 2, 3, 4}\n",
      "{2, 3}\n",
      "{1, 4}\n"
     ]
    }
   ],
   "source": [
    "# set operation\n",
    "set_1={1,2,3}\n",
    "set_2=set([2,3,4])\n",
    "\n",
    "print (set_1-set_2) # in 1 not in 2\n",
    "print (set_2-set_1) # in 2 not in 1\n",
    "print (set_1.union(set_2))\n",
    "print (set_1.intersection(set_2))\n",
    "print (set_1.symmetric_difference(set_2))"
   ]
  },
  {
   "cell_type": "code",
   "execution_count": 86,
   "id": "35b9a6ac-37d9-4be3-bf44-71c36ec82c49",
   "metadata": {},
   "outputs": [
    {
     "name": "stdout",
     "output_type": "stream",
     "text": [
      "['c', 'b', 'a']\n"
     ]
    }
   ],
   "source": [
    "list_b.sort(reverse=True)\n",
    "print (list_b)"
   ]
  },
  {
   "cell_type": "code",
   "execution_count": 95,
   "id": "043c6b19-f8f1-41ee-a66a-43426a1f65fa",
   "metadata": {},
   "outputs": [
    {
     "name": "stdout",
     "output_type": "stream",
     "text": [
      "[1, 2, 3, 5, 8, 9]\n"
     ]
    }
   ],
   "source": [
    "def bubble_sort(arr):\n",
    "    n = len(arr)\n",
    "    for i in range(n - 1):\n",
    "        # Last i elements are already in place\n",
    "        for j in range(n - i - 1):\n",
    "            # Swap adjacent elements if they are in the wrong order\n",
    "            if arr[j] > arr[j + 1]:\n",
    "                arr[j], arr[j + 1] = arr[j + 1], arr[j]\n",
    "\n",
    "# Example usage\n",
    "numbers = [5, 2, 8, 1, 9, 3]\n",
    "bubble_sort(numbers)\n",
    "print(numbers)  # Output: [1, 2, 3, 5, 8, 9]"
   ]
  },
  {
   "cell_type": "code",
   "execution_count": 96,
   "id": "867790de-3325-4de7-a02a-f10735a337ae",
   "metadata": {},
   "outputs": [],
   "source": [
    "numbers[0],numbers[3]=numbers[3],numbers[0]"
   ]
  },
  {
   "cell_type": "code",
   "execution_count": 97,
   "id": "a539fd4c-baba-4030-81be-9ec7c178d340",
   "metadata": {},
   "outputs": [
    {
     "data": {
      "text/plain": [
       "[5, 2, 3, 1, 8, 9]"
      ]
     },
     "execution_count": 97,
     "metadata": {},
     "output_type": "execute_result"
    }
   ],
   "source": [
    "numbers"
   ]
  },
  {
   "cell_type": "code",
   "execution_count": 98,
   "id": "57a261e2-1de1-467e-8f76-e33be773ece4",
   "metadata": {},
   "outputs": [
    {
     "name": "stdout",
     "output_type": "stream",
     "text": [
      "my name is dave\n"
     ]
    }
   ],
   "source": [
    "class TEST():\n",
    "    def __init__(self,name):\n",
    "        self.name=name\n",
    "    def print_name(self):\n",
    "        print ('my name is %s' % (self.name))\n",
    "        \n",
    "dave=TEST('dave')\n",
    "dave.print_name()\n"
   ]
  },
  {
   "cell_type": "code",
   "execution_count": 100,
   "id": "6f463874-0a5b-4f2d-a964-e4e31e8277b0",
   "metadata": {},
   "outputs": [
    {
     "name": "stdout",
     "output_type": "stream",
     "text": [
      "ok\n"
     ]
    }
   ],
   "source": [
    "if __name__=='__main__':\n",
    "    print ('ok')"
   ]
  },
  {
   "cell_type": "code",
   "execution_count": null,
   "id": "16b14e72-7726-47a8-8929-e656edff785b",
   "metadata": {},
   "outputs": [],
   "source": []
  },
  {
   "cell_type": "code",
   "execution_count": null,
   "id": "56d10a87-8f69-4fa6-b26f-3ea631b4e549",
   "metadata": {},
   "outputs": [],
   "source": []
  },
  {
   "cell_type": "markdown",
   "id": "704a464f-b741-436d-b741-a94493f04134",
   "metadata": {},
   "source": [
    "# Environment setup\n",
    "- virtual env\n",
    "    - conda create --name myenv\n",
    "- setup path\n",
    "- package installation (pip vs. conda)"
   ]
  },
  {
   "cell_type": "code",
   "execution_count": null,
   "id": "898222ac-dd49-4b91-a85a-f8a8c55ec65c",
   "metadata": {},
   "outputs": [],
   "source": []
  },
  {
   "cell_type": "markdown",
   "id": "a6d223c0-7a12-4609-a3c3-6996c87c6afd",
   "metadata": {},
   "source": [
    "# Factor definition\n",
    "- Market related\n",
    "    - FX beta: rs=a+b1*mkt+b2*rate\n",
    "    - market beta: just CAPM\n",
    "    - liquidity (vol/marcap)\n",
    "    - momentum (12m-1m)\n",
    "    - size: just market cap\n",
    "    - volatility: just rv (to make it simple)\n",
    "- Fundamental\n",
    "    - value: P/B, earnings yld (eps/p)\n",
    "    - leverage: debt to equity, debt to asset\n",
    "    - growth: earnings growth, sales growth (regression extrapolated)\n",
    "    - profitability: ROE, ROA, CF to income, Gross margin, sales to asset (turnover)\n",
    "    - div yield\n",
    "- then we also have sector"
   ]
  },
  {
   "cell_type": "code",
   "execution_count": null,
   "id": "088c82ee-4a75-4c20-bc9f-e4eaea5320d1",
   "metadata": {},
   "outputs": [],
   "source": []
  },
  {
   "cell_type": "markdown",
   "id": "3923295b-7bb0-4f36-945a-94a67957dbd3",
   "metadata": {},
   "source": [
    "# Factor performance\n",
    "- Japan\n",
    "    - work:  div, value\n",
    "    - not work: mom, high vol, high leverage\n",
    "- China A & H\n",
    "    - work: momentum, revision\n",
    "    - not work: size, quality\n",
    "- China H:\n",
    "    - work: momentum, revision\n",
    "    - not work: high vol\n",
    "- APAC:\n",
    "    - work: revision, momentum\n",
    "    - not work: high vol, large cap"
   ]
  },
  {
   "cell_type": "code",
   "execution_count": null,
   "id": "daa4e233-a25b-40d4-879e-52975fdcbb61",
   "metadata": {},
   "outputs": [],
   "source": []
  },
  {
   "cell_type": "markdown",
   "id": "ff626a21-9149-486b-ba73-c982a0006c7d",
   "metadata": {},
   "source": [
    "# Multi-factor model\n",
    "- how do you combine factor?\n",
    "    - high turnover factor vs. low turnover (can downweight the high turnover one so that the monthly rebalance won't change easily)\n",
    "- factor that works in different market maybe different?"
   ]
  },
  {
   "cell_type": "code",
   "execution_count": null,
   "id": "510f966b-788a-4509-9294-44e8830b4bd1",
   "metadata": {},
   "outputs": [],
   "source": []
  },
  {
   "cell_type": "markdown",
   "id": "b376efd5-a2e4-4e70-b9c3-a4bd2c177257",
   "metadata": {},
   "source": [
    "# Others\n",
    "- exponential weighting\n",
    "- rolling window with user defined weight (rolling, apply, np.dot)\n",
    "- linearly decay weight: np.linspace\n",
    "- exponential decay with hl input: np.log(0.5)/hl"
   ]
  },
  {
   "cell_type": "code",
   "execution_count": null,
   "id": "29517f7e-273d-4af1-894f-ec9436a716c2",
   "metadata": {},
   "outputs": [],
   "source": [
    "pd.DataFrame.ewm()"
   ]
  },
  {
   "cell_type": "code",
   "execution_count": null,
   "id": "0ba329a8-8595-44f3-91c0-a6048dcbe505",
   "metadata": {},
   "outputs": [],
   "source": [
    "weight_window=[0,1,0.2,0.3,0.4]\n",
    "pd.DataFrame.rolling().apply(lambda x: np.dot(x,weight_window))"
   ]
  },
  {
   "cell_type": "code",
   "execution_count": 24,
   "id": "203feb09-59c7-4909-9fa4-c1e8d99d7c02",
   "metadata": {},
   "outputs": [],
   "source": [
    "data = {'Value': [10, 12, 15, 14, 16, 18, 20]}\n",
    "df = pd.DataFrame(data)\n",
    "\n",
    "# Define the length of the series\n",
    "series_length = len(df)\n",
    "\n",
    "weights = np.linspace(0, 1, series_length)\n",
    "weights = np.where(weights < 0.5, weights * 2, (1 - weights) * 2)"
   ]
  },
  {
   "cell_type": "code",
   "execution_count": 37,
   "id": "ce0f4c28-0c2b-48c2-a148-4f360f1fea70",
   "metadata": {},
   "outputs": [
    {
     "data": {
      "text/plain": [
       "<matplotlib.axes._subplots.AxesSubplot at 0x20838100128>"
      ]
     },
     "execution_count": 37,
     "metadata": {},
     "output_type": "execute_result"
    },
    {
     "data": {
      "image/png": "[encoded data removed]",
      "text/plain": [
       "<Figure size 432x288 with 1 Axes>"
      ]
     },
     "metadata": {
      "needs_background": "light"
     },
     "output_type": "display_data"
    }
   ],
   "source": [
    "window_wgt=list(np.linspace(0, 1, 5))+[1 for i in np.arange(0,10)]+list(np.linspace(1, 0, 5))\n",
    "window_wgt=np.array(window_wgt)\n",
    "pd.Series(window_wgt/window_wgt.sum()).plot()"
   ]
  },
  {
   "cell_type": "code",
   "execution_count": null,
   "id": "31a50fce-da0c-46c3-9780-7046ac661f6e",
   "metadata": {},
   "outputs": [],
   "source": []
  },
  {
   "cell_type": "code",
   "execution_count": 4,
   "id": "2ad78bec-3e5c-4c65-bafc-5fa2fb7d8528",
   "metadata": {},
   "outputs": [
    {
     "name": "stdout",
     "output_type": "stream",
     "text": [
      "[0.33473511 0.23669346 0.16736755 0.11834673 0.08368378 0.05917337]\n"
     ]
    }
   ],
   "source": [
    "N = 6\n",
    "\n",
    "# Define the half-life\n",
    "hf = 2\n",
    "\n",
    "# Calculate the decay factor from the half-life\n",
    "decay_factor = np.log(0.5) / hf \n",
    "\n",
    "# Calculate the exponentially decayed weights\n",
    "weights = np.exp(decay_factor * np.arange(N))\n",
    "weights /= np.sum(weights)\n",
    "\n",
    "print(weights)"
   ]
  },
  {
   "cell_type": "code",
   "execution_count": 5,
   "id": "5df46802-61fc-4731-ad4b-f4658cb9030b",
   "metadata": {},
   "outputs": [
    {
     "data": {
      "text/plain": [
       "-0.34657359027997264"
      ]
     },
     "execution_count": 5,
     "metadata": {},
     "output_type": "execute_result"
    }
   ],
   "source": [
    "decay_factor"
   ]
  },
  {
   "cell_type": "code",
   "execution_count": 40,
   "id": "0c8e10de-7e36-47f2-8e1f-fb830e5ff78d",
   "metadata": {},
   "outputs": [
    {
     "data": {
      "text/plain": [
       "array([1.        , 0.70710678, 0.5       , 0.35355339, 0.25      ,\n",
       "       0.1767767 ])"
      ]
     },
     "execution_count": 40,
     "metadata": {},
     "output_type": "execute_result"
    }
   ],
   "source": [
    "np.exp(decay_factor * np.arange(N))"
   ]
  },
  {
   "cell_type": "code",
   "execution_count": 48,
   "id": "52944392-e0a8-41f3-82cf-865552bfe077",
   "metadata": {},
   "outputs": [
    {
     "data": {
      "text/plain": [
       "array([0.        , 0.06666667, 0.13333333, 0.2       , 0.26666667,\n",
       "       0.33333333])"
      ]
     },
     "execution_count": 48,
     "metadata": {},
     "output_type": "execute_result"
    }
   ],
   "source": [
    "wgt=np.linspace(0,1,num=6)\n",
    "wgt/wgt.sum()"
   ]
  },
  {
   "cell_type": "code",
   "execution_count": null,
   "id": "f0926634-a4fc-47ea-bef9-56816e007149",
   "metadata": {},
   "outputs": [],
   "source": []
  },
  {
   "cell_type": "code",
   "execution_count": null,
   "id": "adfb701c-219c-4386-80a1-19da2de947b5",
   "metadata": {},
   "outputs": [],
   "source": []
  },
  {
   "cell_type": "code",
   "execution_count": 51,
   "id": "7117cff5-de5c-4888-b525-dbf4e231dc4b",
   "metadata": {},
   "outputs": [
    {
     "data": {
      "text/plain": [
       "<function numpy.linspace(start, stop, num=50, endpoint=True, retstep=False, dtype=None, axis=0)>"
      ]
     },
     "execution_count": 51,
     "metadata": {},
     "output_type": "execute_result"
    }
   ],
   "source": [
    "np.linalg.inv\n",
    "np.arange\n",
    "np.linspace"
   ]
  },
  {
   "cell_type": "code",
   "execution_count": 59,
   "id": "15d15a99-9f85-415f-bcbe-ba10fabb1f2e",
   "metadata": {},
   "outputs": [],
   "source": [
    "decay_factor=np.log(0.5)/4"
   ]
  },
  {
   "cell_type": "code",
   "execution_count": 61,
   "id": "1a9d7d87-3655-4030-bc52-3cd3539c907f",
   "metadata": {},
   "outputs": [
    {
     "data": {
      "text/plain": [
       "array([1.        , 0.84089642, 0.70710678, 0.59460356, 0.5       ,\n",
       "       0.42044821, 0.35355339, 0.29730178, 0.25      , 0.2102241 ])"
      ]
     },
     "execution_count": 61,
     "metadata": {},
     "output_type": "execute_result"
    }
   ],
   "source": [
    "np.exp(decay_factor*np.arange(10))"
   ]
  },
  {
   "cell_type": "code",
   "execution_count": null,
   "id": "70f0ef25-e552-437d-b4ea-287c685b5385",
   "metadata": {},
   "outputs": [],
   "source": []
  },
  {
   "cell_type": "code",
   "execution_count": null,
   "id": "27ba216f-6918-4d4f-af42-298f0e5c5134",
   "metadata": {},
   "outputs": [],
   "source": []
  },
  {
   "cell_type": "markdown",
   "id": "42286f39-9ddd-47d3-8de1-50c2f9e9fbda",
   "metadata": {},
   "source": [
    "# BBG related\n",
    "- calendarization\n",
    "- Annual: beat/miss/guidance alignment (important)\n",
    "- Quarterly beat/miss/guidance (TODO)\n",
    "- for JP, key data point would be guid fy1 beat est fy1 (guid fy1 will move to next fiscal year after annual announcement)"
   ]
  },
  {
   "cell_type": "code",
   "execution_count": 2,
   "id": "9688bfd8-11ae-49e7-958f-9836cb4572cf",
   "metadata": {},
   "outputs": [],
   "source": [
    "from datetime import datetime\n",
    "from utilities.misc import iterate_csv,yesterday_date,today_date\n",
    "\n",
    "ticker='9432 JP Equity'\n",
    "field='BEST_NET_INCOME'\n",
    "step_bday=5\n",
    "output_fy=[0,1,2]\n",
    "start_year=2010\n",
    "\n",
    "\n",
    "end_year=today_date().year+3\n",
    "years=np.arange(start_year,end_year+1)\n",
    "announcement_dts=pd.DataFrame()\n",
    "collector=[]\n",
    "for year in years:\n",
    "    res=bdp([ticker],['ANNOUNCEMENT_DT'],overrides={'EQY_FUND_YEAR':year,'FUND_PER':'Y'})\n",
    "    res['fy']=year\n",
    "    collector.append(res)\n",
    "announcement_dts=pd.concat(collector,0)\n",
    "delta=announcement_dts.dropna().diff().iloc[-1].values[0]\n",
    "announcement_dts=announcement_dts.set_index('fy')\n",
    "announcement_dts=announcement_dts.fillna(0)\n",
    "\n",
    "for i,fy in enumerate(announcement_dts.index):\n",
    "    if announcement_dts.loc[fy]['ANNOUNCEMENT_DT']==0:\n",
    "        try:\n",
    "            announcement_dts.at[fy,'ANNOUNCEMENT_DT']=announcement_dts.loc[fy-1]['ANNOUNCEMENT_DT']+delta\n",
    "        except KeyError:\n",
    "            continue\n",
    "\n",
    "announcement_dts=announcement_dts[announcement_dts['ANNOUNCEMENT_DT']!=0]\n",
    "\n",
    "announcement_dts['ANNOUNCEMENT_DT']=pd.to_datetime(announcement_dts['ANNOUNCEMENT_DT'])\n",
    "announcement_dts=announcement_dts.reset_index().set_index('ANNOUNCEMENT_DT')\n",
    "announcement_dts_d=announcement_dts.resample('D').last().fillna(method='bfill') # need bfill!\n",
    "#get the fiscal year 20xx EPS estimate\n",
    "all_ts=pd.DataFrame()\n",
    "collector=[]\n",
    "for year in years:\n",
    "    try:\n",
    "        fperiod='%sY' % (year-2000)\n",
    "        ts=bdh([ticker],[field],datetime(2000,1,1),today_date(),overrides={'BEST_FPERIOD_OVERRIDE':fperiod}).loc[ticker]\n",
    "        ts['fy']=year\n",
    "        ts['next_fy_asof_now']=announcement_dts_d['fy'] # this ensures when the date moves to next fy the fy column changes accordingly\n",
    "        ts=ts.resample('B').last().fillna(method='ffill')\n",
    "        ts['%s_%s_revision' % (field,step_bday)]=ts[field].pct_change(step_bday)\n",
    "        collector.append(ts)\n",
    "    except:\n",
    "        print ('No data for %s on FY %s' % (ticker,year))\n",
    "all_ts=pd.concat(collector,0)\n",
    "output=all_ts.dropna().copy()\n",
    "output['fy_rel']=output['fy']-output['next_fy_asof_now']\n",
    "output=output.reset_index().set_index(['date','fy_rel'])\n",
    "output_level=output.reset_index().groupby(['date','fy_rel']).mean().sort_index()[field].unstack()[output_fy]\n",
    "output_revision=output.reset_index().groupby(['date','fy_rel']).mean().sort_index()['%s_%s_revision' % (field,step_bday)].unstack()[output_fy]"
   ]
  },
  {
   "cell_type": "code",
   "execution_count": 54,
   "id": "13c08b72-3558-4ea9-a816-713e8c85b689",
   "metadata": {},
   "outputs": [],
   "source": [
    "# beat/miss/estimate/reported/guidance alignment\n",
    "# need to be careful about the missing guidance data\n",
    "# need to align data point by checking for same year month\n",
    "# also note the conservative guidance vs. estimate\n",
    "# maybe not to ffill current guidance data so that we can track guidance upgrade/downgrade (guidance momentum)\n",
    "\n",
    "# can also add stdev\n",
    "\n",
    "ticker='7267 JP Equity'\n",
    "\n",
    "field_dict={\n",
    "            'est':'BEST_NET_INCOME',\n",
    "            'rpt':'IS_COMP_NET_INCOME_ADJUST',\n",
    "            'guid':'CEST_NETINCME_G',\n",
    "           }\n",
    "fy=2022\n",
    "fperiod='%sY' % (fy-2000)\n",
    "fperiod_next='%sY' % (fy-2000+1)\n",
    "\n",
    "ts=bdh([ticker],[field_dict['est'],field_dict['guid']],datetime(2000,1,1),um.today_date(),overrides={'BEST_FPERIOD_OVERRIDE':fperiod})\n",
    "ts=ts.loc[ticker].fillna(method='ffill').resample('B').last().fillna(method='ffill')#.plot()\n",
    "\n",
    "rpt_stats=bdp([ticker],['ANNOUNCEMENT_DT',field_dict['rpt']],overrides={'EQY_FUND_YEAR':fy,'FUND_PER':'Y'})\n",
    "\n",
    "ts_next=bdh([ticker],[field_dict['guid']],datetime(2000,1,1),um.today_date(),overrides={'BEST_FPERIOD_OVERRIDE':fperiod_next})"
   ]
  },
  {
   "cell_type": "code",
   "execution_count": 59,
   "id": "8c35cc5c-6cff-49c8-b7bc-ab3a73aaaaf4",
   "metadata": {},
   "outputs": [
    {
     "data": {
      "text/plain": [
       "<matplotlib.axes._subplots.AxesSubplot at 0x213819b7908>"
      ]
     },
     "execution_count": 59,
     "metadata": {},
     "output_type": "execute_result"
    },
    {
     "data": {
      "image/png": "[encoded data removed]",
      "text/plain": [
       "<Figure size 432x288 with 1 Axes>"
      ]
     },
     "metadata": {
      "needs_background": "light"
     },
     "output_type": "display_data"
    }
   ],
   "source": [
    "ts.dropna().plot(title=fy)"
   ]
  },
  {
   "cell_type": "code",
   "execution_count": 60,
   "id": "e4dc0fe3-66a7-4eb2-8005-e3156aee066d",
   "metadata": {},
   "outputs": [
    {
     "data": {
      "text/html": [
       "<div>\n",
       "<style scoped>\n",
       "    .dataframe tbody tr th:only-of-type {\n",
       "        vertical-align: middle;\n",
       "    }\n",
       "\n",
       "    .dataframe tbody tr th {\n",
       "        vertical-align: top;\n",
       "    }\n",
       "\n",
       "    .dataframe thead th {\n",
       "        text-align: right;\n",
       "    }\n",
       "</style>\n",
       "<table border=\"1\" class=\"dataframe\">\n",
       "  <thead>\n",
       "    <tr style=\"text-align: right;\">\n",
       "      <th></th>\n",
       "      <th>ANNOUNCEMENT_DT</th>\n",
       "      <th>IS_COMP_NET_INCOME_ADJUST</th>\n",
       "    </tr>\n",
       "  </thead>\n",
       "  <tbody>\n",
       "    <tr>\n",
       "      <th>7267 JP Equity</th>\n",
       "      <td>2022-05-13</td>\n",
       "      <td>707067</td>\n",
       "    </tr>\n",
       "  </tbody>\n",
       "</table>\n",
       "</div>"
      ],
      "text/plain": [
       "               ANNOUNCEMENT_DT IS_COMP_NET_INCOME_ADJUST\n",
       "7267 JP Equity      2022-05-13                    707067"
      ]
     },
     "execution_count": 60,
     "metadata": {},
     "output_type": "execute_result"
    }
   ],
   "source": [
    "rpt_stats"
   ]
  },
  {
   "cell_type": "code",
   "execution_count": 61,
   "id": "16317856-b1fa-4400-896b-a615111a508a",
   "metadata": {},
   "outputs": [
    {
     "data": {
      "text/html": [
       "<div>\n",
       "<style scoped>\n",
       "    .dataframe tbody tr th:only-of-type {\n",
       "        vertical-align: middle;\n",
       "    }\n",
       "\n",
       "    .dataframe tbody tr th {\n",
       "        vertical-align: top;\n",
       "    }\n",
       "\n",
       "    .dataframe thead th {\n",
       "        text-align: right;\n",
       "    }\n",
       "</style>\n",
       "<table border=\"1\" class=\"dataframe\">\n",
       "  <thead>\n",
       "    <tr style=\"text-align: right;\">\n",
       "      <th></th>\n",
       "      <th>BEST_NET_INCOME</th>\n",
       "      <th>CEST_NETINCME_G</th>\n",
       "    </tr>\n",
       "    <tr>\n",
       "      <th>date</th>\n",
       "      <th></th>\n",
       "      <th></th>\n",
       "    </tr>\n",
       "  </thead>\n",
       "  <tbody>\n",
       "    <tr>\n",
       "      <th>2022-05-05</th>\n",
       "      <td>694302.286</td>\n",
       "      <td>670000.0</td>\n",
       "    </tr>\n",
       "    <tr>\n",
       "      <th>2022-05-06</th>\n",
       "      <td>695254.667</td>\n",
       "      <td>670000.0</td>\n",
       "    </tr>\n",
       "    <tr>\n",
       "      <th>2022-05-09</th>\n",
       "      <td>695254.667</td>\n",
       "      <td>670000.0</td>\n",
       "    </tr>\n",
       "    <tr>\n",
       "      <th>2022-05-10</th>\n",
       "      <td>692894.286</td>\n",
       "      <td>670000.0</td>\n",
       "    </tr>\n",
       "    <tr>\n",
       "      <th>2022-05-11</th>\n",
       "      <td>692872.333</td>\n",
       "      <td>670000.0</td>\n",
       "    </tr>\n",
       "  </tbody>\n",
       "</table>\n",
       "</div>"
      ],
      "text/plain": [
       "            BEST_NET_INCOME  CEST_NETINCME_G\n",
       "date                                        \n",
       "2022-05-05       694302.286         670000.0\n",
       "2022-05-06       695254.667         670000.0\n",
       "2022-05-09       695254.667         670000.0\n",
       "2022-05-10       692894.286         670000.0\n",
       "2022-05-11       692872.333         670000.0"
      ]
     },
     "execution_count": 61,
     "metadata": {},
     "output_type": "execute_result"
    }
   ],
   "source": [
    "ts.dropna().tail()"
   ]
  },
  {
   "cell_type": "code",
   "execution_count": 62,
   "id": "d7b91f39-9606-4a41-b328-7d4367870edc",
   "metadata": {},
   "outputs": [
    {
     "data": {
      "text/html": [
       "<div>\n",
       "<style scoped>\n",
       "    .dataframe tbody tr th:only-of-type {\n",
       "        vertical-align: middle;\n",
       "    }\n",
       "\n",
       "    .dataframe tbody tr th {\n",
       "        vertical-align: top;\n",
       "    }\n",
       "\n",
       "    .dataframe thead th {\n",
       "        text-align: right;\n",
       "    }\n",
       "</style>\n",
       "<table border=\"1\" class=\"dataframe\">\n",
       "  <thead>\n",
       "    <tr style=\"text-align: right;\">\n",
       "      <th></th>\n",
       "      <th></th>\n",
       "      <th>CEST_NETINCME_G</th>\n",
       "    </tr>\n",
       "    <tr>\n",
       "      <th>ticker</th>\n",
       "      <th>date</th>\n",
       "      <th></th>\n",
       "    </tr>\n",
       "  </thead>\n",
       "  <tbody>\n",
       "    <tr>\n",
       "      <th rowspan=\"4\" valign=\"top\">7267 JP Equity</th>\n",
       "      <th>2022-05-13</th>\n",
       "      <td>710000.0</td>\n",
       "    </tr>\n",
       "    <tr>\n",
       "      <th>2022-08-10</th>\n",
       "      <td>710000.0</td>\n",
       "    </tr>\n",
       "    <tr>\n",
       "      <th>2022-11-09</th>\n",
       "      <td>725000.0</td>\n",
       "    </tr>\n",
       "    <tr>\n",
       "      <th>2023-02-10</th>\n",
       "      <td>725000.0</td>\n",
       "    </tr>\n",
       "  </tbody>\n",
       "</table>\n",
       "</div>"
      ],
      "text/plain": [
       "                           CEST_NETINCME_G\n",
       "ticker         date                       \n",
       "7267 JP Equity 2022-05-13         710000.0\n",
       "               2022-08-10         710000.0\n",
       "               2022-11-09         725000.0\n",
       "               2023-02-10         725000.0"
      ]
     },
     "execution_count": 62,
     "metadata": {},
     "output_type": "execute_result"
    }
   ],
   "source": [
    "ts_next"
   ]
  },
  {
   "cell_type": "code",
   "execution_count": null,
   "id": "0bbbe55d-c366-4a08-969d-761a9bcc94c2",
   "metadata": {},
   "outputs": [],
   "source": []
  },
  {
   "cell_type": "code",
   "execution_count": null,
   "id": "aec78c9f-0058-439a-b63c-4083359d90c5",
   "metadata": {},
   "outputs": [],
   "source": []
  },
  {
   "cell_type": "code",
   "execution_count": null,
   "id": "0d7af940-afca-4a19-bd9c-9cd02f522c9c",
   "metadata": {},
   "outputs": [],
   "source": []
  },
  {
   "cell_type": "code",
   "execution_count": null,
   "id": "6cda2d45-eb51-4813-bfe5-8b8f9c5e7d72",
   "metadata": {},
   "outputs": [],
   "source": []
  },
  {
   "cell_type": "code",
   "execution_count": null,
   "id": "e10cdc67-928a-43de-b29b-142687ad800c",
   "metadata": {},
   "outputs": [],
   "source": []
  },
  {
   "cell_type": "code",
   "execution_count": null,
   "id": "28ba7fa7-fe88-42d5-8fea-f17e08a4551f",
   "metadata": {},
   "outputs": [],
   "source": []
  },
  {
   "cell_type": "code",
   "execution_count": null,
   "id": "8ceb542b-8964-46f3-a3bd-1845a51dc822",
   "metadata": {},
   "outputs": [],
   "source": []
  },
  {
   "cell_type": "code",
   "execution_count": null,
   "id": "54272022-54f3-441d-9934-fdbbd072222f",
   "metadata": {},
   "outputs": [],
   "source": []
  },
  {
   "cell_type": "code",
   "execution_count": null,
   "id": "0b6e39f9-e33c-4e70-9bc4-02449cf478fa",
   "metadata": {},
   "outputs": [],
   "source": []
  },
  {
   "cell_type": "code",
   "execution_count": null,
   "id": "66916db9-4fd8-4045-ae6d-4fa9348c8a16",
   "metadata": {},
   "outputs": [],
   "source": []
  }
 ],
 "metadata": {
  "kernelspec": {
   "display_name": "Python 3 (ipykernel)",
   "language": "python",
   "name": "python3"
  },
  "language_info": {
   "codemirror_mode": {
    "name": "ipython",
    "version": 3
   },
   "file_extension": ".py",
   "mimetype": "text/x-python",
   "name": "python",
   "nbconvert_exporter": "python",
   "pygments_lexer": "ipython3",
   "version": "3.7.0"
  },
  "toc-showmarkdowntxt": true
 },
 "nbformat": 4,
 "nbformat_minor": 5
}
